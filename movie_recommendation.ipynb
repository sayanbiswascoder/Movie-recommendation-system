{
  "nbformat": 4,
  "nbformat_minor": 0,
  "metadata": {
    "colab": {
      "provenance": [],
      "collapsed_sections": [
        "MgXObyHhRKtH"
      ],
      "authorship_tag": "ABX9TyOmo1VeLjc9i+Qpx8A9rHyM",
      "include_colab_link": true
    },
    "kernelspec": {
      "name": "python3",
      "display_name": "Python 3"
    },
    "language_info": {
      "name": "python"
    }
  },
  "cells": [
    {
      "cell_type": "markdown",
      "metadata": {
        "id": "view-in-github",
        "colab_type": "text"
      },
      "source": [
        "<a href=\"https://colab.research.google.com/github/sayanbiswascoder/Movie-recommendation-system/blob/main/movie_recommendation.ipynb\" target=\"_parent\"><img src=\"https://colab.research.google.com/assets/colab-badge.svg\" alt=\"Open In Colab\"/></a>"
      ]
    },
    {
      "cell_type": "markdown",
      "source": [
        "# **Movie Recommendation System**"
      ],
      "metadata": {
        "id": "0WDLwzBA8R6y"
      }
    },
    {
      "cell_type": "markdown",
      "source": [
        "## **Objective**"
      ],
      "metadata": {
        "id": "MgXObyHhRKtH"
      }
    },
    {
      "cell_type": "markdown",
      "source": [
        "**Recommender System** is a system that seeks to predict or fllter preferences according to the user's choices, Recommender systems are\n",
        "utilized in a variety of areas, including movies, music, news, books, research articles, search queries, social tags, and products in general.\n",
        "Recommender systems produce a list of recommendations in either of the two ways —\n",
        "\n",
        "**Collaborative filtering:** Collaborative filtering approaches build a model from the user's past behavior (i.e. items purchased or searched by the\n",
        "user) as well as similar decisions made by other USetS. This model is then used to predict items (of ratings for items) that USefS may have an\n",
        "interest in.\n",
        "\n",
        "**Content-based filtering:** Content-based filtering approaches use a series of discrete characteristics of an item in order to recommend\n",
        "additional items with similar properties- Content-based filtering methods are totally based on a description of the item and a profile of the user's\n",
        "preferences. It recommends items based on the user's past preferences. Let's develop a basic recommendation system using Python and\n",
        "Pandas.\n",
        "\n",
        "Let's develop a basic recommendation system by suggesting items that are most similar to a particular item, in this case, movies. It just tells\n",
        "What movies/items are most similar to the user's movie choice."
      ],
      "metadata": {
        "id": "kZdhgUtPRXMt"
      }
    },
    {
      "cell_type": "markdown",
      "source": [
        "## **Import Library**"
      ],
      "metadata": {
        "id": "31haWEWd8zLh"
      }
    },
    {
      "cell_type": "code",
      "execution_count": null,
      "metadata": {
        "id": "hB71_dju8QX1"
      },
      "outputs": [],
      "source": [
        "import pandas as pd"
      ]
    },
    {
      "cell_type": "code",
      "source": [
        "import difflib"
      ],
      "metadata": {
        "id": "mppjmr5-MX6j"
      },
      "execution_count": null,
      "outputs": []
    },
    {
      "cell_type": "code",
      "source": [
        "from sklearn.feature_extraction.text import TfidfVectorizer\n",
        "from sklearn.metrics.pairwise import cosine_similarity\n",
        "\n",
        "tfidf = TfidfVectorizer()"
      ],
      "metadata": {
        "id": "-_rhZ9KdF68K"
      },
      "execution_count": null,
      "outputs": []
    },
    {
      "cell_type": "markdown",
      "source": [
        "## **Import Data**"
      ],
      "metadata": {
        "id": "ReSIhTbm9Djl"
      }
    },
    {
      "cell_type": "code",
      "source": [
        "dataframe = pd.read_csv(\"https://raw.githubusercontent.com/YBIFoundation/Dataset/refs/heads/main/Movies%20Recommendation.csv\")"
      ],
      "metadata": {
        "id": "rUX3JVl29Gn5"
      },
      "execution_count": null,
      "outputs": []
    },
    {
      "cell_type": "markdown",
      "source": [
        "**Data Description**"
      ],
      "metadata": {
        "id": "VunBqlaM-rSO"
      }
    },
    {
      "cell_type": "code",
      "source": [
        "dataframe.head()"
      ],
      "metadata": {
        "colab": {
          "base_uri": "https://localhost:8080/",
          "height": 654
        },
        "id": "_T9nBcYf9qKm",
        "outputId": "434281c4-0639-4cd3-eb25-cf8ec00e9088"
      },
      "execution_count": null,
      "outputs": [
        {
          "output_type": "execute_result",
          "data": {
            "text/plain": [
              "   Movie_ID      Movie_Title                       Movie_Genre Movie_Language  \\\n",
              "0         1       Four Rooms                      Crime Comedy             en   \n",
              "1         2        Star Wars  Adventure Action Science Fiction             en   \n",
              "2         3     Finding Nemo                  Animation Family             en   \n",
              "3         4     Forrest Gump              Comedy Drama Romance             en   \n",
              "4         5  American Beauty                             Drama             en   \n",
              "\n",
              "   Movie_Budget  Movie_Popularity Movie_Release_Date  Movie_Revenue  \\\n",
              "0       4000000         22.876230         09-12-1995        4300000   \n",
              "1      11000000        126.393695         25-05-1977      775398007   \n",
              "2      94000000         85.688789         30-05-2003      940335536   \n",
              "3      55000000        138.133331         06-07-1994      677945399   \n",
              "4      15000000         80.878605         15-09-1999      356296601   \n",
              "\n",
              "   Movie_Runtime  Movie_Vote  ...  \\\n",
              "0           98.0         6.5  ...   \n",
              "1          121.0         8.1  ...   \n",
              "2          100.0         7.6  ...   \n",
              "3          142.0         8.2  ...   \n",
              "4          122.0         7.9  ...   \n",
              "\n",
              "                                      Movie_Homepage  \\\n",
              "0                                                NaN   \n",
              "1  http://www.starwars.com/films/star-wars-episod...   \n",
              "2              http://movies.disney.com/finding-nemo   \n",
              "3                                                NaN   \n",
              "4                      http://www.dreamworks.com/ab/   \n",
              "\n",
              "                                      Movie_Keywords  \\\n",
              "0          hotel new year's eve witch bet hotel room   \n",
              "1        android galaxy hermit death star lightsaber   \n",
              "2  father son relationship harbor underwater fish...   \n",
              "3  vietnam veteran hippie mentally disabled runni...   \n",
              "4  male nudity female nudity adultery midlife cri...   \n",
              "\n",
              "                                      Movie_Overview  \\\n",
              "0  It's Ted the Bellhop's first night on the job....   \n",
              "1  Princess Leia is captured and held hostage by ...   \n",
              "2  Nemo, an adventurous young clownfish, is unexp...   \n",
              "3  A man with a low IQ has accomplished great thi...   \n",
              "4  Lester Burnham, a depressed suburban father in...   \n",
              "\n",
              "                              Movie_Production_House  \\\n",
              "0  [{\"name\": \"Miramax Films\", \"id\": 14}, {\"name\":...   \n",
              "1  [{\"name\": \"Lucasfilm\", \"id\": 1}, {\"name\": \"Twe...   \n",
              "2     [{\"name\": \"Pixar Animation Studios\", \"id\": 3}]   \n",
              "3          [{\"name\": \"Paramount Pictures\", \"id\": 4}]   \n",
              "4  [{\"name\": \"DreamWorks SKG\", \"id\": 27}, {\"name\"...   \n",
              "\n",
              "                            Movie_Production_Country  \\\n",
              "0  [{\"iso_3166_1\": \"US\", \"name\": \"United States o...   \n",
              "1  [{\"iso_3166_1\": \"US\", \"name\": \"United States o...   \n",
              "2  [{\"iso_3166_1\": \"US\", \"name\": \"United States o...   \n",
              "3  [{\"iso_3166_1\": \"US\", \"name\": \"United States o...   \n",
              "4  [{\"iso_3166_1\": \"US\", \"name\": \"United States o...   \n",
              "\n",
              "                      Movie_Spoken_Language  \\\n",
              "0  [{\"iso_639_1\": \"en\", \"name\": \"English\"}]   \n",
              "1  [{\"iso_639_1\": \"en\", \"name\": \"English\"}]   \n",
              "2  [{\"iso_639_1\": \"en\", \"name\": \"English\"}]   \n",
              "3  [{\"iso_639_1\": \"en\", \"name\": \"English\"}]   \n",
              "4  [{\"iso_639_1\": \"en\", \"name\": \"English\"}]   \n",
              "\n",
              "                                       Movie_Tagline  \\\n",
              "0  Twelve outrageous guests. Four scandalous requ...   \n",
              "1       A long time ago in a galaxy far, far away...   \n",
              "2  There are 3.7 trillion fish in the ocean, they...   \n",
              "3  The world will never be the same, once you've ...   \n",
              "4                                       Look closer.   \n",
              "\n",
              "                                          Movie_Cast  \\\n",
              "0  Tim Roth Antonio Banderas Jennifer Beals Madon...   \n",
              "1  Mark Hamill Harrison Ford Carrie Fisher Peter ...   \n",
              "2  Albert Brooks Ellen DeGeneres Alexander Gould ...   \n",
              "3  Tom Hanks Robin Wright Gary Sinise Mykelti Wil...   \n",
              "4  Kevin Spacey Annette Bening Thora Birch Wes Be...   \n",
              "\n",
              "                                          Movie_Crew   Movie_Director  \n",
              "0  [{'name': 'Allison Anders', 'gender': 1, 'depa...   Allison Anders  \n",
              "1  [{'name': 'George Lucas', 'gender': 2, 'depart...     George Lucas  \n",
              "2  [{'name': 'Andrew Stanton', 'gender': 2, 'depa...   Andrew Stanton  \n",
              "3  [{'name': 'Alan Silvestri', 'gender': 2, 'depa...  Robert Zemeckis  \n",
              "4  [{'name': 'Thomas Newman', 'gender': 2, 'depar...       Sam Mendes  \n",
              "\n",
              "[5 rows x 21 columns]"
            ],
            "text/html": [
              "\n",
              "  <div id=\"df-d3aaac50-91be-4ad2-9e6d-a45bda18f14b\" class=\"colab-df-container\">\n",
              "    <div>\n",
              "<style scoped>\n",
              "    .dataframe tbody tr th:only-of-type {\n",
              "        vertical-align: middle;\n",
              "    }\n",
              "\n",
              "    .dataframe tbody tr th {\n",
              "        vertical-align: top;\n",
              "    }\n",
              "\n",
              "    .dataframe thead th {\n",
              "        text-align: right;\n",
              "    }\n",
              "</style>\n",
              "<table border=\"1\" class=\"dataframe\">\n",
              "  <thead>\n",
              "    <tr style=\"text-align: right;\">\n",
              "      <th></th>\n",
              "      <th>Movie_ID</th>\n",
              "      <th>Movie_Title</th>\n",
              "      <th>Movie_Genre</th>\n",
              "      <th>Movie_Language</th>\n",
              "      <th>Movie_Budget</th>\n",
              "      <th>Movie_Popularity</th>\n",
              "      <th>Movie_Release_Date</th>\n",
              "      <th>Movie_Revenue</th>\n",
              "      <th>Movie_Runtime</th>\n",
              "      <th>Movie_Vote</th>\n",
              "      <th>...</th>\n",
              "      <th>Movie_Homepage</th>\n",
              "      <th>Movie_Keywords</th>\n",
              "      <th>Movie_Overview</th>\n",
              "      <th>Movie_Production_House</th>\n",
              "      <th>Movie_Production_Country</th>\n",
              "      <th>Movie_Spoken_Language</th>\n",
              "      <th>Movie_Tagline</th>\n",
              "      <th>Movie_Cast</th>\n",
              "      <th>Movie_Crew</th>\n",
              "      <th>Movie_Director</th>\n",
              "    </tr>\n",
              "  </thead>\n",
              "  <tbody>\n",
              "    <tr>\n",
              "      <th>0</th>\n",
              "      <td>1</td>\n",
              "      <td>Four Rooms</td>\n",
              "      <td>Crime Comedy</td>\n",
              "      <td>en</td>\n",
              "      <td>4000000</td>\n",
              "      <td>22.876230</td>\n",
              "      <td>09-12-1995</td>\n",
              "      <td>4300000</td>\n",
              "      <td>98.0</td>\n",
              "      <td>6.5</td>\n",
              "      <td>...</td>\n",
              "      <td>NaN</td>\n",
              "      <td>hotel new year's eve witch bet hotel room</td>\n",
              "      <td>It's Ted the Bellhop's first night on the job....</td>\n",
              "      <td>[{\"name\": \"Miramax Films\", \"id\": 14}, {\"name\":...</td>\n",
              "      <td>[{\"iso_3166_1\": \"US\", \"name\": \"United States o...</td>\n",
              "      <td>[{\"iso_639_1\": \"en\", \"name\": \"English\"}]</td>\n",
              "      <td>Twelve outrageous guests. Four scandalous requ...</td>\n",
              "      <td>Tim Roth Antonio Banderas Jennifer Beals Madon...</td>\n",
              "      <td>[{'name': 'Allison Anders', 'gender': 1, 'depa...</td>\n",
              "      <td>Allison Anders</td>\n",
              "    </tr>\n",
              "    <tr>\n",
              "      <th>1</th>\n",
              "      <td>2</td>\n",
              "      <td>Star Wars</td>\n",
              "      <td>Adventure Action Science Fiction</td>\n",
              "      <td>en</td>\n",
              "      <td>11000000</td>\n",
              "      <td>126.393695</td>\n",
              "      <td>25-05-1977</td>\n",
              "      <td>775398007</td>\n",
              "      <td>121.0</td>\n",
              "      <td>8.1</td>\n",
              "      <td>...</td>\n",
              "      <td>http://www.starwars.com/films/star-wars-episod...</td>\n",
              "      <td>android galaxy hermit death star lightsaber</td>\n",
              "      <td>Princess Leia is captured and held hostage by ...</td>\n",
              "      <td>[{\"name\": \"Lucasfilm\", \"id\": 1}, {\"name\": \"Twe...</td>\n",
              "      <td>[{\"iso_3166_1\": \"US\", \"name\": \"United States o...</td>\n",
              "      <td>[{\"iso_639_1\": \"en\", \"name\": \"English\"}]</td>\n",
              "      <td>A long time ago in a galaxy far, far away...</td>\n",
              "      <td>Mark Hamill Harrison Ford Carrie Fisher Peter ...</td>\n",
              "      <td>[{'name': 'George Lucas', 'gender': 2, 'depart...</td>\n",
              "      <td>George Lucas</td>\n",
              "    </tr>\n",
              "    <tr>\n",
              "      <th>2</th>\n",
              "      <td>3</td>\n",
              "      <td>Finding Nemo</td>\n",
              "      <td>Animation Family</td>\n",
              "      <td>en</td>\n",
              "      <td>94000000</td>\n",
              "      <td>85.688789</td>\n",
              "      <td>30-05-2003</td>\n",
              "      <td>940335536</td>\n",
              "      <td>100.0</td>\n",
              "      <td>7.6</td>\n",
              "      <td>...</td>\n",
              "      <td>http://movies.disney.com/finding-nemo</td>\n",
              "      <td>father son relationship harbor underwater fish...</td>\n",
              "      <td>Nemo, an adventurous young clownfish, is unexp...</td>\n",
              "      <td>[{\"name\": \"Pixar Animation Studios\", \"id\": 3}]</td>\n",
              "      <td>[{\"iso_3166_1\": \"US\", \"name\": \"United States o...</td>\n",
              "      <td>[{\"iso_639_1\": \"en\", \"name\": \"English\"}]</td>\n",
              "      <td>There are 3.7 trillion fish in the ocean, they...</td>\n",
              "      <td>Albert Brooks Ellen DeGeneres Alexander Gould ...</td>\n",
              "      <td>[{'name': 'Andrew Stanton', 'gender': 2, 'depa...</td>\n",
              "      <td>Andrew Stanton</td>\n",
              "    </tr>\n",
              "    <tr>\n",
              "      <th>3</th>\n",
              "      <td>4</td>\n",
              "      <td>Forrest Gump</td>\n",
              "      <td>Comedy Drama Romance</td>\n",
              "      <td>en</td>\n",
              "      <td>55000000</td>\n",
              "      <td>138.133331</td>\n",
              "      <td>06-07-1994</td>\n",
              "      <td>677945399</td>\n",
              "      <td>142.0</td>\n",
              "      <td>8.2</td>\n",
              "      <td>...</td>\n",
              "      <td>NaN</td>\n",
              "      <td>vietnam veteran hippie mentally disabled runni...</td>\n",
              "      <td>A man with a low IQ has accomplished great thi...</td>\n",
              "      <td>[{\"name\": \"Paramount Pictures\", \"id\": 4}]</td>\n",
              "      <td>[{\"iso_3166_1\": \"US\", \"name\": \"United States o...</td>\n",
              "      <td>[{\"iso_639_1\": \"en\", \"name\": \"English\"}]</td>\n",
              "      <td>The world will never be the same, once you've ...</td>\n",
              "      <td>Tom Hanks Robin Wright Gary Sinise Mykelti Wil...</td>\n",
              "      <td>[{'name': 'Alan Silvestri', 'gender': 2, 'depa...</td>\n",
              "      <td>Robert Zemeckis</td>\n",
              "    </tr>\n",
              "    <tr>\n",
              "      <th>4</th>\n",
              "      <td>5</td>\n",
              "      <td>American Beauty</td>\n",
              "      <td>Drama</td>\n",
              "      <td>en</td>\n",
              "      <td>15000000</td>\n",
              "      <td>80.878605</td>\n",
              "      <td>15-09-1999</td>\n",
              "      <td>356296601</td>\n",
              "      <td>122.0</td>\n",
              "      <td>7.9</td>\n",
              "      <td>...</td>\n",
              "      <td>http://www.dreamworks.com/ab/</td>\n",
              "      <td>male nudity female nudity adultery midlife cri...</td>\n",
              "      <td>Lester Burnham, a depressed suburban father in...</td>\n",
              "      <td>[{\"name\": \"DreamWorks SKG\", \"id\": 27}, {\"name\"...</td>\n",
              "      <td>[{\"iso_3166_1\": \"US\", \"name\": \"United States o...</td>\n",
              "      <td>[{\"iso_639_1\": \"en\", \"name\": \"English\"}]</td>\n",
              "      <td>Look closer.</td>\n",
              "      <td>Kevin Spacey Annette Bening Thora Birch Wes Be...</td>\n",
              "      <td>[{'name': 'Thomas Newman', 'gender': 2, 'depar...</td>\n",
              "      <td>Sam Mendes</td>\n",
              "    </tr>\n",
              "  </tbody>\n",
              "</table>\n",
              "<p>5 rows × 21 columns</p>\n",
              "</div>\n",
              "    <div class=\"colab-df-buttons\">\n",
              "\n",
              "  <div class=\"colab-df-container\">\n",
              "    <button class=\"colab-df-convert\" onclick=\"convertToInteractive('df-d3aaac50-91be-4ad2-9e6d-a45bda18f14b')\"\n",
              "            title=\"Convert this dataframe to an interactive table.\"\n",
              "            style=\"display:none;\">\n",
              "\n",
              "  <svg xmlns=\"http://www.w3.org/2000/svg\" height=\"24px\" viewBox=\"0 -960 960 960\">\n",
              "    <path d=\"M120-120v-720h720v720H120Zm60-500h600v-160H180v160Zm220 220h160v-160H400v160Zm0 220h160v-160H400v160ZM180-400h160v-160H180v160Zm440 0h160v-160H620v160ZM180-180h160v-160H180v160Zm440 0h160v-160H620v160Z\"/>\n",
              "  </svg>\n",
              "    </button>\n",
              "\n",
              "  <style>\n",
              "    .colab-df-container {\n",
              "      display:flex;\n",
              "      gap: 12px;\n",
              "    }\n",
              "\n",
              "    .colab-df-convert {\n",
              "      background-color: #E8F0FE;\n",
              "      border: none;\n",
              "      border-radius: 50%;\n",
              "      cursor: pointer;\n",
              "      display: none;\n",
              "      fill: #1967D2;\n",
              "      height: 32px;\n",
              "      padding: 0 0 0 0;\n",
              "      width: 32px;\n",
              "    }\n",
              "\n",
              "    .colab-df-convert:hover {\n",
              "      background-color: #E2EBFA;\n",
              "      box-shadow: 0px 1px 2px rgba(60, 64, 67, 0.3), 0px 1px 3px 1px rgba(60, 64, 67, 0.15);\n",
              "      fill: #174EA6;\n",
              "    }\n",
              "\n",
              "    .colab-df-buttons div {\n",
              "      margin-bottom: 4px;\n",
              "    }\n",
              "\n",
              "    [theme=dark] .colab-df-convert {\n",
              "      background-color: #3B4455;\n",
              "      fill: #D2E3FC;\n",
              "    }\n",
              "\n",
              "    [theme=dark] .colab-df-convert:hover {\n",
              "      background-color: #434B5C;\n",
              "      box-shadow: 0px 1px 3px 1px rgba(0, 0, 0, 0.15);\n",
              "      filter: drop-shadow(0px 1px 2px rgba(0, 0, 0, 0.3));\n",
              "      fill: #FFFFFF;\n",
              "    }\n",
              "  </style>\n",
              "\n",
              "    <script>\n",
              "      const buttonEl =\n",
              "        document.querySelector('#df-d3aaac50-91be-4ad2-9e6d-a45bda18f14b button.colab-df-convert');\n",
              "      buttonEl.style.display =\n",
              "        google.colab.kernel.accessAllowed ? 'block' : 'none';\n",
              "\n",
              "      async function convertToInteractive(key) {\n",
              "        const element = document.querySelector('#df-d3aaac50-91be-4ad2-9e6d-a45bda18f14b');\n",
              "        const dataTable =\n",
              "          await google.colab.kernel.invokeFunction('convertToInteractive',\n",
              "                                                    [key], {});\n",
              "        if (!dataTable) return;\n",
              "\n",
              "        const docLinkHtml = 'Like what you see? Visit the ' +\n",
              "          '<a target=\"_blank\" href=https://colab.research.google.com/notebooks/data_table.ipynb>data table notebook</a>'\n",
              "          + ' to learn more about interactive tables.';\n",
              "        element.innerHTML = '';\n",
              "        dataTable['output_type'] = 'display_data';\n",
              "        await google.colab.output.renderOutput(dataTable, element);\n",
              "        const docLink = document.createElement('div');\n",
              "        docLink.innerHTML = docLinkHtml;\n",
              "        element.appendChild(docLink);\n",
              "      }\n",
              "    </script>\n",
              "  </div>\n",
              "\n",
              "\n",
              "<div id=\"df-69f1fcaa-5256-4352-b181-9d3735112ea8\">\n",
              "  <button class=\"colab-df-quickchart\" onclick=\"quickchart('df-69f1fcaa-5256-4352-b181-9d3735112ea8')\"\n",
              "            title=\"Suggest charts\"\n",
              "            style=\"display:none;\">\n",
              "\n",
              "<svg xmlns=\"http://www.w3.org/2000/svg\" height=\"24px\"viewBox=\"0 0 24 24\"\n",
              "     width=\"24px\">\n",
              "    <g>\n",
              "        <path d=\"M19 3H5c-1.1 0-2 .9-2 2v14c0 1.1.9 2 2 2h14c1.1 0 2-.9 2-2V5c0-1.1-.9-2-2-2zM9 17H7v-7h2v7zm4 0h-2V7h2v10zm4 0h-2v-4h2v4z\"/>\n",
              "    </g>\n",
              "</svg>\n",
              "  </button>\n",
              "\n",
              "<style>\n",
              "  .colab-df-quickchart {\n",
              "      --bg-color: #E8F0FE;\n",
              "      --fill-color: #1967D2;\n",
              "      --hover-bg-color: #E2EBFA;\n",
              "      --hover-fill-color: #174EA6;\n",
              "      --disabled-fill-color: #AAA;\n",
              "      --disabled-bg-color: #DDD;\n",
              "  }\n",
              "\n",
              "  [theme=dark] .colab-df-quickchart {\n",
              "      --bg-color: #3B4455;\n",
              "      --fill-color: #D2E3FC;\n",
              "      --hover-bg-color: #434B5C;\n",
              "      --hover-fill-color: #FFFFFF;\n",
              "      --disabled-bg-color: #3B4455;\n",
              "      --disabled-fill-color: #666;\n",
              "  }\n",
              "\n",
              "  .colab-df-quickchart {\n",
              "    background-color: var(--bg-color);\n",
              "    border: none;\n",
              "    border-radius: 50%;\n",
              "    cursor: pointer;\n",
              "    display: none;\n",
              "    fill: var(--fill-color);\n",
              "    height: 32px;\n",
              "    padding: 0;\n",
              "    width: 32px;\n",
              "  }\n",
              "\n",
              "  .colab-df-quickchart:hover {\n",
              "    background-color: var(--hover-bg-color);\n",
              "    box-shadow: 0 1px 2px rgba(60, 64, 67, 0.3), 0 1px 3px 1px rgba(60, 64, 67, 0.15);\n",
              "    fill: var(--button-hover-fill-color);\n",
              "  }\n",
              "\n",
              "  .colab-df-quickchart-complete:disabled,\n",
              "  .colab-df-quickchart-complete:disabled:hover {\n",
              "    background-color: var(--disabled-bg-color);\n",
              "    fill: var(--disabled-fill-color);\n",
              "    box-shadow: none;\n",
              "  }\n",
              "\n",
              "  .colab-df-spinner {\n",
              "    border: 2px solid var(--fill-color);\n",
              "    border-color: transparent;\n",
              "    border-bottom-color: var(--fill-color);\n",
              "    animation:\n",
              "      spin 1s steps(1) infinite;\n",
              "  }\n",
              "\n",
              "  @keyframes spin {\n",
              "    0% {\n",
              "      border-color: transparent;\n",
              "      border-bottom-color: var(--fill-color);\n",
              "      border-left-color: var(--fill-color);\n",
              "    }\n",
              "    20% {\n",
              "      border-color: transparent;\n",
              "      border-left-color: var(--fill-color);\n",
              "      border-top-color: var(--fill-color);\n",
              "    }\n",
              "    30% {\n",
              "      border-color: transparent;\n",
              "      border-left-color: var(--fill-color);\n",
              "      border-top-color: var(--fill-color);\n",
              "      border-right-color: var(--fill-color);\n",
              "    }\n",
              "    40% {\n",
              "      border-color: transparent;\n",
              "      border-right-color: var(--fill-color);\n",
              "      border-top-color: var(--fill-color);\n",
              "    }\n",
              "    60% {\n",
              "      border-color: transparent;\n",
              "      border-right-color: var(--fill-color);\n",
              "    }\n",
              "    80% {\n",
              "      border-color: transparent;\n",
              "      border-right-color: var(--fill-color);\n",
              "      border-bottom-color: var(--fill-color);\n",
              "    }\n",
              "    90% {\n",
              "      border-color: transparent;\n",
              "      border-bottom-color: var(--fill-color);\n",
              "    }\n",
              "  }\n",
              "</style>\n",
              "\n",
              "  <script>\n",
              "    async function quickchart(key) {\n",
              "      const quickchartButtonEl =\n",
              "        document.querySelector('#' + key + ' button');\n",
              "      quickchartButtonEl.disabled = true;  // To prevent multiple clicks.\n",
              "      quickchartButtonEl.classList.add('colab-df-spinner');\n",
              "      try {\n",
              "        const charts = await google.colab.kernel.invokeFunction(\n",
              "            'suggestCharts', [key], {});\n",
              "      } catch (error) {\n",
              "        console.error('Error during call to suggestCharts:', error);\n",
              "      }\n",
              "      quickchartButtonEl.classList.remove('colab-df-spinner');\n",
              "      quickchartButtonEl.classList.add('colab-df-quickchart-complete');\n",
              "    }\n",
              "    (() => {\n",
              "      let quickchartButtonEl =\n",
              "        document.querySelector('#df-69f1fcaa-5256-4352-b181-9d3735112ea8 button');\n",
              "      quickchartButtonEl.style.display =\n",
              "        google.colab.kernel.accessAllowed ? 'block' : 'none';\n",
              "    })();\n",
              "  </script>\n",
              "</div>\n",
              "\n",
              "    </div>\n",
              "  </div>\n"
            ],
            "application/vnd.google.colaboratory.intrinsic+json": {
              "type": "dataframe",
              "variable_name": "dataframe"
            }
          },
          "metadata": {},
          "execution_count": 5
        }
      ]
    },
    {
      "cell_type": "code",
      "source": [
        "dataframe.info()"
      ],
      "metadata": {
        "colab": {
          "base_uri": "https://localhost:8080/"
        },
        "id": "y0cXeQy_-5M5",
        "outputId": "28367772-b9fb-4160-f518-3a7559f14d35"
      },
      "execution_count": null,
      "outputs": [
        {
          "output_type": "stream",
          "name": "stdout",
          "text": [
            "<class 'pandas.core.frame.DataFrame'>\n",
            "RangeIndex: 4760 entries, 0 to 4759\n",
            "Data columns (total 21 columns):\n",
            " #   Column                    Non-Null Count  Dtype  \n",
            "---  ------                    --------------  -----  \n",
            " 0   Movie_ID                  4760 non-null   int64  \n",
            " 1   Movie_Title               4760 non-null   object \n",
            " 2   Movie_Genre               4760 non-null   object \n",
            " 3   Movie_Language            4760 non-null   object \n",
            " 4   Movie_Budget              4760 non-null   int64  \n",
            " 5   Movie_Popularity          4760 non-null   float64\n",
            " 6   Movie_Release_Date        4760 non-null   object \n",
            " 7   Movie_Revenue             4760 non-null   int64  \n",
            " 8   Movie_Runtime             4758 non-null   float64\n",
            " 9   Movie_Vote                4760 non-null   float64\n",
            " 10  Movie_Vote_Count          4760 non-null   int64  \n",
            " 11  Movie_Homepage            1699 non-null   object \n",
            " 12  Movie_Keywords            4373 non-null   object \n",
            " 13  Movie_Overview            4757 non-null   object \n",
            " 14  Movie_Production_House    4760 non-null   object \n",
            " 15  Movie_Production_Country  4760 non-null   object \n",
            " 16  Movie_Spoken_Language     4760 non-null   object \n",
            " 17  Movie_Tagline             3942 non-null   object \n",
            " 18  Movie_Cast                4733 non-null   object \n",
            " 19  Movie_Crew                4760 non-null   object \n",
            " 20  Movie_Director            4738 non-null   object \n",
            "dtypes: float64(3), int64(4), object(14)\n",
            "memory usage: 781.1+ KB\n"
          ]
        }
      ]
    },
    {
      "cell_type": "code",
      "source": [
        "dataframe.shape"
      ],
      "metadata": {
        "colab": {
          "base_uri": "https://localhost:8080/"
        },
        "id": "XdCVZy-P-85R",
        "outputId": "786b7657-36f8-4516-fce3-e8ba5a743e23"
      },
      "execution_count": null,
      "outputs": [
        {
          "output_type": "execute_result",
          "data": {
            "text/plain": [
              "(4760, 21)"
            ]
          },
          "metadata": {},
          "execution_count": 7
        }
      ]
    },
    {
      "cell_type": "code",
      "source": [
        "dataframe.columns"
      ],
      "metadata": {
        "colab": {
          "base_uri": "https://localhost:8080/"
        },
        "id": "Bovehr70_CdL",
        "outputId": "98c4d821-0b9a-4fb0-fdd3-3b821a978986"
      },
      "execution_count": null,
      "outputs": [
        {
          "output_type": "execute_result",
          "data": {
            "text/plain": [
              "Index(['Movie_ID', 'Movie_Title', 'Movie_Genre', 'Movie_Language',\n",
              "       'Movie_Budget', 'Movie_Popularity', 'Movie_Release_Date',\n",
              "       'Movie_Revenue', 'Movie_Runtime', 'Movie_Vote', 'Movie_Vote_Count',\n",
              "       'Movie_Homepage', 'Movie_Keywords', 'Movie_Overview',\n",
              "       'Movie_Production_House', 'Movie_Production_Country',\n",
              "       'Movie_Spoken_Language', 'Movie_Tagline', 'Movie_Cast', 'Movie_Crew',\n",
              "       'Movie_Director'],\n",
              "      dtype='object')"
            ]
          },
          "metadata": {},
          "execution_count": 8
        }
      ]
    },
    {
      "cell_type": "markdown",
      "source": [
        "## **Features Selection**"
      ],
      "metadata": {
        "id": "RcbTyEdL_MnO"
      }
    },
    {
      "cell_type": "code",
      "source": [
        "df_features = dataframe[['Movie_Genre', 'Movie_Keywords', 'Movie_Tagline', 'Movie_Cast', 'Movie_Director']].fillna('')"
      ],
      "metadata": {
        "id": "JUew9rhm_OHE"
      },
      "execution_count": null,
      "outputs": []
    },
    {
      "cell_type": "code",
      "source": [
        "df_features.shape"
      ],
      "metadata": {
        "colab": {
          "base_uri": "https://localhost:8080/"
        },
        "id": "bMHbHhce_7h0",
        "outputId": "da267f14-5c14-4e67-ea4f-3f7f23ff48c2"
      },
      "execution_count": null,
      "outputs": [
        {
          "output_type": "execute_result",
          "data": {
            "text/plain": [
              "(4760, 5)"
            ]
          },
          "metadata": {},
          "execution_count": 10
        }
      ]
    },
    {
      "cell_type": "code",
      "source": [
        "df_features"
      ],
      "metadata": {
        "colab": {
          "base_uri": "https://localhost:8080/",
          "height": 579
        },
        "id": "DH0-Rpsq_9q_",
        "outputId": "dca2007a-4543-4c1a-a806-4f0c69e539c7"
      },
      "execution_count": null,
      "outputs": [
        {
          "output_type": "execute_result",
          "data": {
            "text/plain": [
              "                           Movie_Genre  \\\n",
              "0                         Crime Comedy   \n",
              "1     Adventure Action Science Fiction   \n",
              "2                     Animation Family   \n",
              "3                 Comedy Drama Romance   \n",
              "4                                Drama   \n",
              "...                                ...   \n",
              "4755                            Horror   \n",
              "4756               Comedy Family Drama   \n",
              "4757                    Thriller Drama   \n",
              "4758                            Family   \n",
              "4759                       Documentary   \n",
              "\n",
              "                                         Movie_Keywords  \\\n",
              "0             hotel new year's eve witch bet hotel room   \n",
              "1           android galaxy hermit death star lightsaber   \n",
              "2     father son relationship harbor underwater fish...   \n",
              "3     vietnam veteran hippie mentally disabled runni...   \n",
              "4     male nudity female nudity adultery midlife cri...   \n",
              "...                                                 ...   \n",
              "4755                                                      \n",
              "4756                                                      \n",
              "4757                     christian film sex trafficking   \n",
              "4758                                                      \n",
              "4759  music actors legendary perfomer classic hollyw...   \n",
              "\n",
              "                                          Movie_Tagline  \\\n",
              "0     Twelve outrageous guests. Four scandalous requ...   \n",
              "1          A long time ago in a galaxy far, far away...   \n",
              "2     There are 3.7 trillion fish in the ocean, they...   \n",
              "3     The world will never be the same, once you've ...   \n",
              "4                                          Look closer.   \n",
              "...                                                 ...   \n",
              "4755                The hot spot where Satan's waitin'.   \n",
              "4756           It’s better to stand out than to fit in.   \n",
              "4757           She never knew it could happen to her...   \n",
              "4758                                                      \n",
              "4759                                                      \n",
              "\n",
              "                                             Movie_Cast     Movie_Director  \n",
              "0     Tim Roth Antonio Banderas Jennifer Beals Madon...     Allison Anders  \n",
              "1     Mark Hamill Harrison Ford Carrie Fisher Peter ...       George Lucas  \n",
              "2     Albert Brooks Ellen DeGeneres Alexander Gould ...     Andrew Stanton  \n",
              "3     Tom Hanks Robin Wright Gary Sinise Mykelti Wil...    Robert Zemeckis  \n",
              "4     Kevin Spacey Annette Bening Thora Birch Wes Be...         Sam Mendes  \n",
              "...                                                 ...                ...  \n",
              "4755  Lisa Hart Carroll Michael Des Barres Paul Drak...         Pece Dingo  \n",
              "4756  Roni Akurati Brighton Sharbino Jason Lee Anjul...       Frank Lotito  \n",
              "4757  Nicole Smolen Kim Baldwin Ariana Stephens Brys...       Jaco Booyens  \n",
              "4758                                                                        \n",
              "4759                                    Tony Oppedisano  Simon Napier-Bell  \n",
              "\n",
              "[4760 rows x 5 columns]"
            ],
            "text/html": [
              "\n",
              "  <div id=\"df-01671842-cce9-4dad-8810-3c7b3677d95d\" class=\"colab-df-container\">\n",
              "    <div>\n",
              "<style scoped>\n",
              "    .dataframe tbody tr th:only-of-type {\n",
              "        vertical-align: middle;\n",
              "    }\n",
              "\n",
              "    .dataframe tbody tr th {\n",
              "        vertical-align: top;\n",
              "    }\n",
              "\n",
              "    .dataframe thead th {\n",
              "        text-align: right;\n",
              "    }\n",
              "</style>\n",
              "<table border=\"1\" class=\"dataframe\">\n",
              "  <thead>\n",
              "    <tr style=\"text-align: right;\">\n",
              "      <th></th>\n",
              "      <th>Movie_Genre</th>\n",
              "      <th>Movie_Keywords</th>\n",
              "      <th>Movie_Tagline</th>\n",
              "      <th>Movie_Cast</th>\n",
              "      <th>Movie_Director</th>\n",
              "    </tr>\n",
              "  </thead>\n",
              "  <tbody>\n",
              "    <tr>\n",
              "      <th>0</th>\n",
              "      <td>Crime Comedy</td>\n",
              "      <td>hotel new year's eve witch bet hotel room</td>\n",
              "      <td>Twelve outrageous guests. Four scandalous requ...</td>\n",
              "      <td>Tim Roth Antonio Banderas Jennifer Beals Madon...</td>\n",
              "      <td>Allison Anders</td>\n",
              "    </tr>\n",
              "    <tr>\n",
              "      <th>1</th>\n",
              "      <td>Adventure Action Science Fiction</td>\n",
              "      <td>android galaxy hermit death star lightsaber</td>\n",
              "      <td>A long time ago in a galaxy far, far away...</td>\n",
              "      <td>Mark Hamill Harrison Ford Carrie Fisher Peter ...</td>\n",
              "      <td>George Lucas</td>\n",
              "    </tr>\n",
              "    <tr>\n",
              "      <th>2</th>\n",
              "      <td>Animation Family</td>\n",
              "      <td>father son relationship harbor underwater fish...</td>\n",
              "      <td>There are 3.7 trillion fish in the ocean, they...</td>\n",
              "      <td>Albert Brooks Ellen DeGeneres Alexander Gould ...</td>\n",
              "      <td>Andrew Stanton</td>\n",
              "    </tr>\n",
              "    <tr>\n",
              "      <th>3</th>\n",
              "      <td>Comedy Drama Romance</td>\n",
              "      <td>vietnam veteran hippie mentally disabled runni...</td>\n",
              "      <td>The world will never be the same, once you've ...</td>\n",
              "      <td>Tom Hanks Robin Wright Gary Sinise Mykelti Wil...</td>\n",
              "      <td>Robert Zemeckis</td>\n",
              "    </tr>\n",
              "    <tr>\n",
              "      <th>4</th>\n",
              "      <td>Drama</td>\n",
              "      <td>male nudity female nudity adultery midlife cri...</td>\n",
              "      <td>Look closer.</td>\n",
              "      <td>Kevin Spacey Annette Bening Thora Birch Wes Be...</td>\n",
              "      <td>Sam Mendes</td>\n",
              "    </tr>\n",
              "    <tr>\n",
              "      <th>...</th>\n",
              "      <td>...</td>\n",
              "      <td>...</td>\n",
              "      <td>...</td>\n",
              "      <td>...</td>\n",
              "      <td>...</td>\n",
              "    </tr>\n",
              "    <tr>\n",
              "      <th>4755</th>\n",
              "      <td>Horror</td>\n",
              "      <td></td>\n",
              "      <td>The hot spot where Satan's waitin'.</td>\n",
              "      <td>Lisa Hart Carroll Michael Des Barres Paul Drak...</td>\n",
              "      <td>Pece Dingo</td>\n",
              "    </tr>\n",
              "    <tr>\n",
              "      <th>4756</th>\n",
              "      <td>Comedy Family Drama</td>\n",
              "      <td></td>\n",
              "      <td>It’s better to stand out than to fit in.</td>\n",
              "      <td>Roni Akurati Brighton Sharbino Jason Lee Anjul...</td>\n",
              "      <td>Frank Lotito</td>\n",
              "    </tr>\n",
              "    <tr>\n",
              "      <th>4757</th>\n",
              "      <td>Thriller Drama</td>\n",
              "      <td>christian film sex trafficking</td>\n",
              "      <td>She never knew it could happen to her...</td>\n",
              "      <td>Nicole Smolen Kim Baldwin Ariana Stephens Brys...</td>\n",
              "      <td>Jaco Booyens</td>\n",
              "    </tr>\n",
              "    <tr>\n",
              "      <th>4758</th>\n",
              "      <td>Family</td>\n",
              "      <td></td>\n",
              "      <td></td>\n",
              "      <td></td>\n",
              "      <td></td>\n",
              "    </tr>\n",
              "    <tr>\n",
              "      <th>4759</th>\n",
              "      <td>Documentary</td>\n",
              "      <td>music actors legendary perfomer classic hollyw...</td>\n",
              "      <td></td>\n",
              "      <td>Tony Oppedisano</td>\n",
              "      <td>Simon Napier-Bell</td>\n",
              "    </tr>\n",
              "  </tbody>\n",
              "</table>\n",
              "<p>4760 rows × 5 columns</p>\n",
              "</div>\n",
              "    <div class=\"colab-df-buttons\">\n",
              "\n",
              "  <div class=\"colab-df-container\">\n",
              "    <button class=\"colab-df-convert\" onclick=\"convertToInteractive('df-01671842-cce9-4dad-8810-3c7b3677d95d')\"\n",
              "            title=\"Convert this dataframe to an interactive table.\"\n",
              "            style=\"display:none;\">\n",
              "\n",
              "  <svg xmlns=\"http://www.w3.org/2000/svg\" height=\"24px\" viewBox=\"0 -960 960 960\">\n",
              "    <path d=\"M120-120v-720h720v720H120Zm60-500h600v-160H180v160Zm220 220h160v-160H400v160Zm0 220h160v-160H400v160ZM180-400h160v-160H180v160Zm440 0h160v-160H620v160ZM180-180h160v-160H180v160Zm440 0h160v-160H620v160Z\"/>\n",
              "  </svg>\n",
              "    </button>\n",
              "\n",
              "  <style>\n",
              "    .colab-df-container {\n",
              "      display:flex;\n",
              "      gap: 12px;\n",
              "    }\n",
              "\n",
              "    .colab-df-convert {\n",
              "      background-color: #E8F0FE;\n",
              "      border: none;\n",
              "      border-radius: 50%;\n",
              "      cursor: pointer;\n",
              "      display: none;\n",
              "      fill: #1967D2;\n",
              "      height: 32px;\n",
              "      padding: 0 0 0 0;\n",
              "      width: 32px;\n",
              "    }\n",
              "\n",
              "    .colab-df-convert:hover {\n",
              "      background-color: #E2EBFA;\n",
              "      box-shadow: 0px 1px 2px rgba(60, 64, 67, 0.3), 0px 1px 3px 1px rgba(60, 64, 67, 0.15);\n",
              "      fill: #174EA6;\n",
              "    }\n",
              "\n",
              "    .colab-df-buttons div {\n",
              "      margin-bottom: 4px;\n",
              "    }\n",
              "\n",
              "    [theme=dark] .colab-df-convert {\n",
              "      background-color: #3B4455;\n",
              "      fill: #D2E3FC;\n",
              "    }\n",
              "\n",
              "    [theme=dark] .colab-df-convert:hover {\n",
              "      background-color: #434B5C;\n",
              "      box-shadow: 0px 1px 3px 1px rgba(0, 0, 0, 0.15);\n",
              "      filter: drop-shadow(0px 1px 2px rgba(0, 0, 0, 0.3));\n",
              "      fill: #FFFFFF;\n",
              "    }\n",
              "  </style>\n",
              "\n",
              "    <script>\n",
              "      const buttonEl =\n",
              "        document.querySelector('#df-01671842-cce9-4dad-8810-3c7b3677d95d button.colab-df-convert');\n",
              "      buttonEl.style.display =\n",
              "        google.colab.kernel.accessAllowed ? 'block' : 'none';\n",
              "\n",
              "      async function convertToInteractive(key) {\n",
              "        const element = document.querySelector('#df-01671842-cce9-4dad-8810-3c7b3677d95d');\n",
              "        const dataTable =\n",
              "          await google.colab.kernel.invokeFunction('convertToInteractive',\n",
              "                                                    [key], {});\n",
              "        if (!dataTable) return;\n",
              "\n",
              "        const docLinkHtml = 'Like what you see? Visit the ' +\n",
              "          '<a target=\"_blank\" href=https://colab.research.google.com/notebooks/data_table.ipynb>data table notebook</a>'\n",
              "          + ' to learn more about interactive tables.';\n",
              "        element.innerHTML = '';\n",
              "        dataTable['output_type'] = 'display_data';\n",
              "        await google.colab.output.renderOutput(dataTable, element);\n",
              "        const docLink = document.createElement('div');\n",
              "        docLink.innerHTML = docLinkHtml;\n",
              "        element.appendChild(docLink);\n",
              "      }\n",
              "    </script>\n",
              "  </div>\n",
              "\n",
              "\n",
              "<div id=\"df-3432cc14-d9f3-4005-ac1e-1d6c98369a06\">\n",
              "  <button class=\"colab-df-quickchart\" onclick=\"quickchart('df-3432cc14-d9f3-4005-ac1e-1d6c98369a06')\"\n",
              "            title=\"Suggest charts\"\n",
              "            style=\"display:none;\">\n",
              "\n",
              "<svg xmlns=\"http://www.w3.org/2000/svg\" height=\"24px\"viewBox=\"0 0 24 24\"\n",
              "     width=\"24px\">\n",
              "    <g>\n",
              "        <path d=\"M19 3H5c-1.1 0-2 .9-2 2v14c0 1.1.9 2 2 2h14c1.1 0 2-.9 2-2V5c0-1.1-.9-2-2-2zM9 17H7v-7h2v7zm4 0h-2V7h2v10zm4 0h-2v-4h2v4z\"/>\n",
              "    </g>\n",
              "</svg>\n",
              "  </button>\n",
              "\n",
              "<style>\n",
              "  .colab-df-quickchart {\n",
              "      --bg-color: #E8F0FE;\n",
              "      --fill-color: #1967D2;\n",
              "      --hover-bg-color: #E2EBFA;\n",
              "      --hover-fill-color: #174EA6;\n",
              "      --disabled-fill-color: #AAA;\n",
              "      --disabled-bg-color: #DDD;\n",
              "  }\n",
              "\n",
              "  [theme=dark] .colab-df-quickchart {\n",
              "      --bg-color: #3B4455;\n",
              "      --fill-color: #D2E3FC;\n",
              "      --hover-bg-color: #434B5C;\n",
              "      --hover-fill-color: #FFFFFF;\n",
              "      --disabled-bg-color: #3B4455;\n",
              "      --disabled-fill-color: #666;\n",
              "  }\n",
              "\n",
              "  .colab-df-quickchart {\n",
              "    background-color: var(--bg-color);\n",
              "    border: none;\n",
              "    border-radius: 50%;\n",
              "    cursor: pointer;\n",
              "    display: none;\n",
              "    fill: var(--fill-color);\n",
              "    height: 32px;\n",
              "    padding: 0;\n",
              "    width: 32px;\n",
              "  }\n",
              "\n",
              "  .colab-df-quickchart:hover {\n",
              "    background-color: var(--hover-bg-color);\n",
              "    box-shadow: 0 1px 2px rgba(60, 64, 67, 0.3), 0 1px 3px 1px rgba(60, 64, 67, 0.15);\n",
              "    fill: var(--button-hover-fill-color);\n",
              "  }\n",
              "\n",
              "  .colab-df-quickchart-complete:disabled,\n",
              "  .colab-df-quickchart-complete:disabled:hover {\n",
              "    background-color: var(--disabled-bg-color);\n",
              "    fill: var(--disabled-fill-color);\n",
              "    box-shadow: none;\n",
              "  }\n",
              "\n",
              "  .colab-df-spinner {\n",
              "    border: 2px solid var(--fill-color);\n",
              "    border-color: transparent;\n",
              "    border-bottom-color: var(--fill-color);\n",
              "    animation:\n",
              "      spin 1s steps(1) infinite;\n",
              "  }\n",
              "\n",
              "  @keyframes spin {\n",
              "    0% {\n",
              "      border-color: transparent;\n",
              "      border-bottom-color: var(--fill-color);\n",
              "      border-left-color: var(--fill-color);\n",
              "    }\n",
              "    20% {\n",
              "      border-color: transparent;\n",
              "      border-left-color: var(--fill-color);\n",
              "      border-top-color: var(--fill-color);\n",
              "    }\n",
              "    30% {\n",
              "      border-color: transparent;\n",
              "      border-left-color: var(--fill-color);\n",
              "      border-top-color: var(--fill-color);\n",
              "      border-right-color: var(--fill-color);\n",
              "    }\n",
              "    40% {\n",
              "      border-color: transparent;\n",
              "      border-right-color: var(--fill-color);\n",
              "      border-top-color: var(--fill-color);\n",
              "    }\n",
              "    60% {\n",
              "      border-color: transparent;\n",
              "      border-right-color: var(--fill-color);\n",
              "    }\n",
              "    80% {\n",
              "      border-color: transparent;\n",
              "      border-right-color: var(--fill-color);\n",
              "      border-bottom-color: var(--fill-color);\n",
              "    }\n",
              "    90% {\n",
              "      border-color: transparent;\n",
              "      border-bottom-color: var(--fill-color);\n",
              "    }\n",
              "  }\n",
              "</style>\n",
              "\n",
              "  <script>\n",
              "    async function quickchart(key) {\n",
              "      const quickchartButtonEl =\n",
              "        document.querySelector('#' + key + ' button');\n",
              "      quickchartButtonEl.disabled = true;  // To prevent multiple clicks.\n",
              "      quickchartButtonEl.classList.add('colab-df-spinner');\n",
              "      try {\n",
              "        const charts = await google.colab.kernel.invokeFunction(\n",
              "            'suggestCharts', [key], {});\n",
              "      } catch (error) {\n",
              "        console.error('Error during call to suggestCharts:', error);\n",
              "      }\n",
              "      quickchartButtonEl.classList.remove('colab-df-spinner');\n",
              "      quickchartButtonEl.classList.add('colab-df-quickchart-complete');\n",
              "    }\n",
              "    (() => {\n",
              "      let quickchartButtonEl =\n",
              "        document.querySelector('#df-3432cc14-d9f3-4005-ac1e-1d6c98369a06 button');\n",
              "      quickchartButtonEl.style.display =\n",
              "        google.colab.kernel.accessAllowed ? 'block' : 'none';\n",
              "    })();\n",
              "  </script>\n",
              "</div>\n",
              "\n",
              "  <div id=\"id_b1b94379-efb7-4a32-a528-7e06e426765c\">\n",
              "    <style>\n",
              "      .colab-df-generate {\n",
              "        background-color: #E8F0FE;\n",
              "        border: none;\n",
              "        border-radius: 50%;\n",
              "        cursor: pointer;\n",
              "        display: none;\n",
              "        fill: #1967D2;\n",
              "        height: 32px;\n",
              "        padding: 0 0 0 0;\n",
              "        width: 32px;\n",
              "      }\n",
              "\n",
              "      .colab-df-generate:hover {\n",
              "        background-color: #E2EBFA;\n",
              "        box-shadow: 0px 1px 2px rgba(60, 64, 67, 0.3), 0px 1px 3px 1px rgba(60, 64, 67, 0.15);\n",
              "        fill: #174EA6;\n",
              "      }\n",
              "\n",
              "      [theme=dark] .colab-df-generate {\n",
              "        background-color: #3B4455;\n",
              "        fill: #D2E3FC;\n",
              "      }\n",
              "\n",
              "      [theme=dark] .colab-df-generate:hover {\n",
              "        background-color: #434B5C;\n",
              "        box-shadow: 0px 1px 3px 1px rgba(0, 0, 0, 0.15);\n",
              "        filter: drop-shadow(0px 1px 2px rgba(0, 0, 0, 0.3));\n",
              "        fill: #FFFFFF;\n",
              "      }\n",
              "    </style>\n",
              "    <button class=\"colab-df-generate\" onclick=\"generateWithVariable('df_features')\"\n",
              "            title=\"Generate code using this dataframe.\"\n",
              "            style=\"display:none;\">\n",
              "\n",
              "  <svg xmlns=\"http://www.w3.org/2000/svg\" height=\"24px\"viewBox=\"0 0 24 24\"\n",
              "       width=\"24px\">\n",
              "    <path d=\"M7,19H8.4L18.45,9,17,7.55,7,17.6ZM5,21V16.75L18.45,3.32a2,2,0,0,1,2.83,0l1.4,1.43a1.91,1.91,0,0,1,.58,1.4,1.91,1.91,0,0,1-.58,1.4L9.25,21ZM18.45,9,17,7.55Zm-12,3A5.31,5.31,0,0,0,4.9,8.1,5.31,5.31,0,0,0,1,6.5,5.31,5.31,0,0,0,4.9,4.9,5.31,5.31,0,0,0,6.5,1,5.31,5.31,0,0,0,8.1,4.9,5.31,5.31,0,0,0,12,6.5,5.46,5.46,0,0,0,6.5,12Z\"/>\n",
              "  </svg>\n",
              "    </button>\n",
              "    <script>\n",
              "      (() => {\n",
              "      const buttonEl =\n",
              "        document.querySelector('#id_b1b94379-efb7-4a32-a528-7e06e426765c button.colab-df-generate');\n",
              "      buttonEl.style.display =\n",
              "        google.colab.kernel.accessAllowed ? 'block' : 'none';\n",
              "\n",
              "      buttonEl.onclick = () => {\n",
              "        google.colab.notebook.generateWithVariable('df_features');\n",
              "      }\n",
              "      })();\n",
              "    </script>\n",
              "  </div>\n",
              "\n",
              "    </div>\n",
              "  </div>\n"
            ],
            "application/vnd.google.colaboratory.intrinsic+json": {
              "type": "dataframe",
              "variable_name": "df_features",
              "summary": "{\n  \"name\": \"df_features\",\n  \"rows\": 4760,\n  \"fields\": [\n    {\n      \"column\": \"Movie_Genre\",\n      \"properties\": {\n        \"dtype\": \"category\",\n        \"num_unique_values\": 1164,\n        \"samples\": [\n          \"Family Animation Adventure\",\n          \"Adventure Science Fiction Action\",\n          \"Action Crime Drama Romance Thriller\"\n        ],\n        \"semantic_type\": \"\",\n        \"description\": \"\"\n      }\n    },\n    {\n      \"column\": \"Movie_Keywords\",\n      \"properties\": {\n        \"dtype\": \"string\",\n        \"num_unique_values\": 4203,\n        \"samples\": [\n          \"canada nazis sequel spin off ancient evil\",\n          \"sex professor wedding woman director columbia university\",\n          \"prophecy sea beach gold small town\"\n        ],\n        \"semantic_type\": \"\",\n        \"description\": \"\"\n      }\n    },\n    {\n      \"column\": \"Movie_Tagline\",\n      \"properties\": {\n        \"dtype\": \"string\",\n        \"num_unique_values\": 3928,\n        \"samples\": [\n          \"The messenger must be silenced.\",\n          \"It's not the house that's haunted.\",\n          \"The final hunt begins.\"\n        ],\n        \"semantic_type\": \"\",\n        \"description\": \"\"\n      }\n    },\n    {\n      \"column\": \"Movie_Cast\",\n      \"properties\": {\n        \"dtype\": \"string\",\n        \"num_unique_values\": 4715,\n        \"samples\": [\n          \"Robin Tunney Fairuza Balk Neve Campbell Rachel True Skeet Ulrich\",\n          \"Peter Sellers Christopher Plummer Herbert Lom Catherine Schell Peter Arne\",\n          \"John Wayne Laraine Day Cedric Hardwicke Judith Anderson Anthony Quinn\"\n        ],\n        \"semantic_type\": \"\",\n        \"description\": \"\"\n      }\n    },\n    {\n      \"column\": \"Movie_Director\",\n      \"properties\": {\n        \"dtype\": \"category\",\n        \"num_unique_values\": 2332,\n        \"samples\": [\n          \"Rob McKittrick\",\n          \"Terron R. Parsons\",\n          \"Cyrus Nowrasteh\"\n        ],\n        \"semantic_type\": \"\",\n        \"description\": \"\"\n      }\n    }\n  ]\n}"
            }
          },
          "metadata": {},
          "execution_count": 11
        }
      ]
    },
    {
      "cell_type": "markdown",
      "source": [
        "## **Define Feature Variables (X)**"
      ],
      "metadata": {
        "id": "Fa8zRp1DDuvQ"
      }
    },
    {
      "cell_type": "code",
      "source": [
        "x = df_features['Movie_Genre'] + ' ' +  df_features['Movie_Keywords'] + ' ' + df_features['Movie_Tagline'] + ' ' + df_features['Movie_Cast'] + ' ' +  df_features['Movie_Director']"
      ],
      "metadata": {
        "id": "dsET62apD3O5"
      },
      "execution_count": null,
      "outputs": []
    },
    {
      "cell_type": "code",
      "source": [
        "x.shape"
      ],
      "metadata": {
        "colab": {
          "base_uri": "https://localhost:8080/"
        },
        "id": "43QCmGJCFtbf",
        "outputId": "1777f7b7-692e-4cee-f608-d97d875c25bc"
      },
      "execution_count": null,
      "outputs": [
        {
          "output_type": "execute_result",
          "data": {
            "text/plain": [
              "(4760,)"
            ]
          },
          "metadata": {},
          "execution_count": 13
        }
      ]
    },
    {
      "cell_type": "markdown",
      "source": [
        "## **Data Processing**"
      ],
      "metadata": {
        "id": "X6QHH2wpHUxa"
      }
    },
    {
      "cell_type": "code",
      "source": [
        "x = tfidf.fit_transform(x)"
      ],
      "metadata": {
        "id": "7GGzHj4YGhQM"
      },
      "execution_count": null,
      "outputs": []
    },
    {
      "cell_type": "code",
      "source": [
        "x.shape"
      ],
      "metadata": {
        "colab": {
          "base_uri": "https://localhost:8080/"
        },
        "id": "DnM8764KGxk_",
        "outputId": "61d493ff-82e2-416e-fc74-12daf7d34d0d"
      },
      "execution_count": null,
      "outputs": [
        {
          "output_type": "execute_result",
          "data": {
            "text/plain": [
              "(4760, 17258)"
            ]
          },
          "metadata": {},
          "execution_count": 15
        }
      ]
    },
    {
      "cell_type": "code",
      "source": [
        "print(x)"
      ],
      "metadata": {
        "colab": {
          "base_uri": "https://localhost:8080/"
        },
        "id": "hMcmHBQRHG9_",
        "outputId": "4bb7cdf9-7351-4d77-ddb2-0b2f9b3861c4"
      },
      "execution_count": null,
      "outputs": [
        {
          "output_type": "stream",
          "name": "stdout",
          "text": [
            "  (0, 3583)\t0.06486754376295062\n",
            "  (0, 3240)\t0.04527089872278055\n",
            "  (0, 7213)\t0.25146675849405775\n",
            "  (0, 10898)\t0.17625708810661284\n",
            "  (0, 17052)\t0.26079573581490934\n",
            "  (0, 5059)\t0.29553419178998613\n",
            "  (0, 16862)\t0.12768803549311025\n",
            "  (0, 1595)\t0.15687561633854538\n",
            "  (0, 13052)\t0.1465525095337543\n",
            "  (0, 15708)\t0.17654247479915475\n",
            "  (0, 11362)\t0.18801785343006192\n",
            "  (0, 6463)\t0.18801785343006192\n",
            "  (0, 5662)\t0.1465525095337543\n",
            "  (0, 13467)\t0.19712637387361423\n",
            "  (0, 12731)\t0.19712637387361423\n",
            "  (0, 614)\t0.07642616241686973\n",
            "  (0, 11244)\t0.08262965296941757\n",
            "  (0, 9206)\t0.15186283580984414\n",
            "  (0, 1495)\t0.19712637387361423\n",
            "  (0, 7454)\t0.14745635785412262\n",
            "  (0, 7071)\t0.19822417598406614\n",
            "  (0, 5499)\t0.11454057510303811\n",
            "  (0, 3878)\t0.11998399582562203\n",
            "  (0, 11242)\t0.07277788238484746\n",
            "  (0, 15219)\t0.09800472886453934\n",
            "  :\t:\n",
            "  (4757, 3485)\t0.199161573117024\n",
            "  (4757, 1184)\t0.18890726729447022\n",
            "  (4757, 14568)\t0.24255077606762876\n",
            "  (4757, 15508)\t0.24255077606762876\n",
            "  (4757, 5802)\t0.24255077606762876\n",
            "  (4757, 819)\t0.27474840155297187\n",
            "  (4757, 14195)\t0.28805858134028367\n",
            "  (4757, 2227)\t0.28805858134028367\n",
            "  (4757, 7691)\t0.28805858134028367\n",
            "  (4757, 1932)\t0.28805858134028367\n",
            "  (4758, 5238)\t1.0\n",
            "  (4759, 10666)\t0.15888268987343043\n",
            "  (4759, 1490)\t0.21197258705292082\n",
            "  (4759, 15431)\t0.19628653185946862\n",
            "  (4759, 5690)\t0.19534291014627303\n",
            "  (4759, 14051)\t0.20084315377640435\n",
            "  (4759, 4358)\t0.18306542312175342\n",
            "  (4759, 10761)\t0.3126617295732147\n",
            "  (4759, 7130)\t0.26419662449963793\n",
            "  (4759, 3058)\t0.2812896191863103\n",
            "  (4759, 14062)\t0.3237911628497312\n",
            "  (4759, 8902)\t0.3040290704566037\n",
            "  (4759, 205)\t0.3237911628497312\n",
            "  (4759, 11708)\t0.33947721804318337\n",
            "  (4759, 11264)\t0.33947721804318337\n"
          ]
        }
      ]
    },
    {
      "cell_type": "code",
      "source": [
        "similarity_score = cosine_similarity(x)"
      ],
      "metadata": {
        "id": "gl4dJobfHYhu"
      },
      "execution_count": null,
      "outputs": []
    },
    {
      "cell_type": "code",
      "source": [
        "similarity_score"
      ],
      "metadata": {
        "colab": {
          "base_uri": "https://localhost:8080/"
        },
        "id": "TFbAk1yTIE_i",
        "outputId": "0f461299-3dae-488b-d16b-c7efc7e618a6"
      },
      "execution_count": null,
      "outputs": [
        {
          "output_type": "execute_result",
          "data": {
            "text/plain": [
              "array([[1.        , 0.01351235, 0.03570468, ..., 0.        , 0.        ,\n",
              "        0.        ],\n",
              "       [0.01351235, 1.        , 0.00806674, ..., 0.        , 0.        ,\n",
              "        0.        ],\n",
              "       [0.03570468, 0.00806674, 1.        , ..., 0.        , 0.08014876,\n",
              "        0.        ],\n",
              "       ...,\n",
              "       [0.        , 0.        , 0.        , ..., 1.        , 0.        ,\n",
              "        0.        ],\n",
              "       [0.        , 0.        , 0.08014876, ..., 0.        , 1.        ,\n",
              "        0.        ],\n",
              "       [0.        , 0.        , 0.        , ..., 0.        , 0.        ,\n",
              "        1.        ]])"
            ]
          },
          "metadata": {},
          "execution_count": 18
        }
      ]
    },
    {
      "cell_type": "code",
      "source": [
        "similarity_score.shape"
      ],
      "metadata": {
        "colab": {
          "base_uri": "https://localhost:8080/"
        },
        "id": "BUxB4i55IM2Z",
        "outputId": "f601bab5-c6bf-45f3-f5b5-bbc181f38c8f"
      },
      "execution_count": null,
      "outputs": [
        {
          "output_type": "execute_result",
          "data": {
            "text/plain": [
              "(4760, 4760)"
            ]
          },
          "metadata": {},
          "execution_count": 19
        }
      ]
    },
    {
      "cell_type": "markdown",
      "source": [
        "## **Get Movie Name as Input from User and Validate for Closest Spelling**"
      ],
      "metadata": {
        "id": "Jbnii5HRK2KZ"
      }
    },
    {
      "cell_type": "code",
      "source": [
        "Favourite_Movie_Name = input(\"Enter your favourite movie name : \")"
      ],
      "metadata": {
        "colab": {
          "base_uri": "https://localhost:8080/"
        },
        "id": "dHZpVyavK34V",
        "outputId": "4a3afbdf-44a9-4b9f-b58a-c121a2cfd495"
      },
      "execution_count": null,
      "outputs": [
        {
          "name": "stdout",
          "output_type": "stream",
          "text": [
            "Enter your favourite movie name : Interstellar\n"
          ]
        }
      ]
    },
    {
      "cell_type": "code",
      "source": [
        "All_Movie_Title_List = dataframe['Movie_Title'].to_list()"
      ],
      "metadata": {
        "id": "9jtou5CILJVP"
      },
      "execution_count": null,
      "outputs": []
    },
    {
      "cell_type": "code",
      "source": [
        "Movie_Recommendation = difflib.get_close_matches(Favourite_Movie_Name, All_Movie_Title_List)\n",
        "print(Movie_Recommendation)"
      ],
      "metadata": {
        "colab": {
          "base_uri": "https://localhost:8080/"
        },
        "id": "EhAteDHgL-EI",
        "outputId": "b013ab5b-9626-45cf-feb4-df3fd8e6b0f3"
      },
      "execution_count": null,
      "outputs": [
        {
          "output_type": "stream",
          "name": "stdout",
          "text": [
            "['Interstellar', 'Cinderella']\n"
          ]
        }
      ]
    },
    {
      "cell_type": "code",
      "source": [
        "Close_Match = Movie_Recommendation[0]\n",
        "print(Close_Match)"
      ],
      "metadata": {
        "colab": {
          "base_uri": "https://localhost:8080/"
        },
        "id": "S0mY7PCiNRXs",
        "outputId": "4b57a011-f267-4a10-bf79-c45ae29dde13"
      },
      "execution_count": null,
      "outputs": [
        {
          "output_type": "stream",
          "name": "stdout",
          "text": [
            "Interstellar\n"
          ]
        }
      ]
    },
    {
      "cell_type": "code",
      "source": [
        "Index_Of_Close_Match_Movie = dataframe[dataframe.Movie_Title == Close_Match]['Movie_ID'].values[0]\n",
        "Index_Of_Close_Match_Movie"
      ],
      "metadata": {
        "colab": {
          "base_uri": "https://localhost:8080/"
        },
        "id": "8BlXqr7QNfqp",
        "outputId": "145644e0-2c4c-49b8-97be-97488479130c"
      },
      "execution_count": null,
      "outputs": [
        {
          "output_type": "execute_result",
          "data": {
            "text/plain": [
              "4157"
            ]
          },
          "metadata": {},
          "execution_count": 24
        }
      ]
    },
    {
      "cell_type": "code",
      "source": [
        "Recomendation_Score = list(enumerate(similarity_score[Index_Of_Close_Match_Movie]))\n",
        "print(Recomendation_Score)"
      ],
      "metadata": {
        "colab": {
          "base_uri": "https://localhost:8080/"
        },
        "id": "GD1mOGe1OUjL",
        "outputId": "f6924c2d-7043-4b9a-dbbc-29f0347b52b8"
      },
      "execution_count": null,
      "outputs": [
        {
          "output_type": "stream",
          "name": "stdout",
          "text": [
            "[(0, 0.006548677358199156), (1, 0.0), (2, 0.01124594389503937), (3, 0.025209256083111094), (4, 0.0), (5, 0.0), (6, 0.0), (7, 0.009819167875287265), (8, 0.0), (9, 0.0042163970858679215), (10, 0.004855516741463432), (11, 0.0047182047499227464), (12, 0.004865560505308294), (13, 0.012616383818485004), (14, 0.01981703339705251), (15, 0.0), (16, 0.0), (17, 0.0), (18, 0.004368957051960813), (19, 0.0), (20, 0.02450555296814865), (21, 0.0), (22, 0.0), (23, 0.0), (24, 0.0176295638521589), (25, 0.049837768174098546), (26, 0.0), (27, 0.0), (28, 0.004626023709408879), (29, 0.0043388808889703685), (30, 0.0), (31, 0.017683350818180687), (32, 0.01316033737052605), (33, 0.004026585066914307), (34, 0.019798544856869684), (35, 0.01261258872162509), (36, 0.017182574820456584), (37, 0.012478054262147245), (38, 0.005206945111108571), (39, 0.03928737086170342), (40, 0.0), (41, 0.01669872209877222), (42, 0.0), (43, 0.04300917978466318), (44, 0.03900534156827418), (45, 0.01243897322740423), (46, 0.0), (47, 0.0), (48, 0.005020332546201756), (49, 0.0), (50, 0.0), (51, 0.0), (52, 0.0), (53, 0.008102056684624092), (54, 0.019322449735736595), (55, 0.0), (56, 0.009277863485608752), (57, 0.011273078413337393), (58, 0.010989591260986826), (59, 0.0), (60, 0.0038975615977434714), (61, 0.0), (62, 0.0), (63, 0.0), (64, 0.0038160627956413872), (65, 0.004518270028639439), (66, 0.0), (67, 0.012394785417373853), (68, 0.0), (69, 0.0), (70, 0.0), (71, 0.0), (72, 0.004418815549269877), (73, 0.007402338236077102), (74, 0.009691529047501889), (75, 0.015307498453354065), (76, 0.0), (77, 0.007438824247911098), (78, 0.016444691042006764), (79, 0.023509392971920673), (80, 0.02140307708875574), (81, 0.009779277181987704), (82, 0.006915088999058486), (83, 0.03263915492721202), (84, 0.004461144747667202), (85, 0.0), (86, 0.003918431850398035), (87, 0.0), (88, 0.0037579796938859156), (89, 0.0), (90, 0.0), (91, 0.011603091689210681), (92, 0.041236251878259224), (93, 0.0), (94, 0.021451057571392207), (95, 0.0), (96, 0.004216945023736033), (97, 0.0315938644193855), (98, 0.0), (99, 0.008536144533382493), (100, 0.02720806844632709), (101, 0.010103763024508194), (102, 0.004977790155234095), (103, 0.0), (104, 0.004585039093199425), (105, 0.004518758240915469), (106, 0.003507351801342266), (107, 0.0), (108, 0.012966620253763468), (109, 0.0), (110, 0.004656619509709284), (111, 0.0), (112, 0.02270409311523877), (113, 0.0), (114, 0.0), (115, 0.0), (116, 0.01416377047952485), (117, 0.008420590130349905), (118, 0.0), (119, 0.008940237599831391), (120, 0.008818022093256888), (121, 0.0), (122, 0.008394301707614118), (123, 0.004984914722215001), (124, 0.01733331595867916), (125, 0.0), (126, 0.0), (127, 0.0), (128, 0.0), (129, 0.013129885761625541), (130, 0.012409082541547366), (131, 0.0046161439383607655), (132, 0.0), (133, 0.0), (134, 0.0), (135, 0.024098916917780176), (136, 0.0), (137, 0.004690932151292604), (138, 0.02264370946771893), (139, 0.0), (140, 0.0), (141, 0.0), (142, 0.0), (143, 0.0), (144, 0.0), (145, 0.0), (146, 0.009222806149662687), (147, 0.0), (148, 0.0130914321341444), (149, 0.0), (150, 0.0044601288426417765), (151, 0.019423118097778955), (152, 0.004424696490545622), (153, 0.01540422200600193), (154, 0.0), (155, 0.0), (156, 0.003701321679800415), (157, 0.0), (158, 0.0), (159, 0.0071319384742081675), (160, 0.009046899739893926), (161, 0.0), (162, 0.015012981173855263), (163, 0.02345557863465576), (164, 0.0), (165, 0.007877447826507959), (166, 0.03179500181167798), (167, 0.0), (168, 0.0035809060864720847), (169, 0.0044765144018010326), (170, 0.008256505047109453), (171, 0.004324975459901682), (172, 0.0), (173, 0.0), (174, 0.0), (175, 0.003847338538440734), (176, 0.0), (177, 0.015057152328848373), (178, 0.0), (179, 0.030671075718640882), (180, 0.029549818468197472), (181, 0.0), (182, 0.009185213571524818), (183, 0.007841489888301193), (184, 0.004012180922923117), (185, 0.008083329483654176), (186, 0.0038102543043939978), (187, 0.0), (188, 0.008494354848195662), (189, 0.048210595527955105), (190, 0.0), (191, 0.016936790403660876), (192, 0.004927927429944468), (193, 0.0), (194, 0.0), (195, 0.0038296963052363853), (196, 0.05282442412759405), (197, 0.0), (198, 0.0), (199, 0.007796175296454556), (200, 0.013260376857297492), (201, 0.004753704086097176), (202, 0.005979404576938793), (203, 0.0), (204, 0.0), (205, 0.0), (206, 0.0), (207, 0.04770093181605786), (208, 0.0), (209, 0.004597548912164982), (210, 0.0), (211, 0.004762446709239023), (212, 0.01705589318147458), (213, 0.0), (214, 0.012325649133771469), (215, 0.004476203157924024), (216, 0.004723655538753332), (217, 0.0), (218, 0.01370079856174625), (219, 0.008699414607447222), (220, 0.009633999428126767), (221, 0.008664070015920542), (222, 0.020718040186585844), (223, 0.004387463895020792), (224, 0.024685073625956913), (225, 0.005240040424413986), (226, 0.0), (227, 0.0), (228, 0.006901423616874513), (229, 0.0), (230, 0.0), (231, 0.05378458445784193), (232, 0.004905628530540128), (233, 0.0), (234, 0.003921353399300661), (235, 0.0), (236, 0.0), (237, 0.00369640794854745), (238, 0.019405842680320907), (239, 0.015302033718607258), (240, 0.013353094845653692), (241, 0.0), (242, 0.0074027693608231075), (243, 0.006415513053216996), (244, 0.0), (245, 0.008770247069226961), (246, 0.029408008176636677), (247, 0.0), (248, 0.009130956170835685), (249, 0.011987490420828736), (250, 0.03604165441385262), (251, 0.0078103841316503565), (252, 0.0), (253, 0.0), (254, 0.0), (255, 0.0), (256, 0.0), (257, 0.007465073963713384), (258, 0.015109506352118414), (259, 0.009060372939096112), (260, 0.004321586090516785), (261, 0.04067784839452698), (262, 0.0), (263, 0.027136777128125754), (264, 0.019590312005788858), (265, 0.009893344098823009), (266, 0.010517235554240069), (267, 0.02664810724504574), (268, 0.0), (269, 0.011728776257539994), (270, 0.0), (271, 0.03768051989252738), (272, 0.004554912972296562), (273, 0.08107451530001922), (274, 0.0), (275, 0.01043757896570057), (276, 0.0), (277, 0.015525844133798048), (278, 0.0), (279, 0.0042653967061444704), (280, 0.004544362104232846), (281, 0.0), (282, 0.0), (283, 0.013759822705114071), (284, 0.022490557267183395), (285, 0.0), (286, 0.0), (287, 0.012825712152391299), (288, 0.023896913241160004), (289, 0.0), (290, 0.0), (291, 0.013149770290573348), (292, 0.004420568398960166), (293, 0.0032396343072152232), (294, 0.003627806501216998), (295, 0.0), (296, 0.0), (297, 0.01868628073856573), (298, 0.013691115854594583), (299, 0.013104329307888858), (300, 0.008145767866023395), (301, 0.013864138333460778), (302, 0.0), (303, 0.010710442364676333), (304, 0.0), (305, 0.004551853125110881), (306, 0.008395908132922611), (307, 0.03026337031979492), (308, 0.009561074026909418), (309, 0.0072478704223241375), (310, 0.008755170764054934), (311, 0.009264189111802398), (312, 0.035788655807173615), (313, 0.020457789701860143), (314, 0.0), (315, 0.0), (316, 0.017633813232305184), (317, 0.0), (318, 0.0), (319, 0.007466532178867579), (320, 0.01971184401963642), (321, 0.0), (322, 0.0), (323, 0.0), (324, 0.004199443518250892), (325, 0.0), (326, 0.0), (327, 0.02830110923014639), (328, 0.008850238321941921), (329, 0.02272761284101013), (330, 0.006296403294676794), (331, 0.009802936388817823), (332, 0.0), (333, 0.0), (334, 0.02600198888226382), (335, 0.01211668175053765), (336, 0.006535403331792851), (337, 0.013093665576854518), (338, 0.05992262011120453), (339, 0.009551432894282034), (340, 0.009186613900101911), (341, 0.045804211954832606), (342, 0.004963425758186765), (343, 0.023761768566748505), (344, 0.03176984578283744), (345, 0.01270263484346572), (346, 0.02151941988226537), (347, 0.0045717027580573924), (348, 0.004510326840661853), (349, 0.0), (350, 0.0), (351, 0.006523251471295677), (352, 0.01311186394803767), (353, 0.004627472269247078), (354, 0.04434732580060736), (355, 0.0), (356, 0.004346030616713211), (357, 0.007863561745966), (358, 0.0), (359, 0.009057860843790861), (360, 0.0), (361, 0.013912706315451086), (362, 0.009440116713613205), (363, 0.009342977977569313), (364, 0.0), (365, 0.009494873234867855), (366, 0.0), (367, 0.025858241432076115), (368, 0.037869302972758596), (369, 0.02414510305214031), (370, 0.0), (371, 0.005013678465851925), (372, 0.02247335822776699), (373, 0.0), (374, 0.0), (375, 0.0), (376, 0.0629047030459658), (377, 0.0), (378, 0.0), (379, 0.0), (380, 0.005234269388263356), (381, 0.0037213598911980434), (382, 0.0), (383, 0.0076202236058098925), (384, 0.0), (385, 0.0), (386, 0.0), (387, 0.004297104368426281), (388, 0.004301212181882057), (389, 0.0), (390, 0.0), (391, 0.010950535017117511), (392, 0.013922170070805082), (393, 0.0), (394, 0.016068786706436158), (395, 0.01610110757648645), (396, 0.0), (397, 0.0), (398, 0.0), (399, 0.0298958798490166), (400, 0.01885196108884213), (401, 0.008665720507160427), (402, 0.0), (403, 0.00772371179283955), (404, 0.016595034476470188), (405, 0.009166186742336255), (406, 0.0), (407, 0.017827776989238632), (408, 0.02208477738297261), (409, 0.012066607738144372), (410, 0.028102623239487853), (411, 0.027016065332861848), (412, 0.007444716428461612), (413, 0.009130090087804493), (414, 0.007411939785572996), (415, 0.010425136819893358), (416, 0.0041752478995552835), (417, 0.004232189062876986), (418, 0.00963883062377942), (419, 0.0), (420, 0.01551273420774942), (421, 0.01013636719987194), (422, 0.0), (423, 0.008486243687717937), (424, 0.005173348072035754), (425, 0.005168859617198929), (426, 0.004261661369011981), (427, 0.004370299749250417), (428, 0.008227125168613658), (429, 0.0), (430, 0.010623475491072891), (431, 0.0), (432, 0.0), (433, 0.01227572542995089), (434, 0.0), (435, 0.0), (436, 0.0), (437, 0.008112935894139075), (438, 0.0), (439, 0.01434148858972555), (440, 0.0), (441, 0.007530290075942268), (442, 0.057282643633614135), (443, 0.0), (444, 0.01672119283233869), (445, 0.0), (446, 0.0), (447, 0.0), (448, 0.005259065829742582), (449, 0.0), (450, 0.010830361858289485), (451, 0.009912748782669536), (452, 0.0102949277275419), (453, 0.007547353255930679), (454, 0.004228639494882319), (455, 0.0), (456, 0.01589982668532628), (457, 0.007847431708251638), (458, 0.0), (459, 0.02679723971663351), (460, 0.009070193326395403), (461, 0.010125243764812537), (462, 0.03486476164634398), (463, 0.0), (464, 0.0), (465, 0.0), (466, 0.0), (467, 0.0), (468, 0.0), (469, 0.00753073463661915), (470, 0.024845487305218683), (471, 0.025207149023173402), (472, 0.004690698752381948), (473, 0.0), (474, 0.0), (475, 0.15680059114102857), (476, 0.016473404918473752), (477, 0.02226723643464014), (478, 0.0), (479, 0.0), (480, 0.0), (481, 0.016320345519326374), (482, 0.0), (483, 0.004810669385113956), (484, 0.031139647488652816), (485, 0.0), (486, 0.004375488586424066), (487, 0.0), (488, 0.0), (489, 0.0), (490, 0.008466640157060711), (491, 0.0053265757717303516), (492, 0.004253917984455145), (493, 0.0), (494, 0.0), (495, 0.02790374536929429), (496, 0.011669755835970465), (497, 0.011663285187966568), (498, 0.012494980274706574), (499, 0.0), (500, 0.008885276279897597), (501, 0.0), (502, 0.0), (503, 0.0), (504, 0.004583810358752781), (505, 0.0), (506, 0.038836142658518334), (507, 0.004278214749970949), (508, 0.042009122602919266), (509, 0.010121997714001667), (510, 0.003642006253472185), (511, 0.029914712340006738), (512, 0.005415385882095704), (513, 0.0), (514, 0.0), (515, 0.0), (516, 0.010288242449128892), (517, 0.13076462394893593), (518, 0.0), (519, 0.007549346752467791), (520, 0.0), (521, 0.004386784116686947), (522, 0.008299649349745733), (523, 0.009579115800324613), (524, 0.016203331413445918), (525, 0.0045318813313618605), (526, 0.0), (527, 0.013537736833292412), (528, 0.00870597832689163), (529, 0.031743823462853454), (530, 0.00897019336590773), (531, 0.0), (532, 0.0), (533, 0.0), (534, 0.0), (535, 0.0), (536, 0.0), (537, 0.01708240201885998), (538, 0.007516889049645071), (539, 0.0), (540, 0.008410282246038223), (541, 0.0), (542, 0.0), (543, 0.0), (544, 0.0), (545, 0.004002524002355421), (546, 0.00824956402613032), (547, 0.0038414381003391454), (548, 0.004272621153080512), (549, 0.012160211249290526), (550, 0.0), (551, 0.004731889079526958), (552, 0.009910752852370554), (553, 0.0064804159997765036), (554, 0.018239273609124956), (555, 0.030639977885477843), (556, 0.03563338037081296), (557, 0.009618180300008194), (558, 0.009101409754831138), (559, 0.008793323058168979), (560, 0.004570054398692464), (561, 0.016799074721822564), (562, 0.014841762236685109), (563, 0.027064454866024226), (564, 0.0), (565, 0.0), (566, 0.011467610715971585), (567, 0.0), (568, 0.008451620280439517), (569, 0.00834953975116033), (570, 0.0), (571, 0.0), (572, 0.0), (573, 0.0), (574, 0.0), (575, 0.016411899872778326), (576, 0.009638477496633963), (577, 0.01752133861347696), (578, 0.0), (579, 0.01928732196725589), (580, 0.06282098571241575), (581, 0.0), (582, 0.0), (583, 0.025369871169260618), (584, 0.015528188404923498), (585, 0.00438308394383902), (586, 0.0), (587, 0.0), (588, 0.020328837842756714), (589, 0.0), (590, 0.02907740842809511), (591, 0.0), (592, 0.0), (593, 0.0), (594, 0.008144953155911122), (595, 0.0), (596, 0.0), (597, 0.01997314076026912), (598, 0.0), (599, 0.004793389113325436), (600, 0.004794297753638784), (601, 0.10808022915680388), (602, 0.0), (603, 0.004846154682887301), (604, 0.0), (605, 0.0), (606, 0.0), (607, 0.024230641502295872), (608, 0.0), (609, 0.018075537667287235), (610, 0.004530094696015179), (611, 0.0), (612, 0.0), (613, 0.0044910069628989165), (614, 0.00522766068910768), (615, 0.004719769902770707), (616, 0.025012170823929113), (617, 0.02100359982254836), (618, 0.004448060024044562), (619, 0.009824369982270294), (620, 0.05270453332203001), (621, 0.032519996948636144), (622, 0.0), (623, 0.0), (624, 0.0), (625, 0.0), (626, 0.0), (627, 0.0), (628, 0.018957255557574503), (629, 0.0), (630, 0.009972886849830054), (631, 0.024247703897633296), (632, 0.0), (633, 0.009669388557301437), (634, 0.024438432145598786), (635, 0.009948880274948554), (636, 0.0), (637, 0.0), (638, 0.0), (639, 0.0038474007640726627), (640, 0.007628611826267109), (641, 0.006122760252700111), (642, 0.0), (643, 0.004415152574811195), (644, 0.004328266269989229), (645, 0.0), (646, 0.0), (647, 0.0), (648, 0.0), (649, 0.0), (650, 0.0), (651, 0.0), (652, 0.02396391541058572), (653, 0.024949596533160194), (654, 0.004802167124055053), (655, 0.0), (656, 0.015766257653960045), (657, 0.060596928046491756), (658, 0.0), (659, 0.0), (660, 0.0), (661, 0.021912782623483357), (662, 0.008289956469290916), (663, 0.0), (664, 0.02093872610650243), (665, 0.008569254911153405), (666, 0.005127093045309052), (667, 0.0), (668, 0.015477346422342109), (669, 0.004192285966952915), (670, 0.0), (671, 0.0), (672, 0.0), (673, 0.0), (674, 0.0), (675, 0.004968782122970322), (676, 0.0), (677, 0.004993310308927786), (678, 0.0), (679, 0.0), (680, 0.004845520542830555), (681, 0.1364441676158345), (682, 0.0), (683, 0.005143699812160495), (684, 0.01002999432885681), (685, 0.009360935896990344), (686, 0.026035735704853426), (687, 0.005055022293508434), (688, 0.0), (689, 0.0045312849452765515), (690, 0.004239187481759928), (691, 0.014275381340683131), (692, 0.00787593048756501), (693, 0.0), (694, 0.0), (695, 0.02157929750580654), (696, 0.0), (697, 0.0), (698, 0.0), (699, 0.021690455571582695), (700, 0.06337571880710335), (701, 0.005086063378481373), (702, 0.0), (703, 0.007594915474043773), (704, 0.004926601219230121), (705, 0.0), (706, 0.017647784854429728), (707, 0.016003347371291665), (708, 0.0), (709, 0.0), (710, 0.02507614030753157), (711, 0.0), (712, 0.00755401796987918), (713, 0.12273281373933798), (714, 0.0), (715, 0.009435042345990444), (716, 0.0), (717, 0.01366783295911208), (718, 0.0), (719, 0.010981242403690226), (720, 0.008223311239995826), (721, 0.0), (722, 0.004093998645432166), (723, 0.011571302774350986), (724, 0.027164204573142517), (725, 0.1331258735746592), (726, 0.014768769321265912), (727, 0.008952906939891191), (728, 0.0), (729, 0.0), (730, 0.05228829608260148), (731, 0.013075225454652945), (732, 0.0), (733, 0.03181035120153873), (734, 0.0), (735, 0.0), (736, 0.004586825432687812), (737, 0.00513899344141975), (738, 0.0075069078367979835), (739, 0.0283871646860331), (740, 0.012613585727188334), (741, 0.0), (742, 0.0219573339133901), (743, 0.0), (744, 0.013341318713598987), (745, 0.007905305116944816), (746, 0.0096384370857474), (747, 0.005079790650702304), (748, 0.03549780658549147), (749, 0.036787419814522035), (750, 0.03286966530665225), (751, 0.0), (752, 0.008947393788987035), (753, 0.0), (754, 0.0), (755, 0.0), (756, 0.004000929858730298), (757, 0.010918453937457835), (758, 0.019174245661253343), (759, 0.0), (760, 0.0), (761, 0.0), (762, 0.007898566732149408), (763, 0.026565262726477107), (764, 0.0), (765, 0.004815351767964388), (766, 0.0), (767, 0.004322099231995106), (768, 0.009296152607683275), (769, 0.004496628744891001), (770, 0.00911640832442778), (771, 0.0), (772, 0.0), (773, 0.027196437307505317), (774, 0.0), (775, 0.006971417407337634), (776, 0.013167094766219465), (777, 0.0), (778, 0.024269689957550966), (779, 0.02015888795422843), (780, 0.008669904910350683), (781, 0.013802807981424185), (782, 0.004372118317474673), (783, 0.0), (784, 0.0), (785, 0.009117949761121298), (786, 0.0), (787, 0.005573881696851301), (788, 0.0041834064862098655), (789, 0.007353922850563377), (790, 0.004416088200837884), (791, 0.0), (792, 0.0048466356072630985), (793, 0.0), (794, 0.02545831333030659), (795, 0.0), (796, 0.0), (797, 0.0), (798, 0.035085163230537786), (799, 0.07182348492165803), (800, 0.0), (801, 0.017223627269568203), (802, 0.0), (803, 0.012216812911072846), (804, 0.0), (805, 0.004213306069655658), (806, 0.0), (807, 0.010406148261668318), (808, 0.0), (809, 0.0), (810, 0.039314139261245676), (811, 0.010006579501849343), (812, 0.052659315137122), (813, 0.01023468989849007), (814, 0.04796882792245527), (815, 0.0), (816, 0.0), (817, 0.0), (818, 0.01797460292124309), (819, 0.0), (820, 0.020633842359602743), (821, 0.004172805221697734), (822, 0.0), (823, 0.0), (824, 0.005954058150647689), (825, 0.0), (826, 0.0), (827, 0.0), (828, 0.0), (829, 0.004185525202435001), (830, 0.0), (831, 0.01059438212494645), (832, 0.004632745386816462), (833, 0.02683414173400586), (834, 0.028439320781421716), (835, 0.027110067892146206), (836, 0.007537626387778554), (837, 0.0), (838, 0.0), (839, 0.011151400714150772), (840, 0.013233665998794738), (841, 0.0), (842, 0.0), (843, 0.0), (844, 0.033893466967614576), (845, 0.0), (846, 0.0), (847, 0.005224828743156087), (848, 0.0), (849, 0.0), (850, 0.004638451805341183), (851, 0.0), (852, 0.013075264596214652), (853, 0.003522807127486454), (854, 0.004348296213503473), (855, 0.011269867996209361), (856, 0.0), (857, 0.0), (858, 0.0), (859, 0.008082141687623536), (860, 0.0), (861, 0.016384330455219576), (862, 0.007938669380929277), (863, 0.0), (864, 0.032546180953931005), (865, 0.0), (866, 0.018186955468781192), (867, 0.0), (868, 0.0), (869, 0.0), (870, 0.027364180113089068), (871, 0.019549532502321925), (872, 0.016065975584247376), (873, 0.0), (874, 0.024266566375580147), (875, 0.020636793433949085), (876, 0.0), (877, 0.0), (878, 0.050742256289787055), (879, 0.0), (880, 0.0), (881, 0.014376704253507164), (882, 0.004038841080246413), (883, 0.004352385171654891), (884, 0.0), (885, 0.004086765668905428), (886, 0.0), (887, 0.016317734828220246), (888, 0.0), (889, 0.0), (890, 0.004751896454380852), (891, 0.004799440814115087), (892, 0.0), (893, 0.008900134160654662), (894, 0.00451347378540474), (895, 0.012734683861780323), (896, 0.0), (897, 0.004590926277370014), (898, 0.03061934588792488), (899, 0.00420004213696537), (900, 0.0), (901, 0.0), (902, 0.0484907447652482), (903, 0.0), (904, 0.0053634228764693394), (905, 0.0), (906, 0.0), (907, 0.00419000133187489), (908, 0.004654645070654624), (909, 0.008641710459564304), (910, 0.0), (911, 0.008633080784684015), (912, 0.0075184614231199026), (913, 0.0048329846990141775), (914, 0.0), (915, 0.004384300715998282), (916, 0.02185187389017398), (917, 0.0), (918, 0.0047151622925180915), (919, 0.019880939022847585), (920, 0.007849194500688798), (921, 0.0), (922, 0.0), (923, 0.018107372754277172), (924, 0.003968728788666688), (925, 0.042385890817551654), (926, 0.0), (927, 0.0), (928, 0.00475471051127821), (929, 0.00657347182686573), (930, 0.025600901969918648), (931, 0.013097395707024768), (932, 0.008823157022505851), (933, 0.0), (934, 0.008304988692195274), (935, 0.012713734388436843), (936, 0.0), (937, 0.0), (938, 0.004567076235490304), (939, 0.0), (940, 0.005983892713030132), (941, 0.0), (942, 0.0), (943, 0.0), (944, 0.0139818255242483), (945, 0.004613511505388391), (946, 0.008508504489765978), (947, 0.0), (948, 0.005736906059159795), (949, 0.0), (950, 0.011531687933341432), (951, 0.0), (952, 0.010669478712744238), (953, 0.05830555392925382), (954, 0.0), (955, 0.0), (956, 0.0), (957, 0.02934133043576003), (958, 0.0), (959, 0.0), (960, 0.02640218945095111), (961, 0.00884631730123489), (962, 0.008640667057612522), (963, 0.03177215436047068), (964, 0.008228180240170205), (965, 0.026933527327237684), (966, 0.004301929160823621), (967, 0.0), (968, 0.017881719870519418), (969, 0.019420172054921647), (970, 0.012188688993071265), (971, 0.004689811546926951), (972, 0.0), (973, 0.008977817854979206), (974, 0.004265254009511795), (975, 0.0), (976, 0.0), (977, 0.009326375559649304), (978, 0.004214331527317264), (979, 0.02199789870157743), (980, 0.0), (981, 0.008203819075110542), (982, 0.01002418158328794), (983, 0.0), (984, 0.0), (985, 0.0), (986, 0.0), (987, 0.0), (988, 0.03199187309214171), (989, 0.0), (990, 0.0), (991, 0.010594843135280604), (992, 0.05463207217239281), (993, 0.0045897846243186085), (994, 0.015250847241985688), (995, 0.013390481586369895), (996, 0.0), (997, 0.01349688774889282), (998, 0.0), (999, 0.0), (1000, 0.025170752823717835), (1001, 0.008684960516380196), (1002, 0.008682398074473562), (1003, 0.010088692921000588), (1004, 0.02690229656936796), (1005, 0.0069651537263166205), (1006, 0.004760144117528316), (1007, 0.01979451527580248), (1008, 0.007326534012319693), (1009, 0.028369252550694696), (1010, 0.0038536543038357497), (1011, 0.01480171427307932), (1012, 0.0), (1013, 0.009034403502755814), (1014, 0.01981184731108368), (1015, 0.02989187276147289), (1016, 0.04186118122873875), (1017, 0.0), (1018, 0.017059794176263465), (1019, 0.0), (1020, 0.0), (1021, 0.0), (1022, 0.004535435974113689), (1023, 0.0), (1024, 0.0), (1025, 0.011679567082533147), (1026, 0.0), (1027, 0.0), (1028, 0.0), (1029, 0.008623248489623321), (1030, 0.0), (1031, 0.015338461532867), (1032, 0.0), (1033, 0.0534946572949038), (1034, 0.0), (1035, 0.0044263082992159804), (1036, 0.0), (1037, 0.0), (1038, 0.0), (1039, 0.008284379813505471), (1040, 0.0), (1041, 0.017818548838038975), (1042, 0.0), (1043, 0.004979067404939478), (1044, 0.014537706999695973), (1045, 0.0), (1046, 0.0038699289626711255), (1047, 0.004747114482943396), (1048, 0.004734718689840704), (1049, 0.0), (1050, 0.0), (1051, 0.0), (1052, 0.04371168987577474), (1053, 0.0), (1054, 0.004302333950422288), (1055, 0.0), (1056, 0.01569608924241637), (1057, 0.010590695568571567), (1058, 0.0), (1059, 0.02312241495210042), (1060, 0.02693343843493514), (1061, 0.0), (1062, 0.0), (1063, 0.0), (1064, 0.0), (1065, 0.0), (1066, 0.00839268661651958), (1067, 0.016309661602659647), (1068, 0.043665481826090785), (1069, 0.0), (1070, 0.0), (1071, 0.019448988321097142), (1072, 0.0), (1073, 0.0), (1074, 0.01908509625172378), (1075, 0.0), (1076, 0.0), (1077, 0.004654750533661792), (1078, 0.0), (1079, 0.007862680507478109), (1080, 0.0135098905978828), (1081, 0.009080754833359638), (1082, 0.009693680265865506), (1083, 0.0), (1084, 0.00837805110877792), (1085, 0.008716512904364955), (1086, 0.0), (1087, 0.00926429299947001), (1088, 0.007309023908345247), (1089, 0.0), (1090, 0.02868399372601026), (1091, 0.0), (1092, 0.012508476128834071), (1093, 0.01719678229149217), (1094, 0.0), (1095, 0.04258833417614154), (1096, 0.0), (1097, 0.009679702627787964), (1098, 0.051001881480159376), (1099, 0.0), (1100, 0.0), (1101, 0.0), (1102, 0.018661256525392973), (1103, 0.0), (1104, 0.015184449307122715), (1105, 0.009247854959809598), (1106, 0.01291299974208159), (1107, 0.0), (1108, 0.015312328546744067), (1109, 0.02674517194766017), (1110, 0.014751027704618608), (1111, 0.009311979305008388), (1112, 0.0), (1113, 0.008796909054611298), (1114, 0.012071860094394333), (1115, 0.0), (1116, 0.01951433683898881), (1117, 0.0), (1118, 0.013133392775132268), (1119, 0.010537990333021791), (1120, 0.0038845282175341603), (1121, 0.0), (1122, 0.0), (1123, 0.04775520681545398), (1124, 0.0), (1125, 0.0), (1126, 0.0), (1127, 0.0), (1128, 0.0), (1129, 0.009115990401365483), (1130, 0.019170022137259376), (1131, 0.02350684060192651), (1132, 0.022412386246553763), (1133, 0.0), (1134, 0.017150488165753396), (1135, 0.009159166503281314), (1136, 0.007988833878803732), (1137, 0.0), (1138, 0.0), (1139, 0.029576908145630576), (1140, 0.03448701107414251), (1141, 0.009137327474792498), (1142, 0.008957338685592977), (1143, 0.01728841330955027), (1144, 0.04748432500866801), (1145, 0.0), (1146, 0.01394889535060636), (1147, 0.0), (1148, 0.0), (1149, 0.0), (1150, 0.004914343099358127), (1151, 0.0), (1152, 0.0), (1153, 0.006920323449282262), (1154, 0.0), (1155, 0.013593463851864404), (1156, 0.0), (1157, 0.0041805287011275625), (1158, 0.011027312364437313), (1159, 0.0), (1160, 0.0), (1161, 0.0), (1162, 0.0), (1163, 0.009852718509716755), (1164, 0.0), (1165, 0.052602058826047904), (1166, 0.008715594407995618), (1167, 0.010813306759175221), (1168, 0.05178054868560003), (1169, 0.0), (1170, 0.004561394194109457), (1171, 0.017721207092259727), (1172, 0.015025349147973264), (1173, 0.017704160112660357), (1174, 0.0), (1175, 0.0), (1176, 0.0), (1177, 0.0092976765177577), (1178, 0.0038705383578272723), (1179, 0.004555643148442719), (1180, 0.0), (1181, 0.0), (1182, 0.008723490174524307), (1183, 0.0), (1184, 0.0), (1185, 0.004800252844979594), (1186, 0.004000686390964254), (1187, 0.0), (1188, 0.0), (1189, 0.010375487522135098), (1190, 0.0), (1191, 0.03691031576242423), (1192, 0.035611977991151324), (1193, 0.0), (1194, 0.003980826728945192), (1195, 0.013585794684526597), (1196, 0.008494357986957786), (1197, 0.009074992871168525), (1198, 0.008463526981285406), (1199, 0.0), (1200, 0.0), (1201, 0.0), (1202, 0.008372054303491208), (1203, 0.0), (1204, 0.008674991746780499), (1205, 0.0410102858187296), (1206, 0.01225208875154114), (1207, 0.00942936633056157), (1208, 0.005808839969635866), (1209, 0.0), (1210, 0.013252544050791137), (1211, 0.009352469968438889), (1212, 0.0), (1213, 0.0), (1214, 0.007641043280787945), (1215, 0.00390000459575558), (1216, 0.012394877492421418), (1217, 0.03518576030123707), (1218, 0.01376248608502357), (1219, 0.0), (1220, 0.013020766810440718), (1221, 0.0037879784946935227), (1222, 0.023117777195934573), (1223, 0.014482188714009466), (1224, 0.0), (1225, 0.0), (1226, 0.0), (1227, 0.0), (1228, 0.0), (1229, 0.015667346613994274), (1230, 0.0), (1231, 0.0), (1232, 0.0), (1233, 0.010341599234100428), (1234, 0.020147935835177513), (1235, 0.00830392932823003), (1236, 0.0), (1237, 0.0), (1238, 0.02342216645036676), (1239, 0.0291661241138755), (1240, 0.0), (1241, 0.03334172151789228), (1242, 0.0), (1243, 0.0), (1244, 0.0), (1245, 0.0), (1246, 0.014158914705732224), (1247, 0.022628877586574208), (1248, 0.0), (1249, 0.0), (1250, 0.014703785147164975), (1251, 0.0075660041213858826), (1252, 0.0), (1253, 0.018540251405415934), (1254, 0.0288394376341666), (1255, 0.0), (1256, 0.0), (1257, 0.008979586286281245), (1258, 0.0), (1259, 0.012493328739341102), (1260, 0.0), (1261, 0.0), (1262, 0.023296664221020235), (1263, 0.018541947877531387), (1264, 0.0), (1265, 0.010727337299502093), (1266, 0.0046483934719865234), (1267, 0.00440454891173319), (1268, 0.006844992711653461), (1269, 0.0), (1270, 0.04698093253943285), (1271, 0.010355734843269106), (1272, 0.009725009243816564), (1273, 0.004336289421379846), (1274, 0.013700510547532647), (1275, 0.0), (1276, 0.0), (1277, 0.0034072055020616266), (1278, 0.01018936936453524), (1279, 0.08249377848339633), (1280, 0.0), (1281, 0.0), (1282, 0.004871019055350083), (1283, 0.0), (1284, 0.0), (1285, 0.0), (1286, 0.0), (1287, 0.009509425961747605), (1288, 0.004145583315242717), (1289, 0.012329407716902739), (1290, 0.0), (1291, 0.016360954864311668), (1292, 0.0), (1293, 0.0), (1294, 0.05158308123938841), (1295, 0.024633365042488593), (1296, 0.015453925297362949), (1297, 0.004560090698243263), (1298, 0.017005600814456456), (1299, 0.015753639235088258), (1300, 0.030053988648917642), (1301, 0.003980585802348072), (1302, 0.0), (1303, 0.0), (1304, 0.009115577919409557), (1305, 0.007533452435072609), (1306, 0.017582876498631484), (1307, 0.016621696321130447), (1308, 0.012024646117045911), (1309, 0.0), (1310, 0.007716961498719378), (1311, 0.0), (1312, 0.02718113767568895), (1313, 0.0), (1314, 0.004482086721201991), (1315, 0.00960053241991532), (1316, 0.0), (1317, 0.0), (1318, 0.013383953653362021), (1319, 0.013410476900482695), (1320, 0.0), (1321, 0.005243793650109214), (1322, 0.004638156913931062), (1323, 0.0), (1324, 0.016008166130604202), (1325, 0.0), (1326, 0.0), (1327, 0.008130578354638054), (1328, 0.009016475518065808), (1329, 0.008992393318560768), (1330, 0.0), (1331, 0.0), (1332, 0.0), (1333, 0.009117824909811069), (1334, 0.01953187983146828), (1335, 0.0), (1336, 0.03350452343952175), (1337, 0.0), (1338, 0.03167906992271985), (1339, 0.0), (1340, 0.0), (1341, 0.007479077134247008), (1342, 0.008242045873096949), (1343, 0.017149577970957553), (1344, 0.0), (1345, 0.01898447487604816), (1346, 0.0045823046444885196), (1347, 0.013934441998347515), (1348, 0.0), (1349, 0.0051337574491429686), (1350, 0.0), (1351, 0.02450548944327993), (1352, 0.003870272844566852), (1353, 0.0), (1354, 0.008406240889103583), (1355, 0.0), (1356, 0.032018276293488315), (1357, 0.0), (1358, 0.008426680714955661), (1359, 0.0), (1360, 0.004146755646578126), (1361, 0.008685220649076385), (1362, 0.0), (1363, 0.026243639767785813), (1364, 0.004731041605714409), (1365, 0.027420297932040257), (1366, 0.0), (1367, 0.019565064927180284), (1368, 0.01264561574601172), (1369, 0.003729175693753441), (1370, 0.007372353798805802), (1371, 0.0), (1372, 0.0), (1373, 0.012697503002600849), (1374, 0.023599975209924236), (1375, 0.0043304900857281114), (1376, 0.0), (1377, 0.0036754076015828472), (1378, 0.08347579377943119), (1379, 0.0), (1380, 0.004805197952383613), (1381, 0.005228591312974679), (1382, 0.0), (1383, 0.0), (1384, 0.03204182911401358), (1385, 0.0), (1386, 0.0), (1387, 0.0), (1388, 0.0), (1389, 0.018007177602122126), (1390, 0.004901930662776227), (1391, 0.011011514518189058), (1392, 0.01739379406613701), (1393, 0.0), (1394, 0.01161202813269236), (1395, 0.011612434365693683), (1396, 0.009529710281677541), (1397, 0.0), (1398, 0.0), (1399, 0.0), (1400, 0.019820077636370614), (1401, 0.05416030029783089), (1402, 0.004777758564182808), (1403, 0.0), (1404, 0.004306892838062039), (1405, 0.0), (1406, 0.014667024192071181), (1407, 0.010489010173857985), (1408, 0.0), (1409, 0.0), (1410, 0.0), (1411, 0.004502364563379636), (1412, 0.008673476252358767), (1413, 0.009248139389187254), (1414, 0.0), (1415, 0.0), (1416, 0.018182120384595782), (1417, 0.0), (1418, 0.007004476952943033), (1419, 0.0), (1420, 0.023443123880012726), (1421, 0.004392404726024769), (1422, 0.004436235887683933), (1423, 0.007588199863992715), (1424, 0.0), (1425, 0.02859966515145034), (1426, 0.025741299755237073), (1427, 0.0), (1428, 0.00935625860331628), (1429, 0.0), (1430, 0.013414240194057512), (1431, 0.014772393470271344), (1432, 0.015632172326660823), (1433, 0.0), (1434, 0.0), (1435, 0.0), (1436, 0.0048208548282697656), (1437, 0.0), (1438, 0.023202348995063588), (1439, 0.04421785008289767), (1440, 0.0), (1441, 0.0), (1442, 0.03422526259651146), (1443, 0.009401644650501388), (1444, 0.0), (1445, 0.0), (1446, 0.004366272947130092), (1447, 0.0044940468509097895), (1448, 0.0), (1449, 0.010390839197579178), (1450, 0.0), (1451, 0.02586195873305215), (1452, 0.038963390660140824), (1453, 0.007331960947701331), (1454, 0.016483354000699307), (1455, 0.0), (1456, 0.004229081824809576), (1457, 0.0), (1458, 0.01591406740013506), (1459, 0.008969686562508671), (1460, 0.009465490971839227), (1461, 0.019782283990232914), (1462, 0.0), (1463, 0.012636689464657385), (1464, 0.06032193069351776), (1465, 0.024396120653791084), (1466, 0.009967494808960612), (1467, 0.01897475374210058), (1468, 0.00403862700337758), (1469, 0.010217960734208725), (1470, 0.0), (1471, 0.00675751046172727), (1472, 0.013827741271873362), (1473, 0.0), (1474, 0.014616460096358036), (1475, 0.0), (1476, 0.0), (1477, 0.03363416565789283), (1478, 0.0), (1479, 0.0), (1480, 0.009174071188980705), (1481, 0.0), (1482, 0.011456131188132521), (1483, 0.0), (1484, 0.0), (1485, 0.0), (1486, 0.005017766947620759), (1487, 0.016746292354710812), (1488, 0.0), (1489, 0.0), (1490, 0.0), (1491, 0.01635413129697972), (1492, 0.0), (1493, 0.013908344190154139), (1494, 0.037875293665945456), (1495, 0.017969706380947553), (1496, 0.024632074987003445), (1497, 0.0), (1498, 0.010973100328189959), (1499, 0.0), (1500, 0.013505499583410886), (1501, 0.004550507247094537), (1502, 0.004811489366757594), (1503, 0.02186851543592668), (1504, 0.0), (1505, 0.008574918804957192), (1506, 0.02223689055165546), (1507, 0.0), (1508, 0.0), (1509, 0.0348485857922277), (1510, 0.014563965635690972), (1511, 0.015665374153129973), (1512, 0.01510486437428783), (1513, 0.008906734830997937), (1514, 0.0), (1515, 0.014520390343987728), (1516, 0.030910508862397587), (1517, 0.009072486860243995), (1518, 0.0), (1519, 0.0), (1520, 0.01406951755917665), (1521, 0.024280715219754036), (1522, 0.01783598611711176), (1523, 0.02012561598899776), (1524, 0.012003589934695226), (1525, 0.013438048704853609), (1526, 0.05594257128393314), (1527, 0.027062991478483935), (1528, 0.0), (1529, 0.015612677854151602), (1530, 0.0037313316553094105), (1531, 0.019462768318284522), (1532, 0.009368973087113366), (1533, 0.047368369757290765), (1534, 0.010272069053960258), (1535, 0.012130881235162944), (1536, 0.01026372129030938), (1537, 0.023186239600186908), (1538, 0.0), (1539, 0.011686859755909164), (1540, 0.0), (1541, 0.008342945824472802), (1542, 0.0), (1543, 0.017323156716053997), (1544, 0.0), (1545, 0.0), (1546, 0.003919661490141282), (1547, 0.0), (1548, 0.0057673668297479), (1549, 0.0), (1550, 0.0), (1551, 0.01417882695324428), (1552, 0.008174817754977533), (1553, 0.008042366951363877), (1554, 0.0), (1555, 0.038893388263598706), (1556, 0.009244549716046428), (1557, 0.00878581326372754), (1558, 0.021778779851764136), (1559, 0.012485459899357808), (1560, 0.011122415799639742), (1561, 0.028849334770071337), (1562, 0.009142230385516996), (1563, 0.0), (1564, 0.0046663887696083844), (1565, 0.020767738192517378), (1566, 0.0), (1567, 0.013594193136887056), (1568, 0.0383997132129274), (1569, 0.0), (1570, 0.0), (1571, 0.029764801961637118), (1572, 0.0), (1573, 0.009723606002299011), (1574, 0.004597886199188802), (1575, 0.0), (1576, 0.0), (1577, 0.004596049690730853), (1578, 0.022809275127536527), (1579, 0.012848270395163234), (1580, 0.0), (1581, 0.0064657168524618015), (1582, 0.0), (1583, 0.004991713270999773), (1584, 0.012482978402336411), (1585, 0.0), (1586, 0.08083703806774149), (1587, 0.004637898599711391), (1588, 0.010312941394839367), (1589, 0.0), (1590, 0.008605504101861913), (1591, 0.0), (1592, 0.0), (1593, 0.03271161788734759), (1594, 0.010202624864099296), (1595, 0.013055451963272388), (1596, 0.0), (1597, 0.004389012880825275), (1598, 0.008440254560105371), (1599, 0.0), (1600, 0.054546023165406285), (1601, 0.007589371198858776), (1602, 0.0088710904620298), (1603, 0.0), (1604, 0.008477277883275595), (1605, 0.0), (1606, 0.029748774418613705), (1607, 0.008326438539495749), (1608, 0.00804349465935335), (1609, 0.0), (1610, 0.025324801748257124), (1611, 0.0), (1612, 0.0), (1613, 0.013632747709666432), (1614, 0.010558862772006213), (1615, 0.010125241639604904), (1616, 0.0), (1617, 0.03144444347295935), (1618, 0.0), (1619, 0.054619657387035864), (1620, 0.004260377486845371), (1621, 0.0), (1622, 0.009702330028956816), (1623, 0.023036353410100283), (1624, 0.0), (1625, 0.0), (1626, 0.004128455068495058), (1627, 0.008437051725916807), (1628, 0.0), (1629, 0.0), (1630, 0.018011694452872068), (1631, 0.009364316514228485), (1632, 0.013831834344716618), (1633, 0.02739734863164385), (1634, 0.009782477500323005), (1635, 0.009679754392368392), (1636, 0.014863930086892782), (1637, 0.0), (1638, 0.0), (1639, 0.0), (1640, 0.01415581842827244), (1641, 0.0), (1642, 0.0042168958817404584), (1643, 0.015145643566327279), (1644, 0.0), (1645, 0.004401632065449534), (1646, 0.0), (1647, 0.009330017239345435), (1648, 0.07564451243799762), (1649, 0.009198578268513617), (1650, 0.008449898440829662), (1651, 0.0), (1652, 0.0), (1653, 0.0044431392041455395), (1654, 0.0), (1655, 0.0), (1656, 0.0), (1657, 0.0), (1658, 0.0), (1659, 0.0), (1660, 0.03365302472057939), (1661, 0.01062875496175374), (1662, 0.03097003640868072), (1663, 0.04783984464088681), (1664, 0.008097807391321626), (1665, 0.0), (1666, 0.008986258283019972), (1667, 0.009096370732966397), (1668, 0.008773782725658324), (1669, 0.005606130729362535), (1670, 0.008999138534386303), (1671, 0.0), (1672, 0.0), (1673, 0.0), (1674, 0.0), (1675, 0.012452258811316091), (1676, 0.006826909380755235), (1677, 0.0), (1678, 0.023225469820642466), (1679, 0.009873509728144542), (1680, 0.0), (1681, 0.005002214061621965), (1682, 0.0042756791219552516), (1683, 0.009149457774145739), (1684, 0.007489569142052257), (1685, 0.0), (1686, 0.0), (1687, 0.034150200912604234), (1688, 0.009292165764819643), (1689, 0.009560633301041115), (1690, 0.007703405598447206), (1691, 0.033385247300384155), (1692, 0.004508094321338885), (1693, 0.0), (1694, 0.0), (1695, 0.010608353478353127), (1696, 0.0), (1697, 0.008800970601950085), (1698, 0.015742284159839116), (1699, 0.021523611395523282), (1700, 0.01683312817979199), (1701, 0.026241669765578804), (1702, 0.0047356113743617905), (1703, 0.0), (1704, 0.0133602188075952), (1705, 0.0), (1706, 0.008628042271563895), (1707, 0.02014886257389208), (1708, 0.0), (1709, 0.04848758005683677), (1710, 0.0043159721196205725), (1711, 0.04457137969408703), (1712, 0.0), (1713, 0.009708956267138415), (1714, 0.025703567822469835), (1715, 0.0), (1716, 0.005109825881565064), (1717, 0.0), (1718, 0.024719291796767764), (1719, 0.0041120145405366204), (1720, 0.008516005410042419), (1721, 0.0), (1722, 0.0), (1723, 0.049055406358501155), (1724, 0.060907090068940246), (1725, 0.005037087730006009), (1726, 0.013449372119960402), (1727, 0.015603290079655873), (1728, 0.0), (1729, 0.017329412537906926), (1730, 0.0), (1731, 0.00916677160888774), (1732, 0.0), (1733, 0.00499577033798076), (1734, 0.0), (1735, 0.0), (1736, 0.0), (1737, 0.0), (1738, 0.0043253921669120865), (1739, 0.0), (1740, 0.0), (1741, 0.0), (1742, 0.018497777611214353), (1743, 0.0038782544273141973), (1744, 0.008156691860794364), (1745, 0.008448049679712877), (1746, 0.008504622026930834), (1747, 0.021006314923372144), (1748, 0.0), (1749, 0.0), (1750, 0.013411731943827923), (1751, 0.004609822940029185), (1752, 0.0), (1753, 0.008484038036608575), (1754, 0.046521604421554064), (1755, 0.01680760370149532), (1756, 0.027755962286707514), (1757, 0.0), (1758, 0.015155713605565658), (1759, 0.0), (1760, 0.025566769857221804), (1761, 0.0), (1762, 0.028144784953206776), (1763, 0.0), (1764, 0.007898865977156779), (1765, 0.0), (1766, 0.009435160441682305), (1767, 0.0), (1768, 0.033115423019596434), (1769, 0.02764105848651916), (1770, 0.0), (1771, 0.02296685741811423), (1772, 0.00395377081245376), (1773, 0.009670349861898792), (1774, 0.0), (1775, 0.01565917735331805), (1776, 0.029775638433213722), (1777, 0.0), (1778, 0.004243878554485805), (1779, 0.0), (1780, 0.0), (1781, 0.007753542852551442), (1782, 0.004167220046000306), (1783, 0.008044979147191766), (1784, 0.01966522181640749), (1785, 0.0), (1786, 0.0), (1787, 0.00863080382082922), (1788, 0.017137858281159084), (1789, 0.0), (1790, 0.0), (1791, 0.0), (1792, 0.017635966383416985), (1793, 0.021893513598035434), (1794, 0.013200604843580491), (1795, 0.008924632779579231), (1796, 0.0), (1797, 0.0), (1798, 0.025317124634732072), (1799, 0.009980460548396578), (1800, 0.0076508076458566875), (1801, 0.0), (1802, 0.0038807309155858695), (1803, 0.0), (1804, 0.013146224543444544), (1805, 0.03012820029550012), (1806, 0.0), (1807, 0.004469148567675967), (1808, 0.004086212776770053), (1809, 0.004117725776401172), (1810, 0.008174418529103519), (1811, 0.0), (1812, 0.009734399349611213), (1813, 0.01916473831754958), (1814, 0.0), (1815, 0.0), (1816, 0.004107164791914493), (1817, 0.017035483453248818), (1818, 0.008635271371589844), (1819, 0.009195389163323752), (1820, 0.025436885588851318), (1821, 0.01996594845217828), (1822, 0.0), (1823, 0.008431154147255945), (1824, 0.013560569840590352), (1825, 0.03251365825900273), (1826, 0.0), (1827, 0.017205456018104297), (1828, 0.003931438263789882), (1829, 0.0), (1830, 0.007575994826961454), (1831, 0.01881260553471338), (1832, 0.0), (1833, 0.0), (1834, 0.0), (1835, 0.010356138671734176), (1836, 0.0), (1837, 0.008466250185865706), (1838, 0.008505915141964344), (1839, 0.02249649316657736), (1840, 0.008980364263892721), (1841, 0.013631700292114886), (1842, 0.008365686514493074), (1843, 0.009697693703433376), (1844, 0.01877426361374874), (1845, 0.003852996065473224), (1846, 0.0), (1847, 0.0), (1848, 0.0), (1849, 0.008417232748900756), (1850, 0.018679444350229536), (1851, 0.004743467902114951), (1852, 0.014226304304873847), (1853, 0.0), (1854, 0.008163414459550017), (1855, 0.0), (1856, 0.0), (1857, 0.02391896435231989), (1858, 0.021890490893048026), (1859, 0.015211978306474933), (1860, 0.024094366351888642), (1861, 0.014422032845438734), (1862, 0.0), (1863, 0.028869328608216303), (1864, 0.009493265673896708), (1865, 0.0), (1866, 0.0), (1867, 0.0), (1868, 0.0), (1869, 0.0), (1870, 0.0), (1871, 0.015143612542449584), (1872, 0.0), (1873, 0.009879883480121554), (1874, 0.0), (1875, 0.0295077839963189), (1876, 0.02714761807205329), (1877, 0.022290067240953212), (1878, 0.00811831135394612), (1879, 0.0), (1880, 0.0), (1881, 0.024432002608823798), (1882, 0.028093186758177895), (1883, 0.04046303838762544), (1884, 0.0), (1885, 0.0), (1886, 0.0036214260473437254), (1887, 0.005163342368495395), (1888, 0.004475770685419435), (1889, 0.008680529015858512), (1890, 0.0), (1891, 0.009784474727338802), (1892, 0.0), (1893, 0.004805628817976596), (1894, 0.0), (1895, 0.004292097505704536), (1896, 0.004833547302318064), (1897, 0.0), (1898, 0.007994898414840917), (1899, 0.05952872022633187), (1900, 0.0), (1901, 0.027663623704555468), (1902, 0.0), (1903, 0.004262165934567851), (1904, 0.010438087829579024), (1905, 0.0), (1906, 0.0), (1907, 0.015528565014627693), (1908, 0.004580489353073713), (1909, 0.0), (1910, 0.0038491412083694883), (1911, 0.008879102441156302), (1912, 0.0), (1913, 0.027214004102405993), (1914, 0.013558257174563982), (1915, 0.008666121960826244), (1916, 0.010401077441886517), (1917, 0.0), (1918, 0.020097462964732072), (1919, 0.022852161738499036), (1920, 0.04317645220722395), (1921, 0.013411864354647376), (1922, 0.0), (1923, 0.0), (1924, 0.0), (1925, 0.05337658203383335), (1926, 0.030467541220682362), (1927, 0.00972350154837591), (1928, 0.005151042422093228), (1929, 0.06151580150210258), (1930, 0.038962974014560954), (1931, 0.015333024896783495), (1932, 0.00887831830979165), (1933, 0.009620989755427117), (1934, 0.0), (1935, 0.004135743156668488), (1936, 0.00873863998093111), (1937, 0.0), (1938, 0.0), (1939, 0.0), (1940, 0.011535782982046576), (1941, 0.0), (1942, 0.0), (1943, 0.0074421134986015535), (1944, 0.0), (1945, 0.0), (1946, 0.0), (1947, 0.0), (1948, 0.04451139356198), (1949, 0.0), (1950, 0.0037216408070164693), (1951, 0.004834100123620512), (1952, 0.004906328136323657), (1953, 0.040143545236882246), (1954, 0.016854321761986025), (1955, 0.0089810987986005), (1956, 0.0), (1957, 0.007655586435521236), (1958, 0.024045415217074952), (1959, 0.0), (1960, 0.0), (1961, 0.013502039894829237), (1962, 0.010995508018131457), (1963, 0.0), (1964, 0.03323426679687918), (1965, 0.0), (1966, 0.027861023919298376), (1967, 0.0), (1968, 0.03456575373056954), (1969, 0.031083372180795994), (1970, 0.010056330430690267), (1971, 0.0038618902667815276), (1972, 0.0), (1973, 0.004286154960778833), (1974, 0.0), (1975, 0.020792331726809228), (1976, 0.0), (1977, 0.0), (1978, 0.0), (1979, 0.007867218393278282), (1980, 0.0), (1981, 0.0038049935964393003), (1982, 0.012519910695844134), (1983, 0.0), (1984, 0.004187712540249382), (1985, 0.014577454138203386), (1986, 0.023322905575122354), (1987, 0.008364698594787114), (1988, 0.004317693312765437), (1989, 0.0), (1990, 0.013143262939801344), (1991, 0.01930152752745387), (1992, 0.03110884279574737), (1993, 0.00942374768343818), (1994, 0.004053986831030193), (1995, 0.0), (1996, 0.03199524162537784), (1997, 0.03994425972827242), (1998, 0.009989208826221709), (1999, 0.00965827513880176), (2000, 0.01089252668327812), (2001, 0.0), (2002, 0.0), (2003, 0.004401798677835415), (2004, 0.014104756007688537), (2005, 0.038796678433731885), (2006, 0.030311520950189193), (2007, 0.0), (2008, 0.06736919185626608), (2009, 0.0), (2010, 0.0), (2011, 0.0), (2012, 0.005239814529417677), (2013, 0.007260386403458237), (2014, 0.009063314519218801), (2015, 0.020427971603656475), (2016, 0.004729985386018295), (2017, 0.019372761139270396), (2018, 0.0), (2019, 0.027387674926258966), (2020, 0.0038864733454832576), (2021, 0.04957033241882816), (2022, 0.007226886959067053), (2023, 0.004290621095223333), (2024, 0.0), (2025, 0.0), (2026, 0.0), (2027, 0.022748290532226635), (2028, 0.0), (2029, 0.004448266399332767), (2030, 0.008725618183852079), (2031, 0.03820827761265977), (2032, 0.005339199209371945), (2033, 0.0), (2034, 0.0), (2035, 0.0), (2036, 0.008295221816777526), (2037, 0.06086168216164725), (2038, 0.0), (2039, 0.0), (2040, 0.0), (2041, 0.008671230786164635), (2042, 0.0), (2043, 0.012377831868606163), (2044, 0.0), (2045, 0.01988185787428464), (2046, 0.04070840252458309), (2047, 0.02466768122189296), (2048, 0.0), (2049, 0.009426092415990982), (2050, 0.008152810391779293), (2051, 0.0), (2052, 0.007973865238444486), (2053, 0.004703989328240587), (2054, 0.0), (2055, 0.011878711345056032), (2056, 0.013901818824361405), (2057, 0.009571940483728012), (2058, 0.04256330240693699), (2059, 0.008608081797794064), (2060, 0.0), (2061, 0.009229647386703928), (2062, 0.018380676395829063), (2063, 0.0), (2064, 0.019881655970007142), (2065, 0.008186901853495557), (2066, 0.056526518705614266), (2067, 0.0), (2068, 0.0), (2069, 0.0), (2070, 0.04001957363986973), (2071, 0.008477475812213756), (2072, 0.004721256152032106), (2073, 0.010059289913454133), (2074, 0.016758165464918266), (2075, 0.0), (2076, 0.003842758425463814), (2077, 0.0), (2078, 0.0036236370154602597), (2079, 0.005201261666117288), (2080, 0.0), (2081, 0.0), (2082, 0.00927569904601798), (2083, 0.0), (2084, 0.0), (2085, 0.0), (2086, 0.013959093343958315), (2087, 0.008362667269875055), (2088, 0.0), (2089, 0.0), (2090, 0.0), (2091, 0.0), (2092, 0.015416338828786697), (2093, 0.0), (2094, 0.013651665868007489), (2095, 0.02275097616860484), (2096, 0.0), (2097, 0.0), (2098, 0.0), (2099, 0.007991661846998628), (2100, 0.008221704038996086), (2101, 0.02160201074780609), (2102, 0.008908520829525044), (2103, 0.004436567523167495), (2104, 0.0), (2105, 0.0), (2106, 0.0), (2107, 0.04022661921797226), (2108, 0.0), (2109, 0.004592851751827394), (2110, 0.009055957265296974), (2111, 0.027012635443411787), (2112, 0.040639195170927095), (2113, 0.0), (2114, 0.020305873161250175), (2115, 0.011027964094889662), (2116, 0.0), (2117, 0.008201436385830827), (2118, 0.0173614070937277), (2119, 0.025652491675214214), (2120, 0.0), (2121, 0.0), (2122, 0.0), (2123, 0.04622382027156703), (2124, 0.020390679109346697), (2125, 0.007819872081006082), (2126, 0.024089760824308616), (2127, 0.016423342157175586), (2128, 0.004480455897628471), (2129, 0.0), (2130, 0.0), (2131, 0.0043769390684047435), (2132, 0.0), (2133, 0.0), (2134, 0.0), (2135, 0.007797078536093203), (2136, 0.045769731638694716), (2137, 0.0), (2138, 0.0), (2139, 0.031186630324507407), (2140, 0.0), (2141, 0.0), (2142, 0.0), (2143, 0.0043562255918716715), (2144, 0.0), (2145, 0.008093058915711486), (2146, 0.0), (2147, 0.024793956948319786), (2148, 0.0), (2149, 0.0), (2150, 0.008279834337606196), (2151, 0.0), (2152, 0.0083932733522395), (2153, 0.03215361229227661), (2154, 0.010951874347543323), (2155, 0.0), (2156, 0.004057130383943809), (2157, 0.0), (2158, 0.022184177822843206), (2159, 0.0), (2160, 0.008574795960120455), (2161, 0.012170969695828345), (2162, 0.0), (2163, 0.0), (2164, 0.0), (2165, 0.0), (2166, 0.0), (2167, 0.008756485387906975), (2168, 0.0), (2169, 0.004585726996989518), (2170, 0.0), (2171, 0.009236858209130122), (2172, 0.0), (2173, 0.0), (2174, 0.05084000174127444), (2175, 0.012622072018667394), (2176, 0.00943869406068701), (2177, 0.05173617738024801), (2178, 0.032321175814430045), (2179, 0.030309395592403216), (2180, 0.03364529644372719), (2181, 0.0), (2182, 0.042245789135855555), (2183, 0.01585743025912933), (2184, 0.017662575824838003), (2185, 0.0), (2186, 0.0), (2187, 0.0), (2188, 0.0), (2189, 0.0), (2190, 0.0), (2191, 0.0), (2192, 0.0), (2193, 0.004597721817660595), (2194, 0.0866505824118236), (2195, 0.004544261265429329), (2196, 0.038284479693053756), (2197, 0.0), (2198, 0.03219431894750124), (2199, 0.011129920303501066), (2200, 0.0), (2201, 0.007953761872398142), (2202, 0.0), (2203, 0.0), (2204, 0.003862383507087003), (2205, 0.048010185965540145), (2206, 0.0), (2207, 0.025246841167874477), (2208, 0.0), (2209, 0.0), (2210, 0.022018903895421764), (2211, 0.01639244477910471), (2212, 0.0), (2213, 0.0), (2214, 0.0163168922447126), (2215, 0.03672555482545528), (2216, 0.0), (2217, 0.0), (2218, 0.005065347264930314), (2219, 0.0), (2220, 0.0), (2221, 0.007575623183461032), (2222, 0.004706202790604148), (2223, 0.009721608535006743), (2224, 0.008646965803630082), (2225, 0.0), (2226, 0.0), (2227, 0.015810169170688965), (2228, 0.0), (2229, 0.010786384429060816), (2230, 0.0), (2231, 0.0), (2232, 0.018369587355480502), (2233, 0.005000076441223068), (2234, 0.0240627421143429), (2235, 0.024074442158079315), (2236, 0.016027671462951868), (2237, 0.00799611848300675), (2238, 0.0), (2239, 0.013333260939679036), (2240, 0.0), (2241, 0.004737949746640692), (2242, 0.0), (2243, 0.0), (2244, 0.0), (2245, 0.013933981193298674), (2246, 0.014399281820219868), (2247, 0.0), (2248, 0.0), (2249, 0.0), (2250, 0.004546439984852815), (2251, 0.0), (2252, 0.009818271173062007), (2253, 0.0), (2254, 0.0), (2255, 0.01273410708161055), (2256, 0.0), (2257, 0.01100819296619641), (2258, 0.0), (2259, 0.01362510457197505), (2260, 0.009146483654151015), (2261, 0.009910752284829415), (2262, 0.011807725103359909), (2263, 0.014066678986444498), (2264, 0.0), (2265, 0.007762017785415728), (2266, 0.0), (2267, 0.026860286508223898), (2268, 0.0044003563442228605), (2269, 0.04125138711425575), (2270, 0.0), (2271, 0.0), (2272, 0.025072019446578032), (2273, 0.029362495397071836), (2274, 0.0), (2275, 0.0), (2276, 0.0), (2277, 0.004618639260323916), (2278, 0.07007320097902647), (2279, 0.0), (2280, 0.0), (2281, 0.03125316997020751), (2282, 0.0), (2283, 0.013967210580263826), (2284, 0.009923368495168337), (2285, 0.00819966557814441), (2286, 0.0), (2287, 0.007602506897172934), (2288, 0.0), (2289, 0.0), (2290, 0.008725113736486646), (2291, 0.00390352338660076), (2292, 0.0), (2293, 0.0), (2294, 0.020179780919015518), (2295, 0.010027039196096843), (2296, 0.011009842405263844), (2297, 0.0), (2298, 0.0), (2299, 0.0), (2300, 0.0), (2301, 0.03356145823099754), (2302, 0.0), (2303, 0.004297179308589969), (2304, 0.0), (2305, 0.0), (2306, 0.0), (2307, 0.0), (2308, 0.0), (2309, 0.0), (2310, 0.0), (2311, 0.004286011287906129), (2312, 0.0), (2313, 0.0), (2314, 0.010857799230591965), (2315, 0.0), (2316, 0.009158261093492284), (2317, 0.0340685752376481), (2318, 0.007523972781846451), (2319, 0.04006237630093461), (2320, 0.010593546277323888), (2321, 0.0), (2322, 0.021095724539389533), (2323, 0.0), (2324, 0.0), (2325, 0.0), (2326, 0.0035777226783895288), (2327, 0.012219719230562876), (2328, 0.0), (2329, 0.01285552935579962), (2330, 0.004817339000127403), (2331, 0.014030591286686695), (2332, 0.008811038880153917), (2333, 0.0), (2334, 0.004689648390455806), (2335, 0.00862571574532968), (2336, 0.0), (2337, 0.009052290461439452), (2338, 0.008233026656680385), (2339, 0.005174898548200625), (2340, 0.015044287810267934), (2341, 0.0), (2342, 0.0), (2343, 0.0), (2344, 0.0), (2345, 0.0), (2346, 0.0), (2347, 0.0), (2348, 0.0), (2349, 0.0), (2350, 0.0), (2351, 0.01564410040121219), (2352, 0.007307206617938442), (2353, 0.027791103703243183), (2354, 0.0), (2355, 0.0), (2356, 0.0), (2357, 0.011205091499668302), (2358, 0.012320544024478934), (2359, 0.0), (2360, 0.01681528436338522), (2361, 0.0), (2362, 0.01744107319391211), (2363, 0.005630615914606894), (2364, 0.006874504177494732), (2365, 0.011624003417691903), (2366, 0.0), (2367, 0.016907235482821355), (2368, 0.0), (2369, 0.009478098901032036), (2370, 0.0), (2371, 0.009262125226227115), (2372, 0.009507504139690993), (2373, 0.008231324371106923), (2374, 0.0), (2375, 0.0), (2376, 0.03225317114140536), (2377, 0.00361685359890415), (2378, 0.0), (2379, 0.012339502275279603), (2380, 0.0), (2381, 0.009532863674886033), (2382, 0.06813140194859779), (2383, 0.0), (2384, 0.0), (2385, 0.0), (2386, 0.0), (2387, 0.01898527791727936), (2388, 0.0), (2389, 0.007626734489062928), (2390, 0.009373137661769214), (2391, 0.0), (2392, 0.0), (2393, 0.00912454216739051), (2394, 0.0), (2395, 0.0), (2396, 0.0), (2397, 0.0), (2398, 0.01780505627094603), (2399, 0.017563086535772404), (2400, 0.011163622933815228), (2401, 0.00830962204151491), (2402, 0.0), (2403, 0.0), (2404, 0.0), (2405, 0.0), (2406, 0.022086000693855887), (2407, 0.0), (2408, 0.008466558762587199), (2409, 0.004339497463474333), (2410, 0.0), (2411, 0.0), (2412, 0.011868694324619298), (2413, 0.06680155468763925), (2414, 0.013211483043340463), (2415, 0.0), (2416, 0.05049666242606661), (2417, 0.0), (2418, 0.00482962139410989), (2419, 0.08638766472849743), (2420, 0.0), (2421, 0.013353909710276723), (2422, 0.008845568574953125), (2423, 0.01077532942213413), (2424, 0.0), (2425, 0.0), (2426, 0.0), (2427, 0.010584863560240576), (2428, 0.0), (2429, 0.0), (2430, 0.03722420690235742), (2431, 0.004689326969186712), (2432, 0.013905550169198125), (2433, 0.007487457176819764), (2434, 0.0), (2435, 0.008443045785815676), (2436, 0.035261077955691736), (2437, 0.0), (2438, 0.0), (2439, 0.008103499159833077), (2440, 0.03473305297600025), (2441, 0.0), (2442, 0.030006126905283766), (2443, 0.009474440123008855), (2444, 0.004647570873825813), (2445, 0.0), (2446, 0.004231848019952993), (2447, 0.003907798774029997), (2448, 0.011166277823217484), (2449, 0.008605542404524973), (2450, 0.00794836014718513), (2451, 0.009183016860411302), (2452, 0.02961277028382984), (2453, 0.0), (2454, 0.0), (2455, 0.0), (2456, 0.008824757351007854), (2457, 0.02107504360851562), (2458, 0.004965298784565556), (2459, 0.0), (2460, 0.0), (2461, 0.02673807369574207), (2462, 0.00916112499043178), (2463, 0.023181018034637905), (2464, 0.0), (2465, 0.0), (2466, 0.008780898421194784), (2467, 0.026042462632251594), (2468, 0.0), (2469, 0.0), (2470, 0.005145961057118055), (2471, 0.0), (2472, 0.0), (2473, 0.008142913592909619), (2474, 0.010486954751448386), (2475, 0.0), (2476, 0.0), (2477, 0.0), (2478, 0.0), (2479, 0.0), (2480, 0.014302397232524144), (2481, 0.003794310388383743), (2482, 0.0041997564845005966), (2483, 0.0), (2484, 0.011432160526922168), (2485, 0.024866342260582177), (2486, 0.005202060649609656), (2487, 0.004617574336433513), (2488, 0.0), (2489, 0.0), (2490, 0.0), (2491, 0.004200814424107465), (2492, 0.009169582610868343), (2493, 0.010893241203515442), (2494, 0.02109206520663548), (2495, 0.0), (2496, 0.023264557527808594), (2497, 0.013323820888281058), (2498, 0.018698219077445732), (2499, 0.0), (2500, 0.0), (2501, 0.004578189074602578), (2502, 0.0), (2503, 0.024092982264749072), (2504, 0.027448781146190104), (2505, 0.0), (2506, 0.0), (2507, 0.037152156527998956), (2508, 0.0), (2509, 0.00748848200427762), (2510, 0.03287176996116707), (2511, 0.004722705655828053), (2512, 0.0), (2513, 0.012677233757106209), (2514, 0.004093440590901298), (2515, 0.0), (2516, 0.009059439710814793), (2517, 0.056885892549429495), (2518, 0.005143591532025574), (2519, 0.0), (2520, 0.0), (2521, 0.011131538196656512), (2522, 0.01599416652867057), (2523, 0.0), (2524, 0.0), (2525, 0.041951900336326425), (2526, 0.0037279077010045026), (2527, 0.012907259180621031), (2528, 0.013936402068676957), (2529, 0.0), (2530, 0.010867195187573403), (2531, 0.04889512297473972), (2532, 0.014796327140295076), (2533, 0.0), (2534, 0.006097525061945175), (2535, 0.0), (2536, 0.0), (2537, 0.0), (2538, 0.06830538067051894), (2539, 0.03543046412277289), (2540, 0.0), (2541, 0.02433178579823274), (2542, 0.0), (2543, 0.0), (2544, 0.0), (2545, 0.0), (2546, 0.004743155235688953), (2547, 0.04241426618638336), (2548, 0.0), (2549, 0.008659817966867154), (2550, 0.013628357508159654), (2551, 0.0), (2552, 0.004259827614201622), (2553, 0.008883904954561546), (2554, 0.008625477650566333), (2555, 0.031359347887590885), (2556, 0.0), (2557, 0.0), (2558, 0.0), (2559, 0.0), (2560, 0.027066492266483055), (2561, 0.0), (2562, 0.013298735666660153), (2563, 0.0037682532543200356), (2564, 0.012261978235173967), (2565, 0.05330341436236429), (2566, 0.0), (2567, 0.0), (2568, 0.016029619956618796), (2569, 0.0), (2570, 0.0), (2571, 0.004402026693333879), (2572, 0.0), (2573, 0.00809062965546478), (2574, 0.014628798142279522), (2575, 0.0), (2576, 0.0), (2577, 0.026750573303515615), (2578, 0.0), (2579, 0.009583879721554944), (2580, 0.0), (2581, 0.005693613879082495), (2582, 0.01801913187049623), (2583, 0.008573580550867725), (2584, 0.020487241917707608), (2585, 0.0), (2586, 0.0), (2587, 0.004043364805724967), (2588, 0.0), (2589, 0.0), (2590, 0.007959363860795451), (2591, 0.00767081631288254), (2592, 0.07475069773008641), (2593, 0.007888554486701763), (2594, 0.0), (2595, 0.0), (2596, 0.008968818894693784), (2597, 0.0), (2598, 0.0), (2599, 0.010667748393703803), (2600, 0.0), (2601, 0.0), (2602, 0.0), (2603, 0.04259170204082925), (2604, 0.009304890320036006), (2605, 0.01566581000165925), (2606, 0.023590459435398146), (2607, 0.0), (2608, 0.021280430763406567), (2609, 0.004859821846030952), (2610, 0.004815159575600584), (2611, 0.020039862381618763), (2612, 0.012658052000431248), (2613, 0.0), (2614, 0.02994339168057976), (2615, 0.020117503995788086), (2616, 0.0172697709009028), (2617, 0.016240367530831922), (2618, 0.009400272626540897), (2619, 0.0), (2620, 0.0), (2621, 0.0), (2622, 0.0038656031099784122), (2623, 0.0), (2624, 0.0), (2625, 0.015704233960464848), (2626, 0.016470355659395936), (2627, 0.003834355620157873), (2628, 0.0), (2629, 0.0), (2630, 0.010512283379972972), (2631, 0.004326871573491823), (2632, 0.008898354673402923), (2633, 0.004783344558976408), (2634, 0.0), (2635, 0.0), (2636, 0.0034206842303992984), (2637, 0.03449952858615034), (2638, 0.03659601321115788), (2639, 0.0), (2640, 0.0047672790169494715), (2641, 0.014380647678719882), (2642, 0.004389774693572953), (2643, 0.01105796638321795), (2644, 0.03931241557891826), (2645, 0.005863709251652947), (2646, 0.022158039910321066), (2647, 0.004614724579099358), (2648, 0.0), (2649, 0.0), (2650, 0.008883391785675404), (2651, 0.0), (2652, 0.008643919147102943), (2653, 0.0), (2654, 0.01194462023998977), (2655, 0.0), (2656, 0.022300842879515184), (2657, 0.0), (2658, 0.0), (2659, 0.0), (2660, 0.031120022357898423), (2661, 0.0), (2662, 0.0), (2663, 0.0), (2664, 0.0), (2665, 0.00750344488046875), (2666, 0.01204836887043918), (2667, 0.0), (2668, 0.01817362937878378), (2669, 0.0), (2670, 0.028892186121784045), (2671, 0.0), (2672, 0.014690233966978761), (2673, 0.0060610847477833235), (2674, 0.0), (2675, 0.004776310978274603), (2676, 0.0), (2677, 0.0), (2678, 0.04396029195121797), (2679, 0.0), (2680, 0.018195974189680938), (2681, 0.0), (2682, 0.04356154095893304), (2683, 0.011055612228511558), (2684, 0.0), (2685, 0.01001683015744226), (2686, 0.00852908981798691), (2687, 0.0), (2688, 0.03431337051414053), (2689, 0.004829901057502713), (2690, 0.018745225004249744), (2691, 0.004740272218688343), (2692, 0.0), (2693, 0.01839287512093358), (2694, 0.0), (2695, 0.0), (2696, 0.0), (2697, 0.015576352523852732), (2698, 0.004439194086608865), (2699, 0.0), (2700, 0.0), (2701, 0.0), (2702, 0.0), (2703, 0.0), (2704, 0.025110054492228768), (2705, 0.0), (2706, 0.004331635825703868), (2707, 0.0), (2708, 0.00871518417329057), (2709, 0.0), (2710, 0.009613582340020115), (2711, 0.028559081098779693), (2712, 0.0048681517352543524), (2713, 0.02288347976558197), (2714, 0.015882560504121027), (2715, 0.0), (2716, 0.0), (2717, 0.009354004730877469), (2718, 0.0), (2719, 0.03205631659994775), (2720, 0.005340060927128297), (2721, 0.007429368196254968), (2722, 0.0), (2723, 0.0), (2724, 0.008097390284039479), (2725, 0.004872780140301135), (2726, 0.0), (2727, 0.0), (2728, 0.0), (2729, 0.018843645765848224), (2730, 0.00559815071922208), (2731, 0.0), (2732, 0.009293483083152615), (2733, 0.01096405003700454), (2734, 0.003621344861050045), (2735, 0.0), (2736, 0.027514977339565965), (2737, 0.0), (2738, 0.005376884550064364), (2739, 0.021469090922252285), (2740, 0.005130071675784174), (2741, 0.007698475444931196), (2742, 0.0), (2743, 0.0), (2744, 0.0), (2745, 0.0), (2746, 0.023821496877884592), (2747, 0.0), (2748, 0.0), (2749, 0.00414666074752812), (2750, 0.0), (2751, 0.0), (2752, 0.008177818788281967), (2753, 0.0), (2754, 0.0), (2755, 0.03405824928894962), (2756, 0.010292932206577945), (2757, 0.0), (2758, 0.007261585602454338), (2759, 0.009617591167348272), (2760, 0.0), (2761, 0.003920861273688104), (2762, 0.0), (2763, 0.01724939200055505), (2764, 0.0), (2765, 0.008661840836048113), (2766, 0.01401499650694735), (2767, 0.0), (2768, 0.0), (2769, 0.027653488739334677), (2770, 0.007070429501720658), (2771, 0.0), (2772, 0.010128322332667078), (2773, 0.1324957644217407), (2774, 0.003640830144376077), (2775, 0.0), (2776, 0.0), (2777, 0.004215893361319253), (2778, 0.0), (2779, 0.05464073674849863), (2780, 0.0), (2781, 0.010304081986396638), (2782, 0.03044818682870187), (2783, 0.0), (2784, 0.004657035819055765), (2785, 0.038045425663637285), (2786, 0.0), (2787, 0.0), (2788, 0.004638571621707488), (2789, 0.1240054638700817), (2790, 0.02479552512708031), (2791, 0.008357162816551106), (2792, 0.0048271274469631215), (2793, 0.019038739395893983), (2794, 0.0), (2795, 0.0), (2796, 0.0), (2797, 0.0), (2798, 0.009253512314333244), (2799, 0.009569715656834621), (2800, 0.0), (2801, 0.01237531963262744), (2802, 0.014674295295762347), (2803, 0.0), (2804, 0.0), (2805, 0.003984258067828424), (2806, 0.009469121226161803), (2807, 0.03159822967108692), (2808, 0.004414946310997977), (2809, 0.004795863798004702), (2810, 0.009582544827220905), (2811, 0.0), (2812, 0.012351789451041992), (2813, 0.013134395029308885), (2814, 0.019155692251643437), (2815, 0.0), (2816, 0.004714373383245954), (2817, 0.004858387391876201), (2818, 0.0063804304618989335), (2819, 0.015897644696835567), (2820, 0.0), (2821, 0.0), (2822, 0.0), (2823, 0.0), (2824, 0.00961592101335821), (2825, 0.0), (2826, 0.0), (2827, 0.009181531953619216), (2828, 0.009540511911797906), (2829, 0.013821633384066818), (2830, 0.021175503481157185), (2831, 0.008559992568071672), (2832, 0.03542368797095551), (2833, 0.0), (2834, 0.029257705916324817), (2835, 0.0168334563030244), (2836, 0.0), (2837, 0.011890732667082215), (2838, 0.0), (2839, 0.01827404951263771), (2840, 0.005081690602944267), (2841, 0.026644604483662), (2842, 0.0039392935058498455), (2843, 0.0), (2844, 0.022113959817873983), (2845, 0.0), (2846, 0.0), (2847, 0.0), (2848, 0.0), (2849, 0.0), (2850, 0.0), (2851, 0.010519630250001953), (2852, 0.0), (2853, 0.0), (2854, 0.005060181868477694), (2855, 0.00386382269126006), (2856, 0.00878211031522295), (2857, 0.0), (2858, 0.0), (2859, 0.004319674208030724), (2860, 0.0), (2861, 0.0), (2862, 0.008492416129998846), (2863, 0.0), (2864, 0.0), (2865, 0.009413972900771266), (2866, 0.0), (2867, 0.020880977500903716), (2868, 0.0), (2869, 0.0), (2870, 0.0), (2871, 0.008776178248970534), (2872, 0.0), (2873, 0.014886006733806786), (2874, 0.004228730075024056), (2875, 0.0), (2876, 0.0), (2877, 0.0), (2878, 0.019211678568078483), (2879, 0.0), (2880, 0.0), (2881, 0.0), (2882, 0.0), (2883, 0.0), (2884, 0.0), (2885, 0.006079116177184276), (2886, 0.0), (2887, 0.008663554229638389), (2888, 0.0), (2889, 0.0), (2890, 0.0), (2891, 0.0), (2892, 0.0221732765892027), (2893, 0.0), (2894, 0.0), (2895, 0.0), (2896, 0.008682653155067237), (2897, 0.004352012294332327), (2898, 0.0), (2899, 0.013561389279722088), (2900, 0.0045417860731923896), (2901, 0.010977644382120294), (2902, 0.0), (2903, 0.04735953647037984), (2904, 0.0), (2905, 0.0), (2906, 0.012700840026771678), (2907, 0.0), (2908, 0.0), (2909, 0.008338832686806366), (2910, 0.0044579416675543364), (2911, 0.004741935274112483), (2912, 0.0), (2913, 0.0), (2914, 0.0), (2915, 0.0), (2916, 0.009577139524648589), (2917, 0.0), (2918, 0.0), (2919, 0.0), (2920, 0.004168820574152227), (2921, 0.01104416864273083), (2922, 0.0), (2923, 0.02022008600596543), (2924, 0.0), (2925, 0.0), (2926, 0.0), (2927, 0.010361237864086967), (2928, 0.0), (2929, 0.012866565539466527), (2930, 0.0), (2931, 0.01597737062268756), (2932, 0.0), (2933, 0.0038693420065047403), (2934, 0.0), (2935, 0.0), (2936, 0.0), (2937, 0.0), (2938, 0.01226965943900166), (2939, 0.0), (2940, 0.0337206550704656), (2941, 0.0), (2942, 0.003942646325916527), (2943, 0.0), (2944, 0.009432094567798434), (2945, 0.0), (2946, 0.0), (2947, 0.0), (2948, 0.03515123696747924), (2949, 0.010545993674724977), (2950, 0.0), (2951, 0.01003913035622499), (2952, 0.011295911003548863), (2953, 0.0), (2954, 0.004160265880886033), (2955, 0.0), (2956, 0.0), (2957, 0.0), (2958, 0.0), (2959, 0.0), (2960, 0.0), (2961, 0.0), (2962, 0.022952354014782197), (2963, 0.02494090838794472), (2964, 0.004868822261561154), (2965, 0.0), (2966, 0.011998610378147301), (2967, 0.0), (2968, 0.0), (2969, 0.0037789224695212124), (2970, 0.0), (2971, 0.0), (2972, 0.0080593720770595), (2973, 0.045800067675938895), (2974, 0.0), (2975, 0.008005729211691147), (2976, 0.04009006750661581), (2977, 0.020031068392821726), (2978, 0.0), (2979, 0.010723286538193787), (2980, 0.008385537926163915), (2981, 0.03140660275653945), (2982, 0.011232553369495968), (2983, 0.0), (2984, 0.009061682529037766), (2985, 0.007600883809018628), (2986, 0.0), (2987, 0.0), (2988, 0.0), (2989, 0.0), (2990, 0.0), (2991, 0.01000155319721855), (2992, 0.021780042402527594), (2993, 0.0), (2994, 0.0), (2995, 0.0), (2996, 0.03973350762317841), (2997, 0.0), (2998, 0.01283603227560966), (2999, 0.0), (3000, 0.0), (3001, 0.010937817339502687), (3002, 0.009974503042639303), (3003, 0.00949814767852793), (3004, 0.0), (3005, 0.009975916723094187), (3006, 0.0), (3007, 0.0), (3008, 0.0), (3009, 0.0), (3010, 0.034816158989470394), (3011, 0.004399740991104293), (3012, 0.0), (3013, 0.0), (3014, 0.0), (3015, 0.0), (3016, 0.0), (3017, 0.0), (3018, 0.004758239729688328), (3019, 0.0), (3020, 0.0), (3021, 0.009315192032321978), (3022, 0.010601232477932949), (3023, 0.037735342317598564), (3024, 0.02601253636339262), (3025, 0.0), (3026, 0.0), (3027, 0.015893972184349993), (3028, 0.004402944680942233), (3029, 0.0), (3030, 0.0), (3031, 0.0), (3032, 0.0), (3033, 0.013099016558258902), (3034, 0.0), (3035, 0.0), (3036, 0.0), (3037, 0.0), (3038, 0.0), (3039, 0.005155849651768069), (3040, 0.0), (3041, 0.0), (3042, 0.0), (3043, 0.0), (3044, 0.0), (3045, 0.0), (3046, 0.004468780749836556), (3047, 0.017074366271070535), (3048, 0.010455355059919657), (3049, 0.0), (3050, 0.0), (3051, 0.0), (3052, 0.0), (3053, 0.004372392854202765), (3054, 0.0), (3055, 0.0), (3056, 0.0), (3057, 0.004274253182772198), (3058, 0.008473569625018338), (3059, 0.0), (3060, 0.01911278313944633), (3061, 0.0), (3062, 0.0), (3063, 0.0), (3064, 0.0), (3065, 0.0), (3066, 0.012805226708531918), (3067, 0.09470292906284435), (3068, 0.017541051911911347), (3069, 0.018580479777601897), (3070, 0.0), (3071, 0.004267654136744046), (3072, 0.0), (3073, 0.008990753844074183), (3074, 0.0), (3075, 0.0), (3076, 0.0), (3077, 0.02549080538535613), (3078, 0.010986979759581114), (3079, 0.0), (3080, 0.009530289968973486), (3081, 0.010062381771521847), (3082, 0.0), (3083, 0.021922701076557763), (3084, 0.009068398030640575), (3085, 0.01433648962182413), (3086, 0.010662361306996092), (3087, 0.0), (3088, 0.0), (3089, 0.010388391685007171), (3090, 0.031726807071335066), (3091, 0.007156614905950388), (3092, 0.010662897179975223), (3093, 0.0), (3094, 0.0), (3095, 0.0), (3096, 0.04031628389851558), (3097, 0.01654798165938129), (3098, 0.0), (3099, 0.0), (3100, 0.0), (3101, 0.0), (3102, 0.0), (3103, 0.004813945196962657), (3104, 0.0), (3105, 0.009424925495778525), (3106, 0.0), (3107, 0.01567857208192399), (3108, 0.004089360649400919), (3109, 0.0), (3110, 0.0), (3111, 0.019383075259680534), (3112, 0.009194089660097318), (3113, 0.0), (3114, 0.009124480153812956), (3115, 0.0), (3116, 0.009395607583037816), (3117, 0.0), (3118, 0.009159371758452895), (3119, 0.0), (3120, 0.0), (3121, 0.012240092524680665), (3122, 0.0181088882048468), (3123, 0.0), (3124, 0.06336679917991594), (3125, 0.004578780252149802), (3126, 0.009452288074563081), (3127, 0.004413402423808647), (3128, 0.0), (3129, 0.007829102844404225), (3130, 0.026361992190947044), (3131, 0.015434334790818217), (3132, 0.0), (3133, 0.021955901230347522), (3134, 0.0), (3135, 0.0), (3136, 0.0), (3137, 0.015871435711582046), (3138, 0.0076759809796468695), (3139, 0.0), (3140, 0.0), (3141, 0.03534770194021221), (3142, 0.018120895263132663), (3143, 0.0), (3144, 0.013151269798552457), (3145, 0.005919421993307605), (3146, 0.030192498301293363), (3147, 0.0), (3148, 0.0), (3149, 0.004394827061207943), (3150, 0.004767093531266415), (3151, 0.012484817540881158), (3152, 0.007110983616388125), (3153, 0.0), (3154, 0.0), (3155, 0.0), (3156, 0.0), (3157, 0.06961604816677185), (3158, 0.0), (3159, 0.0), (3160, 0.008669827224809445), (3161, 0.01877011368561538), (3162, 0.0), (3163, 0.0), (3164, 0.016567068934432452), (3165, 0.0), (3166, 0.0), (3167, 0.0), (3168, 0.0), (3169, 0.024018127822686204), (3170, 0.0), (3171, 0.0), (3172, 0.02277965853150571), (3173, 0.0), (3174, 0.0045441109606483695), (3175, 0.0), (3176, 0.0), (3177, 0.0), (3178, 0.0), (3179, 0.010134969502491719), (3180, 0.0), (3181, 0.035600224732929175), (3182, 0.0), (3183, 0.02565547747437193), (3184, 0.0), (3185, 0.0), (3186, 0.0), (3187, 0.008997592506481819), (3188, 0.0), (3189, 0.008983099379004074), (3190, 0.0), (3191, 0.010161280318809156), (3192, 0.0), (3193, 0.0042800512792361255), (3194, 0.0), (3195, 0.009713130252234433), (3196, 0.0), (3197, 0.013638543796443485), (3198, 0.0), (3199, 0.0035283467484474368), (3200, 0.027367003273561244), (3201, 0.008122432708674278), (3202, 0.0), (3203, 0.0), (3204, 0.011445536654423763), (3205, 0.020334832653125478), (3206, 0.0), (3207, 0.0), (3208, 0.008988015318480418), (3209, 0.02760586810413038), (3210, 0.0), (3211, 0.05786238654166709), (3212, 0.007088051991531409), (3213, 0.0), (3214, 0.0), (3215, 0.0), (3216, 0.0), (3217, 0.0), (3218, 0.03363426544786397), (3219, 0.011173774261237605), (3220, 0.0), (3221, 0.014659012694016545), (3222, 0.0338158023521683), (3223, 0.0), (3224, 0.0), (3225, 0.0), (3226, 0.004190548488168491), (3227, 0.0), (3228, 0.06650900233739833), (3229, 0.008879972484815946), (3230, 0.005260166707896007), (3231, 0.004080103924648568), (3232, 0.0), (3233, 0.004687309819969593), (3234, 0.019306342344431897), (3235, 0.010521915244368442), (3236, 0.009093744637679237), (3237, 0.004500267495622307), (3238, 0.03157423999685809), (3239, 0.0), (3240, 0.018904869658345962), (3241, 0.0), (3242, 0.0), (3243, 0.0), (3244, 0.009041577542477105), (3245, 0.05454486616141389), (3246, 0.0043679375637235675), (3247, 0.0), (3248, 0.0), (3249, 0.0), (3250, 0.018513794508997268), (3251, 0.0), (3252, 0.01585405932892805), (3253, 0.0), (3254, 0.0), (3255, 0.0), (3256, 0.009966925908863049), (3257, 0.0), (3258, 0.0), (3259, 0.03327197023923849), (3260, 0.004470321685689317), (3261, 0.0), (3262, 0.0), (3263, 0.0), (3264, 0.024901341768355612), (3265, 0.009390888662735306), (3266, 0.0), (3267, 0.0), (3268, 0.0), (3269, 0.0), (3270, 0.019436180719396737), (3271, 0.00492305105792684), (3272, 0.023976002762080523), (3273, 0.0), (3274, 0.0), (3275, 0.0), (3276, 0.0), (3277, 0.004797516215006574), (3278, 0.008974737279997529), (3279, 0.008457575707728818), (3280, 0.013431184285496292), (3281, 0.021928886696046198), (3282, 0.0), (3283, 0.004640903225184238), (3284, 0.004172936693140273), (3285, 0.011281967867804728), (3286, 0.008301187282034102), (3287, 0.008839048219038557), (3288, 0.0491639006382147), (3289, 0.0), (3290, 0.0), (3291, 0.0), (3292, 0.0), (3293, 0.004312493091780711), (3294, 0.038354281504935285), (3295, 0.004146377133166305), (3296, 0.0), (3297, 0.013926548932795262), (3298, 0.0), (3299, 0.004527482175858806), (3300, 0.0), (3301, 0.0), (3302, 0.0), (3303, 0.004636637541075199), (3304, 0.01722839008152852), (3305, 0.0), (3306, 0.004177108677904145), (3307, 0.0), (3308, 0.0), (3309, 0.0), (3310, 0.0), (3311, 0.09180708331893507), (3312, 0.005292018349666621), (3313, 0.012252177348461004), (3314, 0.0), (3315, 0.0), (3316, 0.0035048255673547947), (3317, 0.007463668014050589), (3318, 0.0), (3319, 0.0), (3320, 0.013549559950837259), (3321, 0.004215715645164394), (3322, 0.0), (3323, 0.0), (3324, 0.0), (3325, 0.0), (3326, 0.0), (3327, 0.008173641393407762), (3328, 0.005989553512266767), (3329, 0.0), (3330, 0.033115877818193036), (3331, 0.0), (3332, 0.0099883110371477), (3333, 0.0), (3334, 0.010384732066775227), (3335, 0.008638893004014827), (3336, 0.004101005289785341), (3337, 0.0), (3338, 0.00919551675497318), (3339, 0.0), (3340, 0.0), (3341, 0.0), (3342, 0.018166227907472278), (3343, 0.004551666545603555), (3344, 0.00773894699666183), (3345, 0.010638574372914607), (3346, 0.0), (3347, 0.0), (3348, 0.0), (3349, 0.0), (3350, 0.008435141879114762), (3351, 0.0), (3352, 0.0), (3353, 0.0), (3354, 0.0), (3355, 0.0), (3356, 0.003436489670908552), (3357, 0.029122045674368838), (3358, 0.0), (3359, 0.0), (3360, 0.011642101091839913), (3361, 0.004313068205538297), (3362, 0.00360790695886595), (3363, 0.1014536516232783), (3364, 0.0052598100542421726), (3365, 0.003213102270142059), (3366, 0.02663317818564482), (3367, 0.015030715901576638), (3368, 0.019100101138784655), (3369, 0.0), (3370, 0.008299380484379828), (3371, 0.0), (3372, 0.0), (3373, 0.0), (3374, 0.004521744303308243), (3375, 0.0), (3376, 0.05899282149039602), (3377, 0.0), (3378, 0.004754448615215828), (3379, 0.008382657066746754), (3380, 0.0), (3381, 0.023148896892372747), (3382, 0.0), (3383, 0.0), (3384, 0.027647893493989783), (3385, 0.026258308755186685), (3386, 0.014617456241745793), (3387, 0.0), (3388, 0.01581164425013595), (3389, 0.02585625602143303), (3390, 0.030469055204338888), (3391, 0.0), (3392, 0.018323425051877864), (3393, 0.003918643469392419), (3394, 0.008607721337415025), (3395, 0.043163394618061776), (3396, 0.0), (3397, 0.01585122367947685), (3398, 0.010179484141172597), (3399, 0.004256762753013466), (3400, 0.0), (3401, 0.010461809876013453), (3402, 0.0), (3403, 0.007983615738284551), (3404, 0.0), (3405, 0.0), (3406, 0.0), (3407, 0.004277408983271519), (3408, 0.03121485109380044), (3409, 0.020577955572976394), (3410, 0.0036664729267466382), (3411, 0.01265698651224038), (3412, 0.0044436675911009174), (3413, 0.0), (3414, 0.010200532609240878), (3415, 0.0), (3416, 0.0), (3417, 0.0), (3418, 0.0), (3419, 0.0), (3420, 0.012655564912904333), (3421, 0.0), (3422, 0.0), (3423, 0.0), (3424, 0.014975910911334872), (3425, 0.0), (3426, 0.0), (3427, 0.0), (3428, 0.0), (3429, 0.0), (3430, 0.0037924980368152904), (3431, 0.0), (3432, 0.0), (3433, 0.00929362826114201), (3434, 0.0), (3435, 0.004511989970678495), (3436, 0.023579286077595966), (3437, 0.04034932079500586), (3438, 0.00486410129589231), (3439, 0.012802017325699709), (3440, 0.011467857005053336), (3441, 0.0), (3442, 0.0), (3443, 0.0), (3444, 0.014447216804807646), (3445, 0.053358535697058965), (3446, 0.014815796080930008), (3447, 0.00445220720896303), (3448, 0.005527188270055594), (3449, 0.0), (3450, 0.005291648870016655), (3451, 0.0), (3452, 0.0), (3453, 0.0), (3454, 0.008913835933789197), (3455, 0.0), (3456, 0.019188165821069497), (3457, 0.01397276348882238), (3458, 0.009364578446416033), (3459, 0.028994502036363223), (3460, 0.0), (3461, 0.023084537446086306), (3462, 0.0), (3463, 0.020180826798898134), (3464, 0.004828844710948546), (3465, 0.004327731921734068), (3466, 0.0), (3467, 0.0), (3468, 0.0), (3469, 0.021908544839236193), (3470, 0.011078693094695903), (3471, 0.007847764592029596), (3472, 0.010832199913808294), (3473, 0.009711304431028562), (3474, 0.022605121551569764), (3475, 0.0), (3476, 0.008432308416962433), (3477, 0.004517986581357995), (3478, 0.0), (3479, 0.0), (3480, 0.008093000247946475), (3481, 0.011030575528642428), (3482, 0.008602517034574132), (3483, 0.0), (3484, 0.011997387758598816), (3485, 0.007597799346936608), (3486, 0.0), (3487, 0.009489790392498197), (3488, 0.010289858663069291), (3489, 0.015469147330125022), (3490, 0.0), (3491, 0.03233549253107558), (3492, 0.019539313513561887), (3493, 0.0), (3494, 0.0), (3495, 0.008776646815887289), (3496, 0.0), (3497, 0.0), (3498, 0.0), (3499, 0.0), (3500, 0.0), (3501, 0.0), (3502, 0.01746151353115798), (3503, 0.02644345773470731), (3504, 0.004364102393611446), (3505, 0.009555238657474367), (3506, 0.0), (3507, 0.004723242470851155), (3508, 0.0), (3509, 0.0), (3510, 0.0), (3511, 0.0), (3512, 0.0), (3513, 0.0), (3514, 0.0), (3515, 0.009907356694446822), (3516, 0.015689705342909182), (3517, 0.0), (3518, 0.009070266421964795), (3519, 0.0), (3520, 0.04275181675855859), (3521, 0.0), (3522, 0.01010164704325073), (3523, 0.0), (3524, 0.010059745457894292), (3525, 0.0), (3526, 0.004662847917927604), (3527, 0.0), (3528, 0.009092110539220988), (3529, 0.0), (3530, 0.010118180915965402), (3531, 0.0), (3532, 0.017278482331874196), (3533, 0.008122308026400467), (3534, 0.0), (3535, 0.011687517154465175), (3536, 0.013599141204179951), (3537, 0.0), (3538, 0.003633022464932955), (3539, 0.00910920546100852), (3540, 0.009972422679984641), (3541, 0.0), (3542, 0.0), (3543, 0.0), (3544, 0.0), (3545, 0.00848661199270644), (3546, 0.0033993304722963326), (3547, 0.011463397602211097), (3548, 0.019266509595669567), (3549, 0.004712091161140875), (3550, 0.026842067448243384), (3551, 0.004598572546966239), (3552, 0.0), (3553, 0.0), (3554, 0.01035018261574481), (3555, 0.0), (3556, 0.0), (3557, 0.02123705016290093), (3558, 0.0), (3559, 0.0), (3560, 0.0), (3561, 0.0), (3562, 0.03095113218779562), (3563, 0.011945337298693851), (3564, 0.019639287391438713), (3565, 0.0), (3566, 0.022152233596252496), (3567, 0.004365328579125373), (3568, 0.004369629518815563), (3569, 0.0), (3570, 0.0), (3571, 0.0), (3572, 0.0), (3573, 0.0), (3574, 0.006566745122818936), (3575, 0.0), (3576, 0.010024511634870585), (3577, 0.005630802023158073), (3578, 0.005750882311056526), (3579, 0.0201299112134628), (3580, 0.009670165997555755), (3581, 0.009399117034258601), (3582, 0.0), (3583, 0.009583778134575064), (3584, 0.010600134860631204), (3585, 0.0), (3586, 0.004903449389873212), (3587, 0.005132507775920249), (3588, 0.0), (3589, 0.0), (3590, 0.0), (3591, 0.0), (3592, 0.0), (3593, 0.009544561261980167), (3594, 0.004538274825090947), (3595, 0.0), (3596, 0.0), (3597, 0.0), (3598, 0.004033324911724527), (3599, 0.004757312048067406), (3600, 0.0), (3601, 0.0), (3602, 0.0), (3603, 0.0), (3604, 0.0), (3605, 0.0), (3606, 0.02788899468625492), (3607, 0.06935000904258369), (3608, 0.018011620705003777), (3609, 0.009280772625501848), (3610, 0.015479705814706507), (3611, 0.0), (3612, 0.004558017132256112), (3613, 0.010546066769625105), (3614, 0.0), (3615, 0.0), (3616, 0.016298389948470656), (3617, 0.0), (3618, 0.0048295914445862275), (3619, 0.008659608791033137), (3620, 0.010411478181083038), (3621, 0.0), (3622, 0.0), (3623, 0.0), (3624, 0.0), (3625, 0.0), (3626, 0.003495609308776523), (3627, 0.0), (3628, 0.009349901691554738), (3629, 0.0), (3630, 0.0), (3631, 0.009020777008728165), (3632, 0.1526092090452552), (3633, 0.01581884562312926), (3634, 0.0), (3635, 0.0), (3636, 0.0), (3637, 0.00398454432165293), (3638, 0.005680640496346885), (3639, 0.03598824964520627), (3640, 0.0), (3641, 0.004400354892185439), (3642, 0.0), (3643, 0.013314795935271248), (3644, 0.052782983508464776), (3645, 0.03183157224786208), (3646, 0.012393003350706921), (3647, 0.0), (3648, 0.004714286782325871), (3649, 0.0), (3650, 0.013280255708778336), (3651, 0.005212197678698931), (3652, 0.0), (3653, 0.01916679218842978), (3654, 0.004791826806651077), (3655, 0.020328643183210066), (3656, 0.021591755889086572), (3657, 0.0), (3658, 0.0038286711849352434), (3659, 0.0), (3660, 0.0), (3661, 0.00519641141595941), (3662, 0.0), (3663, 0.0), (3664, 0.009487282010184296), (3665, 0.004545431993058184), (3666, 0.010248261892769816), (3667, 0.0034834603563689546), (3668, 0.003856526333677534), (3669, 0.0), (3670, 0.0), (3671, 0.03980647784962195), (3672, 0.0), (3673, 0.00851554149512673), (3674, 0.003846068933100225), (3675, 0.0), (3676, 0.0), (3677, 0.010002685296268372), (3678, 0.004847152952252477), (3679, 0.0), (3680, 0.0), (3681, 0.005057985665235356), (3682, 0.06408464377150289), (3683, 0.0), (3684, 0.003954204211741823), (3685, 0.008388046406900104), (3686, 0.0), (3687, 0.0), (3688, 0.0218730525252724), (3689, 0.0047127681333792), (3690, 0.009312575507363757), (3691, 0.022293450009893766), (3692, 0.05522482990411995), (3693, 0.0), (3694, 0.0), (3695, 0.00935215132914171), (3696, 0.008787930906496967), (3697, 0.0), (3698, 0.03290436494848004), (3699, 0.0), (3700, 0.0), (3701, 0.01343654584526129), (3702, 0.012965734176157075), (3703, 0.0), (3704, 0.009239767567738063), (3705, 0.0), (3706, 0.0), (3707, 0.0), (3708, 0.0), (3709, 0.004440890566007639), (3710, 0.0), (3711, 0.008395862490186501), (3712, 0.004315916987494731), (3713, 0.0037987820684862207), (3714, 0.0), (3715, 0.0), (3716, 0.007684630694210128), (3717, 0.0), (3718, 0.004224932946069329), (3719, 0.0), (3720, 0.013921825283086702), (3721, 0.0), (3722, 0.013475590256817539), (3723, 0.0), (3724, 0.11807931399006522), (3725, 0.0), (3726, 0.007712172293256954), (3727, 0.0), (3728, 0.00914301906205505), (3729, 0.0), (3730, 0.004980723851108213), (3731, 0.012302882954395581), (3732, 0.0), (3733, 0.0), (3734, 0.00930923611056546), (3735, 0.009461391117158028), (3736, 0.01283660139671011), (3737, 0.0), (3738, 0.009027888438811832), (3739, 0.0236157323574695), (3740, 0.0), (3741, 0.0324261547667415), (3742, 0.0), (3743, 0.00942878009160557), (3744, 0.0), (3745, 0.0), (3746, 0.0226182460370523), (3747, 0.04992696315255882), (3748, 0.003942186152429179), (3749, 0.0), (3750, 0.0), (3751, 0.026852130438156), (3752, 0.022269132275046358), (3753, 0.015753145548181555), (3754, 0.02206541910215921), (3755, 0.0), (3756, 0.0), (3757, 0.0), (3758, 0.011804802488417613), (3759, 0.0), (3760, 0.0), (3761, 0.0), (3762, 0.0), (3763, 0.010076618376411205), (3764, 0.0), (3765, 0.00885177938489951), (3766, 0.0), (3767, 0.0), (3768, 0.01060596260911478), (3769, 0.01031996412369689), (3770, 0.0), (3771, 0.0), (3772, 0.0), (3773, 0.0), (3774, 0.0), (3775, 0.0), (3776, 0.0039021743933127626), (3777, 0.024680275010350628), (3778, 0.004732694065713998), (3779, 0.0), (3780, 0.004864839490276581), (3781, 0.0), (3782, 0.0), (3783, 0.014154163017788412), (3784, 0.004336815113091933), (3785, 0.007556943723879355), (3786, 0.004371708518405394), (3787, 0.0), (3788, 0.009226201335742541), (3789, 0.01772317363266504), (3790, 0.028662512519139288), (3791, 0.0), (3792, 0.0), (3793, 0.009703189450162162), (3794, 0.0), (3795, 0.0), (3796, 0.011825528357394558), (3797, 0.0), (3798, 0.0), (3799, 0.0), (3800, 0.0), (3801, 0.020990445539505166), (3802, 0.01080758461712753), (3803, 0.028114123508670062), (3804, 0.0), (3805, 0.00852530331851206), (3806, 0.0), (3807, 0.008505338451669871), (3808, 0.0), (3809, 0.07549980659434066), (3810, 0.014700258718688918), (3811, 0.03587334565125774), (3812, 0.008702560977305), (3813, 0.009329116687346447), (3814, 0.0), (3815, 0.010062873062514043), (3816, 0.00936342381234357), (3817, 0.014579716232459707), (3818, 0.04616934978184656), (3819, 0.004301981832799645), (3820, 0.0), (3821, 0.0038210971653181236), (3822, 0.01471623133544708), (3823, 0.01784800720997585), (3824, 0.009420430633408156), (3825, 0.008227507917485341), (3826, 0.012600205284559888), (3827, 0.0), (3828, 0.0), (3829, 0.0), (3830, 0.0), (3831, 0.015819882890777386), (3832, 0.0), (3833, 0.01002351832546755), (3834, 0.0), (3835, 0.0), (3836, 0.014635976066592617), (3837, 0.0), (3838, 0.0), (3839, 0.0), (3840, 0.0), (3841, 0.011753650462963967), (3842, 0.01365918167944142), (3843, 0.007864722509135955), (3844, 0.012368432952628752), (3845, 0.0), (3846, 0.009111497571527918), (3847, 0.008855464182347932), (3848, 0.0), (3849, 0.0), (3850, 0.0), (3851, 0.0), (3852, 0.012570068198379095), (3853, 0.009319659623503338), (3854, 0.004213403694770548), (3855, 0.026769575952480643), (3856, 0.0), (3857, 0.005060632930858351), (3858, 0.015029508168859193), (3859, 0.009335737673562732), (3860, 0.0), (3861, 0.0), (3862, 0.0), (3863, 0.0), (3864, 0.0), (3865, 0.011688458871239007), (3866, 0.005251980921005984), (3867, 0.0), (3868, 0.004359581702792019), (3869, 0.016450931427517978), (3870, 0.0329824496529457), (3871, 0.00892405423108874), (3872, 0.00951107393038539), (3873, 0.0), (3874, 0.0), (3875, 0.007406723460296881), (3876, 0.0), (3877, 0.005072924533273252), (3878, 0.030792480670766405), (3879, 0.0), (3880, 0.0), (3881, 0.07180734783294565), (3882, 0.0), (3883, 0.0), (3884, 0.0), (3885, 0.0), (3886, 0.01385465270522698), (3887, 0.0), (3888, 0.0), (3889, 0.0), (3890, 0.00881602301806503), (3891, 0.004314757028365061), (3892, 0.011114920425066073), (3893, 0.0), (3894, 0.011494635063819465), (3895, 0.0), (3896, 0.0), (3897, 0.004830776058691953), (3898, 0.0), (3899, 0.0), (3900, 0.0), (3901, 0.011903362345532631), (3902, 0.0), (3903, 0.015656510296982527), (3904, 0.0), (3905, 0.0), (3906, 0.0), (3907, 0.009454223119857313), (3908, 0.0), (3909, 0.004250971627468647), (3910, 0.028325636681956364), (3911, 0.0), (3912, 0.008735241417443829), (3913, 0.0), (3914, 0.007976631182320996), (3915, 0.0), (3916, 0.012787562151498628), (3917, 0.004382907719289368), (3918, 0.0), (3919, 0.004762954538302614), (3920, 0.0047194048330610975), (3921, 0.010500411089684877), (3922, 0.0), (3923, 0.007856258096160472), (3924, 0.010017057104571674), (3925, 0.0), (3926, 0.013127504420625068), (3927, 0.0037924098718397645), (3928, 0.003805916384989566), (3929, 0.0), (3930, 0.004717015271961277), (3931, 0.0), (3932, 0.04321795698654185), (3933, 0.0), (3934, 0.0), (3935, 0.0), (3936, 0.018984741226056437), (3937, 0.0), (3938, 0.036243712348313875), (3939, 0.0), (3940, 0.00813762365943228), (3941, 0.0), (3942, 0.012039894831689059), (3943, 0.00919042068832183), (3944, 0.011628976840147898), (3945, 0.0), (3946, 0.0), (3947, 0.0), (3948, 0.007559696110267315), (3949, 0.0), (3950, 0.0), (3951, 0.005316386531199938), (3952, 0.0), (3953, 0.0), (3954, 0.0), (3955, 0.004546858911311549), (3956, 0.0), (3957, 0.003755504427108168), (3958, 0.0), (3959, 0.004719098944841602), (3960, 0.00516540008507648), (3961, 0.0), (3962, 0.0), (3963, 0.004522168970295261), (3964, 0.0), (3965, 0.014332429487884945), (3966, 0.004249352580119019), (3967, 0.0), (3968, 0.019745195362410883), (3969, 0.004786526364788752), (3970, 0.01815548347410544), (3971, 0.007959682419604309), (3972, 0.0), (3973, 0.0), (3974, 0.0), (3975, 0.04890879860613623), (3976, 0.0), (3977, 0.02530371474022653), (3978, 0.0), (3979, 0.0), (3980, 0.010514350298230068), (3981, 0.0), (3982, 0.0), (3983, 0.0034134070881633683), (3984, 0.0), (3985, 0.009435444160389767), (3986, 0.004099545582641038), (3987, 0.0), (3988, 0.0), (3989, 0.007951406066729862), (3990, 0.011801695426638146), (3991, 0.008063289787778545), (3992, 0.0), (3993, 0.0), (3994, 0.014019425109486366), (3995, 0.010233013087187099), (3996, 0.0), (3997, 0.0), (3998, 0.004389541824538116), (3999, 0.0), (4000, 0.0), (4001, 0.03616588535937688), (4002, 0.005291375460944238), (4003, 0.0), (4004, 0.0), (4005, 0.0), (4006, 0.029416162890254897), (4007, 0.006478661079898375), (4008, 0.015574544450844342), (4009, 0.025976493300717537), (4010, 0.02718179727635798), (4011, 0.0140939516049638), (4012, 0.033977851462063606), (4013, 0.004960561876398416), (4014, 0.0), (4015, 0.01127546753583331), (4016, 0.0), (4017, 0.0), (4018, 0.0), (4019, 0.0), (4020, 0.00838810415023576), (4021, 0.011950121008299857), (4022, 0.0), (4023, 0.0), (4024, 0.0), (4025, 0.009453770430230104), (4026, 0.0), (4027, 0.0), (4028, 0.01199648173952717), (4029, 0.009672642030380733), (4030, 0.0), (4031, 0.09373318420231162), (4032, 0.0482164753714572), (4033, 0.0), (4034, 0.009485724101472696), (4035, 0.0), (4036, 0.0), (4037, 0.008099737256196688), (4038, 0.020914904584640168), (4039, 0.014629088929524919), (4040, 0.012736302195078555), (4041, 0.019244419399370518), (4042, 0.0), (4043, 0.0), (4044, 0.00895555925510359), (4045, 0.0), (4046, 0.0), (4047, 0.0), (4048, 0.0), (4049, 0.0), (4050, 0.0), (4051, 0.0), (4052, 0.0), (4053, 0.0), (4054, 0.024842578232639207), (4055, 0.008219152616013897), (4056, 0.0), (4057, 0.004049858861081986), (4058, 0.0), (4059, 0.004260876236677732), (4060, 0.0), (4061, 0.009953590738043097), (4062, 0.005518590335835574), (4063, 0.009108824032367246), (4064, 0.005054452467655106), (4065, 0.0), (4066, 0.007508683402253975), (4067, 0.0), (4068, 0.004628842753936139), (4069, 0.0), (4070, 0.009114227264143316), (4071, 0.017790624592572097), (4072, 0.0), (4073, 0.0), (4074, 0.017605673670287533), (4075, 0.0), (4076, 0.004908512349715156), (4077, 0.021556130297714252), (4078, 0.021904248563619482), (4079, 0.0), (4080, 0.0), (4081, 0.0), (4082, 0.0), (4083, 0.0), (4084, 0.0), (4085, 0.009394123698610028), (4086, 0.009252227361267415), (4087, 0.0), (4088, 0.0), (4089, 0.0), (4090, 0.05614262615377948), (4091, 0.005006342050372056), (4092, 0.0), (4093, 0.0), (4094, 0.0), (4095, 0.0), (4096, 0.0), (4097, 0.0), (4098, 0.0), (4099, 0.04310927695722146), (4100, 0.0), (4101, 0.0), (4102, 0.0), (4103, 0.0), (4104, 0.0), (4105, 0.016845149854165863), (4106, 0.01699493942549098), (4107, 0.0), (4108, 0.027186697579630787), (4109, 0.026632233288000517), (4110, 0.008087514709624481), (4111, 0.0), (4112, 0.012793117296162494), (4113, 0.0), (4114, 0.023426498117015786), (4115, 0.0), (4116, 0.0), (4117, 0.0), (4118, 0.019047071436775784), (4119, 0.010128105671993477), (4120, 0.01608062172793602), (4121, 0.005182158388744773), (4122, 0.0), (4123, 0.024737638409458362), (4124, 0.004311250002792001), (4125, 0.0), (4126, 0.0), (4127, 0.0), (4128, 0.0), (4129, 0.0), (4130, 0.0), (4131, 0.0), (4132, 0.020480061685656904), (4133, 0.01076226227886648), (4134, 0.013545231375479088), (4135, 0.021963790164889113), (4136, 0.013653425749720982), (4137, 0.0045980965625248525), (4138, 0.0), (4139, 0.0), (4140, 0.018684116354552395), (4141, 0.0), (4142, 0.0), (4143, 0.004095603011894821), (4144, 0.0), (4145, 0.0), (4146, 0.00875459122940699), (4147, 0.0), (4148, 0.0), (4149, 0.009978674267388759), (4150, 0.011203995881923742), (4151, 0.0), (4152, 0.004347055415642326), (4153, 0.0), (4154, 0.013560618462924832), (4155, 0.026735199896343223), (4156, 0.003993930807652027), (4157, 1.0000000000000002), (4158, 0.028531431956083132), (4159, 0.009250217276054238), (4160, 0.009586354093131697), (4161, 0.0), (4162, 0.0), (4163, 0.0), (4164, 0.0), (4165, 0.026648115835510258), (4166, 0.0), (4167, 0.010587942345295155), (4168, 0.00874457551515988), (4169, 0.0), (4170, 0.0), (4171, 0.013826222626508136), (4172, 0.03568459236342113), (4173, 0.009148019556157294), (4174, 0.02170617485753752), (4175, 0.0), (4176, 0.004189556107871828), (4177, 0.0), (4178, 0.0), (4179, 0.0), (4180, 0.01043029075684912), (4181, 0.0), (4182, 0.0), (4183, 0.0), (4184, 0.0), (4185, 0.0), (4186, 0.0), (4187, 0.0), (4188, 0.009806917125694092), (4189, 0.024122699267924434), (4190, 0.010197290539603946), (4191, 0.007744826938204781), (4192, 0.008824210892715107), (4193, 0.022623756714009735), (4194, 0.016052938662849264), (4195, 0.00854497349773572), (4196, 0.009309896972238557), (4197, 0.0), (4198, 0.0), (4199, 0.01060705888249898), (4200, 0.06292410511293416), (4201, 0.016320741741233456), (4202, 0.0), (4203, 0.005281389240246863), (4204, 0.0), (4205, 0.012208993795258007), (4206, 0.0), (4207, 0.00927920459490711), (4208, 0.0), (4209, 0.0), (4210, 0.013293933428935081), (4211, 0.0), (4212, 0.0), (4213, 0.0), (4214, 0.0), (4215, 0.03184248130788509), (4216, 0.0), (4217, 0.0044006861846636785), (4218, 0.01282021395927317), (4219, 0.0), (4220, 0.0), (4221, 0.0), (4222, 0.0), (4223, 0.0), (4224, 0.0), (4225, 0.0), (4226, 0.015771495324856825), (4227, 0.010895835560386624), (4228, 0.0), (4229, 0.0), (4230, 0.0), (4231, 0.0), (4232, 0.0), (4233, 0.0), (4234, 0.0), (4235, 0.0), (4236, 0.03905637510483499), (4237, 0.01336052000320792), (4238, 0.0), (4239, 0.013636144674911204), (4240, 0.015748673940923885), (4241, 0.04867249615602174), (4242, 0.01628248634425397), (4243, 0.0), (4244, 0.0), (4245, 0.0), (4246, 0.0), (4247, 0.0), (4248, 0.0), (4249, 0.0), (4250, 0.0), (4251, 0.020238441596262875), (4252, 0.004383739800844528), (4253, 0.0), (4254, 0.0), (4255, 0.0), (4256, 0.0), (4257, 0.004292141493921145), (4258, 0.018632020940939104), (4259, 0.026166704191684514), (4260, 0.0), (4261, 0.0), (4262, 0.004730296393541061), (4263, 0.0), (4264, 0.0), (4265, 0.0096439249731307), (4266, 0.0), (4267, 0.010463671972406632), (4268, 0.0), (4269, 0.004887216252162873), (4270, 0.00797649638596951), (4271, 0.01785091253095066), (4272, 0.0043224838515097735), (4273, 0.0), (4274, 0.0), (4275, 0.0), (4276, 0.0), (4277, 0.0), (4278, 0.009785955409414397), (4279, 0.00435707272993122), (4280, 0.0), (4281, 0.03722620015590318), (4282, 0.01258225923125917), (4283, 0.004644411976695432), (4284, 0.004470553874750308), (4285, 0.0), (4286, 0.0), (4287, 0.024204719093308794), (4288, 0.0), (4289, 0.0), (4290, 0.03410322603905611), (4291, 0.0), (4292, 0.030346697111555982), (4293, 0.016746105371334145), (4294, 0.0), (4295, 0.0), (4296, 0.0), (4297, 0.008350493415853682), (4298, 0.0), (4299, 0.0), (4300, 0.018949623758197268), (4301, 0.0), (4302, 0.012404897768106184), (4303, 0.008210433733064593), (4304, 0.0), (4305, 0.0), (4306, 0.0), (4307, 0.0), (4308, 0.0), (4309, 0.0), (4310, 0.0), (4311, 0.0), (4312, 0.009790391933823833), (4313, 0.0), (4314, 0.008244391780244338), (4315, 0.0), (4316, 0.01141904687748237), (4317, 0.0), (4318, 0.0), (4319, 0.0), (4320, 0.0), (4321, 0.0), (4322, 0.0), (4323, 0.0), (4324, 0.0), (4325, 0.0), (4326, 0.0), (4327, 0.0), (4328, 0.008512845181697438), (4329, 0.008779211427472663), (4330, 0.013113753268894983), (4331, 0.011369314605934143), (4332, 0.009886237017624866), (4333, 0.0), (4334, 0.02858059302435821), (4335, 0.0), (4336, 0.0), (4337, 0.046783384760267624), (4338, 0.014315466315192874), (4339, 0.004161999719690657), (4340, 0.028289794171591276), (4341, 0.027944010385513147), (4342, 0.012077498970935921), (4343, 0.0), (4344, 0.007789544407940544), (4345, 0.0), (4346, 0.009919611352521448), (4347, 0.009149512982175806), (4348, 0.012052984444558013), (4349, 0.0), (4350, 0.0), (4351, 0.01405530962682922), (4352, 0.00964439228435029), (4353, 0.003956796679590447), (4354, 0.0), (4355, 0.0), (4356, 0.007951732877347111), (4357, 0.0), (4358, 0.015087300909885309), (4359, 0.05741729438668349), (4360, 0.06746654413690721), (4361, 0.0), (4362, 0.022940259286104124), (4363, 0.004772034453628689), (4364, 0.023579653754956645), (4365, 0.0), (4366, 0.02598246775707127), (4367, 0.0), (4368, 0.005127857667340542), (4369, 0.0), (4370, 0.04769513377420594), (4371, 0.00916880224332342), (4372, 0.0), (4373, 0.003429910924534264), (4374, 0.008649983711724322), (4375, 0.0), (4376, 0.00467131709042257), (4377, 0.042400025917426976), (4378, 0.0), (4379, 0.004720734355271177), (4380, 0.00870131718709302), (4381, 0.0), (4382, 0.0), (4383, 0.0), (4384, 0.0), (4385, 0.008590730098815664), (4386, 0.0), (4387, 0.004442706323693932), (4388, 0.0046854976680437204), (4389, 0.02818630006034932), (4390, 0.0), (4391, 0.0), (4392, 0.010393211687234689), (4393, 0.0), (4394, 0.004521250193704486), (4395, 0.02106851700039263), (4396, 0.009565996608762974), (4397, 0.009515712898310913), (4398, 0.0), (4399, 0.008612017029964796), (4400, 0.0), (4401, 0.03604744566023913), (4402, 0.029782699316534066), (4403, 0.0), (4404, 0.01008393011247138), (4405, 0.007770661052793943), (4406, 0.020693002218585135), (4407, 0.0), (4408, 0.0), (4409, 0.0), (4410, 0.0), (4411, 0.0), (4412, 0.01156201494672895), (4413, 0.0), (4414, 0.010933435802252483), (4415, 0.0), (4416, 0.0), (4417, 0.0), (4418, 0.0), (4419, 0.0), (4420, 0.0), (4421, 0.0), (4422, 0.0), (4423, 0.0), (4424, 0.0), (4425, 0.0), (4426, 0.008516358632637546), (4427, 0.008540572841641194), (4428, 0.0043264186621744995), (4429, 0.0), (4430, 0.0), (4431, 0.039318285027248184), (4432, 0.0), (4433, 0.0), (4434, 0.009455025005941019), (4435, 0.0), (4436, 0.004913102117990109), (4437, 0.0), (4438, 0.012565415059740664), (4439, 0.0), (4440, 0.0), (4441, 0.013704097043461157), (4442, 0.01897568093329443), (4443, 0.0), (4444, 0.005968469497086093), (4445, 0.0), (4446, 0.0), (4447, 0.02481584909292985), (4448, 0.004758279558883542), (4449, 0.016927129892618617), (4450, 0.004038929150111199), (4451, 0.01770631501769813), (4452, 0.0), (4453, 0.0), (4454, 0.026507645383059494), (4455, 0.01028928230449912), (4456, 0.0), (4457, 0.008518653915969891), (4458, 0.0), (4459, 0.01826204555638687), (4460, 0.005164670185073896), (4461, 0.0), (4462, 0.005148929567210348), (4463, 0.0), (4464, 0.0), (4465, 0.0), (4466, 0.0), (4467, 0.004706408757273959), (4468, 0.0), (4469, 0.0), (4470, 0.0), (4471, 0.0), (4472, 0.01891099248756241), (4473, 0.003968218012837639), (4474, 0.0), (4475, 0.0), (4476, 0.0), (4477, 0.03762937390060888), (4478, 0.05429191219880679), (4479, 0.0), (4480, 0.0), (4481, 0.00435327640593084), (4482, 0.012999242139110339), (4483, 0.010199520965158155), (4484, 0.0), (4485, 0.0), (4486, 0.004722648851631257), (4487, 0.0), (4488, 0.008557025980618938), (4489, 0.0), (4490, 0.0), (4491, 0.0), (4492, 0.030200448397618703), (4493, 0.0), (4494, 0.0), (4495, 0.04523445271777604), (4496, 0.02177800497761891), (4497, 0.0), (4498, 0.0), (4499, 0.0), (4500, 0.011299596773377985), (4501, 0.008638328763102705), (4502, 0.0), (4503, 0.004595135328318353), (4504, 0.00439748984056709), (4505, 0.0), (4506, 0.01791711182568225), (4507, 0.0), (4508, 0.0), (4509, 0.0), (4510, 0.0), (4511, 0.004531721929797005), (4512, 0.0), (4513, 0.008164693723960607), (4514, 0.0), (4515, 0.0620549218536153), (4516, 0.009804479601321905), (4517, 0.009929817219230442), (4518, 0.011981742765566086), (4519, 0.0), (4520, 0.0), (4521, 0.0), (4522, 0.0), (4523, 0.03670124060753464), (4524, 0.0054371509447576185), (4525, 0.00903837231148585), (4526, 0.009752170616327289), (4527, 0.011348905628199762), (4528, 0.0), (4529, 0.0), (4530, 0.0), (4531, 0.026135457601551684), (4532, 0.008639878715636633), (4533, 0.0), (4534, 0.009599596477493557), (4535, 0.0), (4536, 0.0), (4537, 0.01284803375431789), (4538, 0.0113484631233089), (4539, 0.011838724575083864), (4540, 0.0), (4541, 0.007442017590072078), (4542, 0.009758367076384507), (4543, 0.0), (4544, 0.0), (4545, 0.0), (4546, 0.019398252777219595), (4547, 0.0), (4548, 0.013523360039252254), (4549, 0.016003688831074222), (4550, 0.004417033931535434), (4551, 0.040687926458970916), (4552, 0.010230663487794335), (4553, 0.0), (4554, 0.0), (4555, 0.0), (4556, 0.0), (4557, 0.0), (4558, 0.0), (4559, 0.008875217346310563), (4560, 0.0), (4561, 0.0), (4562, 0.0), (4563, 0.0), (4564, 0.004387059505881398), (4565, 0.008327902353513725), (4566, 0.0), (4567, 0.0), (4568, 0.008517410696722882), (4569, 0.008026214499962181), (4570, 0.01022080119898441), (4571, 0.0), (4572, 0.0), (4573, 0.0), (4574, 0.047816199806166186), (4575, 0.0), (4576, 0.00885084539079772), (4577, 0.0), (4578, 0.0), (4579, 0.0), (4580, 0.0), (4581, 0.015146892322000248), (4582, 0.00880402535715055), (4583, 0.009972377716068662), (4584, 0.0), (4585, 0.0781760686989381), (4586, 0.0), (4587, 0.0), (4588, 0.0), (4589, 0.010665862047516435), (4590, 0.004079881296711322), (4591, 0.0), (4592, 0.004542165954261534), (4593, 0.01097525772057539), (4594, 0.005366687681212888), (4595, 0.010680053239912357), (4596, 0.024801085628049713), (4597, 0.0), (4598, 0.006707857449554044), (4599, 0.00980765358945316), (4600, 0.004169633891096055), (4601, 0.025643703279435305), (4602, 0.0), (4603, 0.0), (4604, 0.01317723863767898), (4605, 0.0), (4606, 0.0), (4607, 0.014332513826833076), (4608, 0.0), (4609, 0.01511027234169774), (4610, 0.0), (4611, 0.0), (4612, 0.005672132027657289), (4613, 0.004823323810927258), (4614, 0.009427713912475544), (4615, 0.009614717373522865), (4616, 0.0), (4617, 0.0), (4618, 0.013788384738706166), (4619, 0.01655786449059841), (4620, 0.0), (4621, 0.015075122241152063), (4622, 0.0), (4623, 0.009834474033077635), (4624, 0.009555560090539742), (4625, 0.0), (4626, 0.007979906549825132), (4627, 0.0), (4628, 0.0), (4629, 0.00475306353925824), (4630, 0.01106864437424354), (4631, 0.0), (4632, 0.0), (4633, 0.0), (4634, 0.004251507697917777), (4635, 0.006480726005288009), (4636, 0.0), (4637, 0.0), (4638, 0.0), (4639, 0.03484341184347649), (4640, 0.0), (4641, 0.014660143550938426), (4642, 0.0), (4643, 0.030873579571172018), (4644, 0.0), (4645, 0.011694114419340236), (4646, 0.018393648116477666), (4647, 0.0041200578967610785), (4648, 0.0), (4649, 0.004184302556056277), (4650, 0.0), (4651, 0.0), (4652, 0.006965204548487486), (4653, 0.0), (4654, 0.014967967154561496), (4655, 0.0), (4656, 0.0), (4657, 0.0), (4658, 0.008760645662058352), (4659, 0.004916757600428371), (4660, 0.0056184423546180315), (4661, 0.0), (4662, 0.029178325572941696), (4663, 0.0), (4664, 0.02162408988536016), (4665, 0.009789275402196996), (4666, 0.0), (4667, 0.014034155686204001), (4668, 0.009725377057936978), (4669, 0.0), (4670, 0.0), (4671, 0.0), (4672, 0.010144480053451031), (4673, 0.0), (4674, 0.015246285571170966), (4675, 0.03407209105013143), (4676, 0.0), (4677, 0.0), (4678, 0.0), (4679, 0.008011375713412117), (4680, 0.0), (4681, 0.0), (4682, 0.008842199508019635), (4683, 0.009903354589819884), (4684, 0.0), (4685, 0.004473243809425828), (4686, 0.004584052751841594), (4687, 0.004455112213110723), (4688, 0.0), (4689, 0.004157519885676072), (4690, 0.0), (4691, 0.0), (4692, 0.0), (4693, 0.0), (4694, 0.0), (4695, 0.01520376197667546), (4696, 0.0), (4697, 0.009174643436162519), (4698, 0.011908292564497266), (4699, 0.011136272622640952), (4700, 0.0), (4701, 0.011763553008711694), (4702, 0.0), (4703, 0.0), (4704, 0.0), (4705, 0.0), (4706, 0.0), (4707, 0.0), (4708, 0.009794725746382283), (4709, 0.0), (4710, 0.0), (4711, 0.01009136686589676), (4712, 0.0), (4713, 0.0), (4714, 0.0), (4715, 0.0), (4716, 0.010229545000598889), (4717, 0.0), (4718, 0.0095892894375824), (4719, 0.0), (4720, 0.011979785814161774), (4721, 0.0), (4722, 0.0), (4723, 0.0), (4724, 0.0), (4725, 0.0), (4726, 0.015517925694581014), (4727, 0.0), (4728, 0.0), (4729, 0.0), (4730, 0.010185297250565292), (4731, 0.0), (4732, 0.004969560036520663), (4733, 0.0), (4734, 0.0), (4735, 0.0), (4736, 0.0), (4737, 0.009694666334541219), (4738, 0.0), (4739, 0.0), (4740, 0.01110014925014653), (4741, 0.021681379755453898), (4742, 0.0), (4743, 0.0), (4744, 0.0), (4745, 0.0), (4746, 0.011194852791186377), (4747, 0.0), (4748, 0.0039460404843283566), (4749, 0.0), (4750, 0.011394398841016218), (4751, 0.019178509440614232), (4752, 0.016892609793535907), (4753, 0.0), (4754, 0.008419094722343666), (4755, 0.01451391208147423), (4756, 0.00887475495569862), (4757, 0.0), (4758, 0.0915353723119024), (4759, 0.0)]\n"
          ]
        }
      ]
    },
    {
      "cell_type": "code",
      "source": [
        "len(Recomendation_Score)"
      ],
      "metadata": {
        "colab": {
          "base_uri": "https://localhost:8080/"
        },
        "id": "Uv0fNoRwOn2G",
        "outputId": "81d4377e-4e4c-4499-fb89-20e2ac9477f7"
      },
      "execution_count": null,
      "outputs": [
        {
          "output_type": "execute_result",
          "data": {
            "text/plain": [
              "4760"
            ]
          },
          "metadata": {},
          "execution_count": 26
        }
      ]
    },
    {
      "cell_type": "code",
      "source": [
        "Sorted_Similar_Movie = sorted(Recomendation_Score, key = lambda x:x[1], reverse = True)\n",
        "print(Sorted_Similar_Movie)"
      ],
      "metadata": {
        "colab": {
          "base_uri": "https://localhost:8080/"
        },
        "id": "xJny7mGLO8YT",
        "outputId": "67210da6-d168-4091-f313-f3a836bfcdef"
      },
      "execution_count": null,
      "outputs": [
        {
          "output_type": "stream",
          "name": "stdout",
          "text": [
            "[(4157, 1.0000000000000002), (475, 0.15680059114102857), (3632, 0.1526092090452552), (681, 0.1364441676158345), (725, 0.1331258735746592), (2773, 0.1324957644217407), (517, 0.13076462394893593), (2789, 0.1240054638700817), (713, 0.12273281373933798), (3724, 0.11807931399006522), (601, 0.10808022915680388), (3363, 0.1014536516232783), (3067, 0.09470292906284435), (4031, 0.09373318420231162), (3311, 0.09180708331893507), (4758, 0.0915353723119024), (2194, 0.0866505824118236), (2419, 0.08638766472849743), (1378, 0.08347579377943119), (1279, 0.08249377848339633), (273, 0.08107451530001922), (1586, 0.08083703806774149), (4585, 0.0781760686989381), (1648, 0.07564451243799762), (3809, 0.07549980659434066), (2592, 0.07475069773008641), (799, 0.07182348492165803), (3881, 0.07180734783294565), (2278, 0.07007320097902647), (3157, 0.06961604816677185), (3607, 0.06935000904258369), (2538, 0.06830538067051894), (2382, 0.06813140194859779), (4360, 0.06746654413690721), (2008, 0.06736919185626608), (2413, 0.06680155468763925), (3228, 0.06650900233739833), (3682, 0.06408464377150289), (700, 0.06337571880710335), (3124, 0.06336679917991594), (4200, 0.06292410511293416), (376, 0.0629047030459658), (580, 0.06282098571241575), (4515, 0.0620549218536153), (1929, 0.06151580150210258), (1724, 0.060907090068940246), (2037, 0.06086168216164725), (657, 0.060596928046491756), (1464, 0.06032193069351776), (338, 0.05992262011120453), (1899, 0.05952872022633187), (3376, 0.05899282149039602), (953, 0.05830555392925382), (3211, 0.05786238654166709), (4359, 0.05741729438668349), (442, 0.057282643633614135), (2517, 0.056885892549429495), (2066, 0.056526518705614266), (4090, 0.05614262615377948), (1526, 0.05594257128393314), (3692, 0.05522482990411995), (2779, 0.05464073674849863), (992, 0.05463207217239281), (1619, 0.054619657387035864), (1600, 0.054546023165406285), (3245, 0.05454486616141389), (4478, 0.05429191219880679), (1401, 0.05416030029783089), (231, 0.05378458445784193), (1033, 0.0534946572949038), (1925, 0.05337658203383335), (3445, 0.053358535697058965), (2565, 0.05330341436236429), (196, 0.05282442412759405), (3644, 0.052782983508464776), (620, 0.05270453332203001), (812, 0.052659315137122), (1165, 0.052602058826047904), (730, 0.05228829608260148), (1168, 0.05178054868560003), (2177, 0.05173617738024801), (1294, 0.05158308123938841), (1098, 0.051001881480159376), (2174, 0.05084000174127444), (878, 0.050742256289787055), (2416, 0.05049666242606661), (3747, 0.04992696315255882), (25, 0.049837768174098546), (2021, 0.04957033241882816), (3288, 0.0491639006382147), (1723, 0.049055406358501155), (3975, 0.04890879860613623), (2531, 0.04889512297473972), (4241, 0.04867249615602174), (902, 0.0484907447652482), (1709, 0.04848758005683677), (4032, 0.0482164753714572), (189, 0.048210595527955105), (2205, 0.048010185965540145), (814, 0.04796882792245527), (1663, 0.04783984464088681), (4574, 0.047816199806166186), (1123, 0.04775520681545398), (207, 0.04770093181605786), (4370, 0.04769513377420594), (1144, 0.04748432500866801), (1533, 0.047368369757290765), (2903, 0.04735953647037984), (1270, 0.04698093253943285), (4337, 0.046783384760267624), (1754, 0.046521604421554064), (2123, 0.04622382027156703), (3818, 0.04616934978184656), (341, 0.045804211954832606), (2973, 0.045800067675938895), (2136, 0.045769731638694716), (4495, 0.04523445271777604), (1711, 0.04457137969408703), (1948, 0.04451139356198), (354, 0.04434732580060736), (1439, 0.04421785008289767), (2678, 0.04396029195121797), (1052, 0.04371168987577474), (1068, 0.043665481826090785), (2682, 0.04356154095893304), (3932, 0.04321795698654185), (1920, 0.04317645220722395), (3395, 0.043163394618061776), (4099, 0.04310927695722146), (43, 0.04300917978466318), (3520, 0.04275181675855859), (2603, 0.04259170204082925), (1095, 0.04258833417614154), (2058, 0.04256330240693699), (2547, 0.04241426618638336), (4377, 0.042400025917426976), (925, 0.042385890817551654), (2182, 0.042245789135855555), (508, 0.042009122602919266), (2525, 0.041951900336326425), (1016, 0.04186118122873875), (2269, 0.04125138711425575), (92, 0.041236251878259224), (1205, 0.0410102858187296), (2046, 0.04070840252458309), (4551, 0.040687926458970916), (261, 0.04067784839452698), (2112, 0.040639195170927095), (1883, 0.04046303838762544), (3437, 0.04034932079500586), (3096, 0.04031628389851558), (2107, 0.04022661921797226), (1953, 0.040143545236882246), (2976, 0.04009006750661581), (2319, 0.04006237630093461), (2070, 0.04001957363986973), (1997, 0.03994425972827242), (3671, 0.03980647784962195), (2996, 0.03973350762317841), (4431, 0.039318285027248184), (810, 0.039314139261245676), (2644, 0.03931241557891826), (39, 0.03928737086170342), (4236, 0.03905637510483499), (44, 0.03900534156827418), (1452, 0.038963390660140824), (1930, 0.038962974014560954), (1555, 0.038893388263598706), (506, 0.038836142658518334), (2005, 0.038796678433731885), (1568, 0.0383997132129274), (3294, 0.038354281504935285), (2196, 0.038284479693053756), (2031, 0.03820827761265977), (2785, 0.038045425663637285), (1494, 0.037875293665945456), (368, 0.037869302972758596), (3023, 0.037735342317598564), (271, 0.03768051989252738), (4477, 0.03762937390060888), (4281, 0.03722620015590318), (2430, 0.03722420690235742), (2507, 0.037152156527998956), (1191, 0.03691031576242423), (749, 0.036787419814522035), (2215, 0.03672555482545528), (4523, 0.03670124060753464), (2638, 0.03659601321115788), (3938, 0.036243712348313875), (4001, 0.03616588535937688), (4401, 0.03604744566023913), (250, 0.03604165441385262), (3639, 0.03598824964520627), (3811, 0.03587334565125774), (312, 0.035788655807173615), (4172, 0.03568459236342113), (556, 0.03563338037081296), (1192, 0.035611977991151324), (3181, 0.035600224732929175), (748, 0.03549780658549147), (2539, 0.03543046412277289), (2832, 0.03542368797095551), (3141, 0.03534770194021221), (2436, 0.035261077955691736), (1217, 0.03518576030123707), (2948, 0.03515123696747924), (798, 0.035085163230537786), (462, 0.03486476164634398), (1509, 0.0348485857922277), (4639, 0.03484341184347649), (3010, 0.034816158989470394), (2440, 0.03473305297600025), (1968, 0.03456575373056954), (2637, 0.03449952858615034), (1140, 0.03448701107414251), (2688, 0.03431337051414053), (1442, 0.03422526259651146), (1687, 0.034150200912604234), (4290, 0.03410322603905611), (4675, 0.03407209105013143), (2317, 0.0340685752376481), (2755, 0.03405824928894962), (4012, 0.033977851462063606), (844, 0.033893466967614576), (3222, 0.0338158023521683), (2940, 0.0337206550704656), (1660, 0.03365302472057939), (2180, 0.03364529644372719), (3218, 0.03363426544786397), (1477, 0.03363416565789283), (2301, 0.03356145823099754), (1336, 0.03350452343952175), (1691, 0.033385247300384155), (1241, 0.03334172151789228), (3259, 0.03327197023923849), (1964, 0.03323426679687918), (3330, 0.033115877818193036), (1768, 0.033115423019596434), (3870, 0.0329824496529457), (3698, 0.03290436494848004), (2510, 0.03287176996116707), (750, 0.03286966530665225), (1593, 0.03271161788734759), (83, 0.03263915492721202), (864, 0.032546180953931005), (621, 0.032519996948636144), (1825, 0.03251365825900273), (3741, 0.0324261547667415), (3491, 0.03233549253107558), (2178, 0.032321175814430045), (2376, 0.03225317114140536), (2198, 0.03219431894750124), (2153, 0.03215361229227661), (2719, 0.03205631659994775), (1384, 0.03204182911401358), (1356, 0.032018276293488315), (1996, 0.03199524162537784), (988, 0.03199187309214171), (4215, 0.03184248130788509), (3645, 0.03183157224786208), (733, 0.03181035120153873), (166, 0.03179500181167798), (963, 0.03177215436047068), (344, 0.03176984578283744), (529, 0.031743823462853454), (3090, 0.031726807071335066), (1338, 0.03167906992271985), (2807, 0.03159822967108692), (97, 0.0315938644193855), (3238, 0.03157423999685809), (1617, 0.03144444347295935), (2981, 0.03140660275653945), (2555, 0.031359347887590885), (2281, 0.03125316997020751), (3408, 0.03121485109380044), (2139, 0.031186630324507407), (484, 0.031139647488652816), (2660, 0.031120022357898423), (1992, 0.03110884279574737), (1969, 0.031083372180795994), (1662, 0.03097003640868072), (3562, 0.03095113218779562), (1516, 0.030910508862397587), (4643, 0.030873579571172018), (3878, 0.030792480670766405), (179, 0.030671075718640882), (555, 0.030639977885477843), (898, 0.03061934588792488), (3390, 0.030469055204338888), (1926, 0.030467541220682362), (2782, 0.03044818682870187), (4292, 0.030346697111555982), (2006, 0.030311520950189193), (2179, 0.030309395592403216), (307, 0.03026337031979492), (4492, 0.030200448397618703), (3146, 0.030192498301293363), (1805, 0.03012820029550012), (1300, 0.030053988648917642), (2442, 0.030006126905283766), (2614, 0.02994339168057976), (511, 0.029914712340006738), (399, 0.0298958798490166), (1015, 0.02989187276147289), (4402, 0.029782699316534066), (1776, 0.029775638433213722), (1571, 0.029764801961637118), (1606, 0.029748774418613705), (2452, 0.02961277028382984), (1139, 0.029576908145630576), (180, 0.029549818468197472), (1875, 0.0295077839963189), (4006, 0.029416162890254897), (246, 0.029408008176636677), (2273, 0.029362495397071836), (957, 0.02934133043576003), (2834, 0.029257705916324817), (4662, 0.029178325572941696), (1239, 0.0291661241138755), (3357, 0.029122045674368838), (590, 0.02907740842809511), (3459, 0.028994502036363223), (2670, 0.028892186121784045), (1863, 0.028869328608216303), (1561, 0.028849334770071337), (1254, 0.0288394376341666), (1090, 0.02868399372601026), (3790, 0.028662512519139288), (1425, 0.02859966515145034), (4334, 0.02858059302435821), (2711, 0.028559081098779693), (4158, 0.028531431956083132), (834, 0.028439320781421716), (739, 0.0283871646860331), (1009, 0.028369252550694696), (3910, 0.028325636681956364), (327, 0.02830110923014639), (4340, 0.028289794171591276), (4389, 0.02818630006034932), (1762, 0.028144784953206776), (3803, 0.028114123508670062), (410, 0.028102623239487853), (1882, 0.028093186758177895), (4341, 0.027944010385513147), (495, 0.02790374536929429), (3606, 0.02788899468625492), (1966, 0.027861023919298376), (2353, 0.027791103703243183), (1756, 0.027755962286707514), (1901, 0.027663623704555468), (2769, 0.027653488739334677), (3384, 0.027647893493989783), (1769, 0.02764105848651916), (3209, 0.02760586810413038), (2736, 0.027514977339565965), (2504, 0.027448781146190104), (1365, 0.027420297932040257), (1633, 0.02739734863164385), (2019, 0.027387674926258966), (3200, 0.027367003273561244), (870, 0.027364180113089068), (1913, 0.027214004102405993), (100, 0.02720806844632709), (773, 0.027196437307505317), (4108, 0.027186697579630787), (4010, 0.02718179727635798), (1312, 0.02718113767568895), (724, 0.027164204573142517), (1876, 0.02714761807205329), (263, 0.027136777128125754), (835, 0.027110067892146206), (2560, 0.027066492266483055), (563, 0.027064454866024226), (1527, 0.027062991478483935), (411, 0.027016065332861848), (2111, 0.027012635443411787), (965, 0.026933527327237684), (1060, 0.02693343843493514), (1004, 0.02690229656936796), (2267, 0.026860286508223898), (3751, 0.026852130438156), (3550, 0.026842067448243384), (833, 0.02683414173400586), (459, 0.02679723971663351), (3855, 0.026769575952480643), (2577, 0.026750573303515615), (1109, 0.02674517194766017), (2461, 0.02673807369574207), (4155, 0.026735199896343223), (4165, 0.026648115835510258), (267, 0.02664810724504574), (2841, 0.026644604483662), (3366, 0.02663317818564482), (4109, 0.026632233288000517), (763, 0.026565262726477107), (4454, 0.026507645383059494), (3503, 0.02644345773470731), (960, 0.02640218945095111), (3130, 0.026361992190947044), (3385, 0.026258308755186685), (1363, 0.026243639767785813), (1701, 0.026241669765578804), (4259, 0.026166704191684514), (4531, 0.026135457601551684), (2467, 0.026042462632251594), (686, 0.026035735704853426), (3024, 0.02601253636339262), (334, 0.02600198888226382), (4366, 0.02598246775707127), (4009, 0.025976493300717537), (1451, 0.02586195873305215), (367, 0.025858241432076115), (3389, 0.02585625602143303), (1426, 0.025741299755237073), (1714, 0.025703567822469835), (3183, 0.02565547747437193), (2119, 0.025652491675214214), (4601, 0.025643703279435305), (930, 0.025600901969918648), (1760, 0.025566769857221804), (3077, 0.02549080538535613), (794, 0.02545831333030659), (1820, 0.025436885588851318), (583, 0.025369871169260618), (1610, 0.025324801748257124), (1798, 0.025317124634732072), (3977, 0.02530371474022653), (2207, 0.025246841167874477), (3, 0.025209256083111094), (471, 0.025207149023173402), (1000, 0.025170752823717835), (2704, 0.025110054492228768), (710, 0.02507614030753157), (2272, 0.025072019446578032), (616, 0.025012170823929113), (653, 0.024949596533160194), (2963, 0.02494090838794472), (3264, 0.024901341768355612), (2485, 0.024866342260582177), (470, 0.024845487305218683), (4054, 0.024842578232639207), (4447, 0.02481584909292985), (4596, 0.024801085628049713), (2790, 0.02479552512708031), (2147, 0.024793956948319786), (4123, 0.024737638409458362), (1718, 0.024719291796767764), (224, 0.024685073625956913), (3777, 0.024680275010350628), (2047, 0.02466768122189296), (1295, 0.024633365042488593), (1496, 0.024632074987003445), (20, 0.02450555296814865), (1351, 0.02450548944327993), (634, 0.024438432145598786), (1881, 0.024432002608823798), (1465, 0.024396120653791084), (2541, 0.02433178579823274), (1521, 0.024280715219754036), (778, 0.024269689957550966), (874, 0.024266566375580147), (631, 0.024247703897633296), (607, 0.024230641502295872), (4287, 0.024204719093308794), (369, 0.02414510305214031), (4189, 0.024122699267924434), (135, 0.024098916917780176), (1860, 0.024094366351888642), (2503, 0.024092982264749072), (2126, 0.024089760824308616), (2235, 0.024074442158079315), (2234, 0.0240627421143429), (1958, 0.024045415217074952), (3169, 0.024018127822686204), (3272, 0.023976002762080523), (652, 0.02396391541058572), (1857, 0.02391896435231989), (288, 0.023896913241160004), (2746, 0.023821496877884592), (343, 0.023761768566748505), (3739, 0.0236157323574695), (1374, 0.023599975209924236), (2606, 0.023590459435398146), (4364, 0.023579653754956645), (3436, 0.023579286077595966), (79, 0.023509392971920673), (1131, 0.02350684060192651), (163, 0.02345557863465576), (1420, 0.023443123880012726), (4114, 0.023426498117015786), (1238, 0.02342216645036676), (1986, 0.023322905575122354), (1262, 0.023296664221020235), (2496, 0.023264557527808594), (1678, 0.023225469820642466), (1438, 0.023202348995063588), (1537, 0.023186239600186908), (2463, 0.023181018034637905), (3381, 0.023148896892372747), (1059, 0.02312241495210042), (1222, 0.023117777195934573), (3461, 0.023084537446086306), (1623, 0.023036353410100283), (1771, 0.02296685741811423), (2962, 0.022952354014782197), (4362, 0.022940259286104124), (2713, 0.02288347976558197), (1919, 0.022852161738499036), (1578, 0.022809275127536527), (3172, 0.02277965853150571), (2095, 0.02275097616860484), (2027, 0.022748290532226635), (329, 0.02272761284101013), (112, 0.02270409311523877), (138, 0.02264370946771893), (1247, 0.022628877586574208), (4193, 0.022623756714009735), (3746, 0.0226182460370523), (3474, 0.022605121551569764), (1839, 0.02249649316657736), (284, 0.022490557267183395), (372, 0.02247335822776699), (1132, 0.022412386246553763), (2656, 0.022300842879515184), (3691, 0.022293450009893766), (1877, 0.022290067240953212), (3752, 0.022269132275046358), (477, 0.02226723643464014), (1506, 0.02223689055165546), (2158, 0.022184177822843206), (2892, 0.0221732765892027), (2646, 0.022158039910321066), (3566, 0.022152233596252496), (2844, 0.022113959817873983), (2406, 0.022086000693855887), (408, 0.02208477738297261), (3754, 0.02206541910215921), (2210, 0.022018903895421764), (979, 0.02199789870157743), (4135, 0.021963790164889113), (742, 0.0219573339133901), (3133, 0.021955901230347522), (3281, 0.021928886696046198), (3083, 0.021922701076557763), (661, 0.021912782623483357), (3469, 0.021908544839236193), (4078, 0.021904248563619482), (1793, 0.021893513598035434), (1858, 0.021890490893048026), (3688, 0.0218730525252724), (1503, 0.02186851543592668), (916, 0.02185187389017398), (2992, 0.021780042402527594), (1558, 0.021778779851764136), (4496, 0.02177800497761891), (4174, 0.02170617485753752), (699, 0.021690455571582695), (4741, 0.021681379755453898), (4664, 0.02162408988536016), (2101, 0.02160201074780609), (3656, 0.021591755889086572), (695, 0.02157929750580654), (4077, 0.021556130297714252), (1699, 0.021523611395523282), (346, 0.02151941988226537), (2739, 0.021469090922252285), (94, 0.021451057571392207), (80, 0.02140307708875574), (2608, 0.021280430763406567), (3557, 0.02123705016290093), (2830, 0.021175503481157185), (2322, 0.021095724539389533), (2494, 0.02109206520663548), (2457, 0.02107504360851562), (4395, 0.02106851700039263), (1747, 0.021006314923372144), (617, 0.02100359982254836), (3801, 0.020990445539505166), (664, 0.02093872610650243), (4038, 0.020914904584640168), (2867, 0.020880977500903716), (1975, 0.020792331726809228), (1565, 0.020767738192517378), (222, 0.020718040186585844), (4406, 0.020693002218585135), (875, 0.020636793433949085), (820, 0.020633842359602743), (3409, 0.020577955572976394), (2584, 0.020487241917707608), (4132, 0.020480061685656904), (313, 0.020457789701860143), (2015, 0.020427971603656475), (2124, 0.020390679109346697), (3205, 0.020334832653125478), (588, 0.020328837842756714), (3655, 0.020328643183210066), (2114, 0.020305873161250175), (4251, 0.020238441596262875), (2923, 0.02022008600596543), (3463, 0.020180826798898134), (2294, 0.020179780919015518), (779, 0.02015888795422843), (1707, 0.02014886257389208), (1234, 0.020147935835177513), (3579, 0.0201299112134628), (1523, 0.02012561598899776), (2615, 0.020117503995788086), (1918, 0.020097462964732072), (2611, 0.020039862381618763), (2977, 0.020031068392821726), (597, 0.01997314076026912), (1821, 0.01996594845217828), (2045, 0.01988185787428464), (2064, 0.019881655970007142), (919, 0.019880939022847585), (1400, 0.019820077636370614), (14, 0.01981703339705251), (1014, 0.01981184731108368), (34, 0.019798544856869684), (1007, 0.01979451527580248), (1461, 0.019782283990232914), (3968, 0.019745195362410883), (320, 0.01971184401963642), (1784, 0.01966522181640749), (3564, 0.019639287391438713), (264, 0.019590312005788858), (1367, 0.019565064927180284), (871, 0.019549532502321925), (3492, 0.019539313513561887), (1334, 0.01953187983146828), (1116, 0.01951433683898881), (1531, 0.019462768318284522), (1071, 0.019448988321097142), (3270, 0.019436180719396737), (151, 0.019423118097778955), (969, 0.019420172054921647), (238, 0.019405842680320907), (4546, 0.019398252777219595), (3111, 0.019383075259680534), (2017, 0.019372761139270396), (54, 0.019322449735736595), (3234, 0.019306342344431897), (1991, 0.01930152752745387), (579, 0.01928732196725589), (3548, 0.019266509595669567), (4041, 0.019244419399370518), (2878, 0.019211678568078483), (3456, 0.019188165821069497), (4751, 0.019178509440614232), (758, 0.019174245661253343), (1130, 0.019170022137259376), (3653, 0.01916679218842978), (1813, 0.01916473831754958), (2814, 0.019155692251643437), (3060, 0.01911278313944633), (3368, 0.019100101138784655), (1074, 0.01908509625172378), (4118, 0.019047071436775784), (2793, 0.019038739395893983), (2387, 0.01898527791727936), (3936, 0.018984741226056437), (1345, 0.01898447487604816), (4442, 0.01897568093329443), (1467, 0.01897475374210058), (628, 0.018957255557574503), (4300, 0.018949623758197268), (4472, 0.01891099248756241), (3240, 0.018904869658345962), (400, 0.01885196108884213), (2729, 0.018843645765848224), (1831, 0.01881260553471338), (1844, 0.01877426361374874), (3161, 0.01877011368561538), (2690, 0.018745225004249744), (2498, 0.018698219077445732), (297, 0.01868628073856573), (4140, 0.018684116354552395), (1850, 0.018679444350229536), (1102, 0.018661256525392973), (4258, 0.018632020940939104), (3069, 0.018580479777601897), (1263, 0.018541947877531387), (1253, 0.018540251405415934), (3250, 0.018513794508997268), (1742, 0.018497777611214353), (4646, 0.018393648116477666), (2693, 0.01839287512093358), (2062, 0.018380676395829063), (2232, 0.018369587355480502), (3392, 0.018323425051877864), (2839, 0.01827404951263771), (4459, 0.01826204555638687), (554, 0.018239273609124956), (2680, 0.018195974189680938), (866, 0.018186955468781192), (1416, 0.018182120384595782), (2668, 0.01817362937878378), (3342, 0.018166227907472278), (3970, 0.01815548347410544), (3142, 0.018120895263132663), (3122, 0.0181088882048468), (923, 0.018107372754277172), (609, 0.018075537667287235), (2582, 0.01801913187049623), (1630, 0.018011694452872068), (3608, 0.018011620705003777), (1389, 0.018007177602122126), (818, 0.01797460292124309), (1495, 0.017969706380947553), (4506, 0.01791711182568225), (968, 0.017881719870519418), (4271, 0.01785091253095066), (3823, 0.01784800720997585), (1522, 0.01783598611711176), (407, 0.017827776989238632), (1041, 0.017818548838038975), (2398, 0.01780505627094603), (4071, 0.017790624592572097), (3789, 0.01772317363266504), (1171, 0.017721207092259727), (4451, 0.01770631501769813), (1173, 0.017704160112660357), (31, 0.017683350818180687), (2184, 0.017662575824838003), (706, 0.017647784854429728), (1792, 0.017635966383416985), (316, 0.017633813232305184), (24, 0.0176295638521589), (4074, 0.017605673670287533), (1306, 0.017582876498631484), (2399, 0.017563086535772404), (3068, 0.017541051911911347), (577, 0.01752133861347696), (3502, 0.01746151353115798), (2362, 0.01744107319391211), (1392, 0.01739379406613701), (2118, 0.0173614070937277), (124, 0.01733331595867916), (1729, 0.017329412537906926), (1543, 0.017323156716053997), (1143, 0.01728841330955027), (3532, 0.017278482331874196), (2616, 0.0172697709009028), (2763, 0.01724939200055505), (3304, 0.01722839008152852), (801, 0.017223627269568203), (1827, 0.017205456018104297), (1093, 0.01719678229149217), (36, 0.017182574820456584), (1134, 0.017150488165753396), (1343, 0.017149577970957553), (1788, 0.017137858281159084), (537, 0.01708240201885998), (3047, 0.017074366271070535), (1018, 0.017059794176263465), (212, 0.01705589318147458), (1817, 0.017035483453248818), (1298, 0.017005600814456456), (4106, 0.01699493942549098), (191, 0.016936790403660876), (4449, 0.016927129892618617), (2367, 0.016907235482821355), (4752, 0.016892609793535907), (1954, 0.016854321761986025), (4105, 0.016845149854165863), (2835, 0.0168334563030244), (1700, 0.01683312817979199), (2360, 0.01681528436338522), (1755, 0.01680760370149532), (561, 0.016799074721822564), (2074, 0.016758165464918266), (1487, 0.016746292354710812), (4293, 0.016746105371334145), (444, 0.01672119283233869), (41, 0.01669872209877222), (1307, 0.016621696321130447), (404, 0.016595034476470188), (3164, 0.016567068934432452), (4619, 0.01655786449059841), (3097, 0.01654798165938129), (1454, 0.016483354000699307), (476, 0.016473404918473752), (2626, 0.016470355659395936), (3869, 0.016450931427517978), (78, 0.016444691042006764), (2127, 0.016423342157175586), (575, 0.016411899872778326), (2211, 0.01639244477910471), (861, 0.016384330455219576), (1291, 0.016360954864311668), (1491, 0.01635413129697972), (4201, 0.016320741741233456), (481, 0.016320345519326374), (887, 0.016317734828220246), (2214, 0.0163168922447126), (1067, 0.016309661602659647), (3616, 0.016298389948470656), (4242, 0.01628248634425397), (2617, 0.016240367530831922), (524, 0.016203331413445918), (395, 0.01610110757648645), (4120, 0.01608062172793602), (394, 0.016068786706436158), (872, 0.016065975584247376), (4194, 0.016052938662849264), (2568, 0.016029619956618796), (2236, 0.016027671462951868), (1324, 0.016008166130604202), (4549, 0.016003688831074222), (707, 0.016003347371291665), (2522, 0.01599416652867057), (2931, 0.01597737062268756), (1458, 0.01591406740013506), (456, 0.01589982668532628), (2819, 0.015897644696835567), (3027, 0.015893972184349993), (2714, 0.015882560504121027), (3137, 0.015871435711582046), (2183, 0.01585743025912933), (3252, 0.01585405932892805), (3397, 0.01585122367947685), (3831, 0.015819882890777386), (3633, 0.01581884562312926), (3388, 0.01581164425013595), (2227, 0.015810169170688965), (4226, 0.015771495324856825), (656, 0.015766257653960045), (1299, 0.015753639235088258), (3753, 0.015753145548181555), (4240, 0.015748673940923885), (1698, 0.015742284159839116), (2625, 0.015704233960464848), (1056, 0.01569608924241637), (3516, 0.015689705342909182), (3107, 0.01567857208192399), (1229, 0.015667346613994274), (2605, 0.01566581000165925), (1511, 0.015665374153129973), (1775, 0.01565917735331805), (3903, 0.015656510296982527), (2351, 0.01564410040121219), (1432, 0.015632172326660823), (1529, 0.015612677854151602), (1727, 0.015603290079655873), (2697, 0.015576352523852732), (4008, 0.015574544450844342), (1907, 0.015528565014627693), (584, 0.015528188404923498), (277, 0.015525844133798048), (4726, 0.015517925694581014), (420, 0.01551273420774942), (3610, 0.015479705814706507), (668, 0.015477346422342109), (3489, 0.015469147330125022), (1296, 0.015453925297362949), (3131, 0.015434334790818217), (2092, 0.015416338828786697), (153, 0.01540422200600193), (1031, 0.015338461532867), (1931, 0.015333024896783495), (1108, 0.015312328546744067), (75, 0.015307498453354065), (239, 0.015302033718607258), (994, 0.015250847241985688), (4674, 0.015246285571170966), (1859, 0.015211978306474933), (4695, 0.01520376197667546), (1104, 0.015184449307122715), (1758, 0.015155713605565658), (4581, 0.015146892322000248), (1643, 0.015145643566327279), (1871, 0.015143612542449584), (4609, 0.01511027234169774), (258, 0.015109506352118414), (1512, 0.01510486437428783), (4358, 0.015087300909885309), (4621, 0.015075122241152063), (177, 0.015057152328848373), (2340, 0.015044287810267934), (3367, 0.015030715901576638), (3858, 0.015029508168859193), (1172, 0.015025349147973264), (162, 0.015012981173855263), (3424, 0.014975910911334872), (4654, 0.014967967154561496), (2873, 0.014886006733806786), (1636, 0.014863930086892782), (562, 0.014841762236685109), (3446, 0.014815796080930008), (1011, 0.01480171427307932), (2532, 0.014796327140295076), (1431, 0.014772393470271344), (726, 0.014768769321265912), (1110, 0.014751027704618608), (3822, 0.01471623133544708), (1250, 0.014703785147164975), (3810, 0.014700258718688918), (2672, 0.014690233966978761), (2802, 0.014674295295762347), (1406, 0.014667024192071181), (4641, 0.014660143550938426), (3221, 0.014659012694016545), (3836, 0.014635976066592617), (4039, 0.014629088929524919), (2574, 0.014628798142279522), (3386, 0.014617456241745793), (1474, 0.014616460096358036), (3817, 0.014579716232459707), (1985, 0.014577454138203386), (1510, 0.014563965635690972), (1044, 0.014537706999695973), (1515, 0.014520390343987728), (4755, 0.01451391208147423), (1223, 0.014482188714009466), (3444, 0.014447216804807646), (1861, 0.014422032845438734), (2246, 0.014399281820219868), (2641, 0.014380647678719882), (881, 0.014376704253507164), (439, 0.01434148858972555), (3085, 0.01433648962182413), (4607, 0.014332513826833076), (3965, 0.014332429487884945), (4338, 0.014315466315192874), (2480, 0.014302397232524144), (691, 0.014275381340683131), (1852, 0.014226304304873847), (1551, 0.01417882695324428), (116, 0.01416377047952485), (1246, 0.014158914705732224), (1640, 0.01415581842827244), (3783, 0.014154163017788412), (2004, 0.014104756007688537), (4011, 0.0140939516049638), (1520, 0.01406951755917665), (2263, 0.014066678986444498), (4351, 0.01405530962682922), (4667, 0.014034155686204001), (2331, 0.014030591286686695), (3994, 0.014019425109486366), (2766, 0.01401499650694735), (944, 0.0139818255242483), (3457, 0.01397276348882238), (2283, 0.013967210580263826), (2086, 0.013959093343958315), (1146, 0.01394889535060636), (2528, 0.013936402068676957), (1347, 0.013934441998347515), (2245, 0.013933981193298674), (3297, 0.013926548932795262), (392, 0.013922170070805082), (3720, 0.013921825283086702), (361, 0.013912706315451086), (1493, 0.013908344190154139), (2432, 0.013905550169198125), (2056, 0.013901818824361405), (301, 0.013864138333460778), (3886, 0.01385465270522698), (1632, 0.013831834344716618), (1472, 0.013827741271873362), (4171, 0.013826222626508136), (2829, 0.013821633384066818), (781, 0.013802807981424185), (4618, 0.013788384738706166), (1218, 0.01376248608502357), (283, 0.013759822705114071), (4441, 0.013704097043461157), (218, 0.01370079856174625), (1274, 0.013700510547532647), (298, 0.013691115854594583), (717, 0.01366783295911208), (3842, 0.01365918167944142), (4136, 0.013653425749720982), (2094, 0.013651665868007489), (3197, 0.013638543796443485), (4239, 0.013636144674911204), (1613, 0.013632747709666432), (1841, 0.013631700292114886), (2550, 0.013628357508159654), (2259, 0.01362510457197505), (3536, 0.013599141204179951), (1567, 0.013594193136887056), (1155, 0.013593463851864404), (1195, 0.013585794684526597), (2899, 0.013561389279722088), (4154, 0.013560618462924832), (1824, 0.013560569840590352), (1914, 0.013558257174563982), (3320, 0.013549559950837259), (4134, 0.013545231375479088), (527, 0.013537736833292412), (4548, 0.013523360039252254), (1080, 0.0135098905978828), (1500, 0.013505499583410886), (1961, 0.013502039894829237), (997, 0.01349688774889282), (3722, 0.013475590256817539), (1726, 0.013449372119960402), (1525, 0.013438048704853609), (3701, 0.01343654584526129), (3280, 0.013431184285496292), (1430, 0.013414240194057512), (1921, 0.013411864354647376), (1750, 0.013411731943827923), (1319, 0.013410476900482695), (995, 0.013390481586369895), (1318, 0.013383953653362021), (4237, 0.01336052000320792), (1704, 0.0133602188075952), (2421, 0.013353909710276723), (240, 0.013353094845653692), (744, 0.013341318713598987), (2239, 0.013333260939679036), (2497, 0.013323820888281058), (3643, 0.013314795935271248), (2562, 0.013298735666660153), (4210, 0.013293933428935081), (3650, 0.013280255708778336), (200, 0.013260376857297492), (1210, 0.013252544050791137), (840, 0.013233665998794738), (2414, 0.013211483043340463), (1794, 0.013200604843580491), (4604, 0.01317723863767898), (776, 0.013167094766219465), (32, 0.01316033737052605), (3144, 0.013151269798552457), (291, 0.013149770290573348), (1804, 0.013146224543444544), (1990, 0.013143262939801344), (2813, 0.013134395029308885), (1118, 0.013133392775132268), (129, 0.013129885761625541), (3926, 0.013127504420625068), (4330, 0.013113753268894983), (352, 0.01311186394803767), (299, 0.013104329307888858), (3033, 0.013099016558258902), (931, 0.013097395707024768), (337, 0.013093665576854518), (148, 0.0130914321341444), (852, 0.013075264596214652), (731, 0.013075225454652945), (1595, 0.013055451963272388), (1220, 0.013020766810440718), (4482, 0.012999242139110339), (108, 0.012966620253763468), (3702, 0.012965734176157075), (1106, 0.01291299974208159), (2527, 0.012907259180621031), (2929, 0.012866565539466527), (2329, 0.01285552935579962), (1579, 0.012848270395163234), (4537, 0.01284803375431789), (3736, 0.01283660139671011), (2998, 0.01283603227560966), (287, 0.012825712152391299), (4218, 0.01282021395927317), (3066, 0.012805226708531918), (3439, 0.012802017325699709), (4112, 0.012793117296162494), (3916, 0.012787562151498628), (4040, 0.012736302195078555), (895, 0.012734683861780323), (2255, 0.01273410708161055), (935, 0.012713734388436843), (345, 0.01270263484346572), (2906, 0.012700840026771678), (1373, 0.012697503002600849), (2513, 0.012677233757106209), (2612, 0.012658052000431248), (3411, 0.01265698651224038), (3420, 0.012655564912904333), (1368, 0.01264561574601172), (1463, 0.012636689464657385), (2175, 0.012622072018667394), (13, 0.012616383818485004), (740, 0.012613585727188334), (35, 0.01261258872162509), (3826, 0.012600205284559888), (4282, 0.01258225923125917), (3852, 0.012570068198379095), (4438, 0.012565415059740664), (1982, 0.012519910695844134), (1092, 0.012508476128834071), (498, 0.012494980274706574), (1259, 0.012493328739341102), (1559, 0.012485459899357808), (3151, 0.012484817540881158), (1584, 0.012482978402336411), (37, 0.012478054262147245), (1675, 0.012452258811316091), (45, 0.01243897322740423), (130, 0.012409082541547366), (4302, 0.012404897768106184), (1216, 0.012394877492421418), (67, 0.012394785417373853), (3646, 0.012393003350706921), (2043, 0.012377831868606163), (2801, 0.01237531963262744), (3844, 0.012368432952628752), (2812, 0.012351789451041992), (2379, 0.012339502275279603), (1289, 0.012329407716902739), (214, 0.012325649133771469), (2358, 0.012320544024478934), (3731, 0.012302882954395581), (433, 0.01227572542995089), (2938, 0.01226965943900166), (2564, 0.012261978235173967), (3313, 0.012252177348461004), (1206, 0.01225208875154114), (3121, 0.012240092524680665), (2327, 0.012219719230562876), (803, 0.012216812911072846), (4205, 0.012208993795258007), (970, 0.012188688993071265), (2161, 0.012170969695828345), (549, 0.012160211249290526), (1535, 0.012130881235162944), (335, 0.01211668175053765), (4342, 0.012077498970935921), (1114, 0.012071860094394333), (409, 0.012066607738144372), (4348, 0.012052984444558013), (2666, 0.01204836887043918), (3942, 0.012039894831689059), (1308, 0.012024646117045911), (1524, 0.012003589934695226), (2966, 0.011998610378147301), (3484, 0.011997387758598816), (4028, 0.01199648173952717), (249, 0.011987490420828736), (4518, 0.011981742765566086), (4720, 0.011979785814161774), (4021, 0.011950121008299857), (3563, 0.011945337298693851), (2654, 0.01194462023998977), (4698, 0.011908292564497266), (3901, 0.011903362345532631), (2837, 0.011890732667082215), (2055, 0.011878711345056032), (2412, 0.011868694324619298), (4539, 0.011838724575083864), (3796, 0.011825528357394558), (2262, 0.011807725103359909), (3758, 0.011804802488417613), (3990, 0.011801695426638146), (4701, 0.011763553008711694), (3841, 0.011753650462963967), (269, 0.011728776257539994), (4645, 0.011694114419340236), (3865, 0.011688458871239007), (3535, 0.011687517154465175), (1539, 0.011686859755909164), (1025, 0.011679567082533147), (496, 0.011669755835970465), (497, 0.011663285187966568), (3360, 0.011642101091839913), (3944, 0.011628976840147898), (2365, 0.011624003417691903), (1395, 0.011612434365693683), (1394, 0.01161202813269236), (91, 0.011603091689210681), (723, 0.011571302774350986), (4412, 0.01156201494672895), (1940, 0.011535782982046576), (950, 0.011531687933341432), (3894, 0.011494635063819465), (3440, 0.011467857005053336), (566, 0.011467610715971585), (3547, 0.011463397602211097), (1482, 0.011456131188132521), (3204, 0.011445536654423763), (2484, 0.011432160526922168), (4316, 0.01141904687748237), (4750, 0.011394398841016218), (4331, 0.011369314605934143), (4527, 0.011348905628199762), (4538, 0.0113484631233089), (4500, 0.011299596773377985), (2952, 0.011295911003548863), (3285, 0.011281967867804728), (4015, 0.01127546753583331), (57, 0.011273078413337393), (855, 0.011269867996209361), (2, 0.01124594389503937), (2982, 0.011232553369495968), (2357, 0.011205091499668302), (4150, 0.011203995881923742), (4746, 0.011194852791186377), (3219, 0.011173774261237605), (2448, 0.011166277823217484), (2400, 0.011163622933815228), (839, 0.011151400714150772), (4699, 0.011136272622640952), (2521, 0.011131538196656512), (2199, 0.011129920303501066), (1560, 0.011122415799639742), (3892, 0.011114920425066073), (4740, 0.01110014925014653), (3470, 0.011078693094695903), (4630, 0.01106864437424354), (2643, 0.01105796638321795), (2683, 0.011055612228511558), (2921, 0.01104416864273083), (3481, 0.011030575528642428), (2115, 0.011027964094889662), (1158, 0.011027312364437313), (1391, 0.011011514518189058), (2296, 0.011009842405263844), (2257, 0.01100819296619641), (1962, 0.010995508018131457), (58, 0.010989591260986826), (3078, 0.010986979759581114), (719, 0.010981242403690226), (2901, 0.010977644382120294), (4593, 0.01097525772057539), (1498, 0.010973100328189959), (2733, 0.01096405003700454), (2154, 0.010951874347543323), (391, 0.010950535017117511), (3001, 0.010937817339502687), (4414, 0.010933435802252483), (757, 0.010918453937457835), (4227, 0.010895835560386624), (2493, 0.010893241203515442), (2000, 0.01089252668327812), (2530, 0.010867195187573403), (2314, 0.010857799230591965), (3472, 0.010832199913808294), (450, 0.010830361858289485), (1167, 0.010813306759175221), (3802, 0.01080758461712753), (2229, 0.010786384429060816), (2423, 0.01077532942213413), (4133, 0.01076226227886648), (1265, 0.010727337299502093), (2979, 0.010723286538193787), (303, 0.010710442364676333), (4595, 0.010680053239912357), (952, 0.010669478712744238), (2599, 0.010667748393703803), (4589, 0.010665862047516435), (3092, 0.010662897179975223), (3086, 0.010662361306996092), (3345, 0.010638574372914607), (1661, 0.01062875496175374), (430, 0.010623475491072891), (1695, 0.010608353478353127), (4199, 0.01060705888249898), (3768, 0.01060596260911478), (3022, 0.010601232477932949), (3584, 0.010600134860631204), (991, 0.010594843135280604), (831, 0.01059438212494645), (2320, 0.010593546277323888), (1057, 0.010590695568571567), (4167, 0.010587942345295155), (2427, 0.010584863560240576), (1614, 0.010558862772006213), (3613, 0.010546066769625105), (2949, 0.010545993674724977), (1119, 0.010537990333021791), (3235, 0.010521915244368442), (2851, 0.010519630250001953), (266, 0.010517235554240069), (3980, 0.010514350298230068), (2630, 0.010512283379972972), (3921, 0.010500411089684877), (1407, 0.010489010173857985), (2474, 0.010486954751448386), (4267, 0.010463671972406632), (3401, 0.010461809876013453), (3048, 0.010455355059919657), (1904, 0.010438087829579024), (275, 0.01043757896570057), (4180, 0.01043029075684912), (415, 0.010425136819893358), (3620, 0.010411478181083038), (807, 0.010406148261668318), (1916, 0.010401077441886517), (4392, 0.010393211687234689), (1449, 0.010390839197579178), (3089, 0.010388391685007171), (3334, 0.010384732066775227), (1189, 0.010375487522135098), (2927, 0.010361237864086967), (1835, 0.010356138671734176), (1271, 0.010355734843269106), (3554, 0.01035018261574481), (1233, 0.010341599234100428), (3769, 0.01031996412369689), (1588, 0.010312941394839367), (2781, 0.010304081986396638), (452, 0.0102949277275419), (2756, 0.010292932206577945), (3488, 0.010289858663069291), (4455, 0.01028928230449912), (516, 0.010288242449128892), (1534, 0.010272069053960258), (1536, 0.01026372129030938), (3666, 0.010248261892769816), (813, 0.01023468989849007), (3995, 0.010233013087187099), (4552, 0.010230663487794335), (4716, 0.010229545000598889), (4570, 0.01022080119898441), (1469, 0.010217960734208725), (1594, 0.010202624864099296), (3414, 0.010200532609240878), (4483, 0.010199520965158155), (4190, 0.010197290539603946), (1278, 0.01018936936453524), (4730, 0.010185297250565292), (3398, 0.010179484141172597), (3191, 0.010161280318809156), (4672, 0.010144480053451031), (421, 0.01013636719987194), (3179, 0.010134969502491719), (2772, 0.010128322332667078), (4119, 0.010128105671993477), (461, 0.010125243764812537), (1615, 0.010125241639604904), (509, 0.010121997714001667), (3530, 0.010118180915965402), (101, 0.010103763024508194), (3522, 0.01010164704325073), (4711, 0.01009136686589676), (1003, 0.010088692921000588), (4404, 0.01008393011247138), (3763, 0.010076618376411205), (3815, 0.010062873062514043), (3081, 0.010062381771521847), (3524, 0.010059745457894292), (2073, 0.010059289913454133), (1970, 0.010056330430690267), (2951, 0.01003913035622499), (684, 0.01002999432885681), (2295, 0.010027039196096843), (3576, 0.010024511634870585), (982, 0.01002418158328794), (3833, 0.01002351832546755), (3924, 0.010017057104571674), (2685, 0.01001683015744226), (811, 0.010006579501849343), (3677, 0.010002685296268372), (2991, 0.01000155319721855), (1998, 0.009989208826221709), (3332, 0.0099883110371477), (1799, 0.009980460548396578), (4149, 0.009978674267388759), (3005, 0.009975916723094187), (3002, 0.009974503042639303), (630, 0.009972886849830054), (3540, 0.009972422679984641), (4583, 0.009972377716068662), (1466, 0.009967494808960612), (3256, 0.009966925908863049), (4061, 0.009953590738043097), (635, 0.009948880274948554), (4517, 0.009929817219230442), (2284, 0.009923368495168337), (4346, 0.009919611352521448), (451, 0.009912748782669536), (552, 0.009910752852370554), (2261, 0.009910752284829415), (3515, 0.009907356694446822), (4683, 0.009903354589819884), (265, 0.009893344098823009), (4332, 0.009886237017624866), (1873, 0.009879883480121554), (1679, 0.009873509728144542), (1163, 0.009852718509716755), (4623, 0.009834474033077635), (619, 0.009824369982270294), (7, 0.009819167875287265), (2252, 0.009818271173062007), (4599, 0.00980765358945316), (4188, 0.009806917125694092), (4516, 0.009804479601321905), (331, 0.009802936388817823), (4708, 0.009794725746382283), (4312, 0.009790391933823833), (4665, 0.009789275402196996), (4278, 0.009785955409414397), (1891, 0.009784474727338802), (1634, 0.009782477500323005), (81, 0.009779277181987704), (4542, 0.009758367076384507), (4526, 0.009752170616327289), (1812, 0.009734399349611213), (4668, 0.009725377057936978), (1272, 0.009725009243816564), (1573, 0.009723606002299011), (1927, 0.00972350154837591), (2223, 0.009721608535006743), (3195, 0.009713130252234433), (3473, 0.009711304431028562), (1713, 0.009708956267138415), (3793, 0.009703189450162162), (1622, 0.009702330028956816), (1843, 0.009697693703433376), (4737, 0.009694666334541219), (1082, 0.009693680265865506), (74, 0.009691529047501889), (1635, 0.009679754392368392), (1097, 0.009679702627787964), (4029, 0.009672642030380733), (1773, 0.009670349861898792), (3580, 0.009670165997555755), (633, 0.009669388557301437), (1999, 0.00965827513880176), (4352, 0.00964439228435029), (4265, 0.0096439249731307), (418, 0.00963883062377942), (576, 0.009638477496633963), (746, 0.0096384370857474), (220, 0.009633999428126767), (1933, 0.009620989755427117), (557, 0.009618180300008194), (2759, 0.009617591167348272), (2824, 0.00961592101335821), (4615, 0.009614717373522865), (2710, 0.009613582340020115), (1315, 0.00960053241991532), (4534, 0.009599596477493557), (4718, 0.0095892894375824), (4160, 0.009586354093131697), (2579, 0.009583879721554944), (3583, 0.009583778134575064), (2810, 0.009582544827220905), (523, 0.009579115800324613), (2916, 0.009577139524648589), (2057, 0.009571940483728012), (2799, 0.009569715656834621), (4396, 0.009565996608762974), (308, 0.009561074026909418), (1689, 0.009560633301041115), (4624, 0.009555560090539742), (3505, 0.009555238657474367), (339, 0.009551432894282034), (3593, 0.009544561261980167), (2828, 0.009540511911797906), (2381, 0.009532863674886033), (3080, 0.009530289968973486), (1396, 0.009529710281677541), (4397, 0.009515712898310913), (3872, 0.00951107393038539), (1287, 0.009509425961747605), (2372, 0.009507504139690993), (3003, 0.00949814767852793), (365, 0.009494873234867855), (1864, 0.009493265673896708), (3487, 0.009489790392498197), (3664, 0.009487282010184296), (4034, 0.009485724101472696), (2369, 0.009478098901032036), (2443, 0.009474440123008855), (2806, 0.009469121226161803), (1460, 0.009465490971839227), (3735, 0.009461391117158028), (4434, 0.009455025005941019), (3907, 0.009454223119857313), (4025, 0.009453770430230104), (3126, 0.009452288074563081), (362, 0.009440116713613205), (2176, 0.00943869406068701), (3985, 0.009435444160389767), (1766, 0.009435160441682305), (715, 0.009435042345990444), (2944, 0.009432094567798434), (1207, 0.00942936633056157), (3743, 0.00942878009160557), (4614, 0.009427713912475544), (2049, 0.009426092415990982), (3105, 0.009424925495778525), (1993, 0.00942374768343818), (3824, 0.009420430633408156), (2865, 0.009413972900771266), (1443, 0.009401644650501388), (2618, 0.009400272626540897), (3581, 0.009399117034258601), (3116, 0.009395607583037816), (4085, 0.009394123698610028), (3265, 0.009390888662735306), (2390, 0.009373137661769214), (1532, 0.009368973087113366), (3458, 0.009364578446416033), (1631, 0.009364316514228485), (3816, 0.00936342381234357), (685, 0.009360935896990344), (1428, 0.00935625860331628), (2717, 0.009354004730877469), (1211, 0.009352469968438889), (3695, 0.00935215132914171), (3628, 0.009349901691554738), (363, 0.009342977977569313), (3859, 0.009335737673562732), (1647, 0.009330017239345435), (3813, 0.009329116687346447), (977, 0.009326375559649304), (3853, 0.009319659623503338), (3021, 0.009315192032321978), (3690, 0.009312575507363757), (1111, 0.009311979305008388), (4196, 0.009309896972238557), (3734, 0.00930923611056546), (2604, 0.009304890320036006), (1177, 0.0092976765177577), (768, 0.009296152607683275), (3433, 0.00929362826114201), (2732, 0.009293483083152615), (1688, 0.009292165764819643), (3609, 0.009280772625501848), (4207, 0.00927920459490711), (56, 0.009277863485608752), (2082, 0.00927569904601798), (1087, 0.00926429299947001), (311, 0.009264189111802398), (2371, 0.009262125226227115), (2798, 0.009253512314333244), (4086, 0.009252227361267415), (4159, 0.009250217276054238), (1413, 0.009248139389187254), (1105, 0.009247854959809598), (1556, 0.009244549716046428), (3704, 0.009239767567738063), (2171, 0.009236858209130122), (2061, 0.009229647386703928), (3788, 0.009226201335742541), (146, 0.009222806149662687), (1649, 0.009198578268513617), (3338, 0.00919551675497318), (1819, 0.009195389163323752), (3112, 0.009194089660097318), (3943, 0.00919042068832183), (340, 0.009186613900101911), (182, 0.009185213571524818), (2451, 0.009183016860411302), (2827, 0.009181531953619216), (4697, 0.009174643436162519), (1480, 0.009174071188980705), (2492, 0.009169582610868343), (4371, 0.00916880224332342), (1731, 0.00916677160888774), (405, 0.009166186742336255), (2462, 0.00916112499043178), (3118, 0.009159371758452895), (1135, 0.009159166503281314), (2316, 0.009158261093492284), (4347, 0.009149512982175806), (1683, 0.009149457774145739), (4173, 0.009148019556157294), (2260, 0.009146483654151015), (3728, 0.00914301906205505), (1562, 0.009142230385516996), (1141, 0.009137327474792498), (248, 0.009130956170835685), (413, 0.009130090087804493), (2393, 0.00912454216739051), (3114, 0.009124480153812956), (785, 0.009117949761121298), (1333, 0.009117824909811069), (770, 0.00911640832442778), (1129, 0.009115990401365483), (1304, 0.009115577919409557), (4070, 0.009114227264143316), (3846, 0.009111497571527918), (3539, 0.00910920546100852), (4063, 0.009108824032367246), (558, 0.009101409754831138), (1667, 0.009096370732966397), (3236, 0.009093744637679237), (3528, 0.009092110539220988), (1081, 0.009080754833359638), (1197, 0.009074992871168525), (1517, 0.009072486860243995), (3518, 0.009070266421964795), (460, 0.009070193326395403), (3084, 0.009068398030640575), (2014, 0.009063314519218801), (2984, 0.009061682529037766), (259, 0.009060372939096112), (2516, 0.009059439710814793), (359, 0.009057860843790861), (2110, 0.009055957265296974), (2337, 0.009052290461439452), (160, 0.009046899739893926), (3244, 0.009041577542477105), (4525, 0.00903837231148585), (1013, 0.009034403502755814), (3738, 0.009027888438811832), (3631, 0.009020777008728165), (1328, 0.009016475518065808), (1670, 0.008999138534386303), (3187, 0.008997592506481819), (1329, 0.008992393318560768), (3073, 0.008990753844074183), (3208, 0.008988015318480418), (1666, 0.008986258283019972), (3189, 0.008983099379004074), (1955, 0.0089810987986005), (1840, 0.008980364263892721), (1257, 0.008979586286281245), (973, 0.008977817854979206), (3278, 0.008974737279997529), (530, 0.00897019336590773), (1459, 0.008969686562508671), (2596, 0.008968818894693784), (1142, 0.008957338685592977), (4044, 0.00895555925510359), (727, 0.008952906939891191), (752, 0.008947393788987035), (119, 0.008940237599831391), (1795, 0.008924632779579231), (3871, 0.00892405423108874), (3454, 0.008913835933789197), (2102, 0.008908520829525044), (1513, 0.008906734830997937), (893, 0.008900134160654662), (2632, 0.008898354673402923), (500, 0.008885276279897597), (2553, 0.008883904954561546), (2650, 0.008883391785675404), (3229, 0.008879972484815946), (1911, 0.008879102441156302), (1932, 0.00887831830979165), (4559, 0.008875217346310563), (4756, 0.00887475495569862), (1602, 0.0088710904620298), (3847, 0.008855464182347932), (3765, 0.00885177938489951), (4576, 0.00885084539079772), (328, 0.008850238321941921), (961, 0.00884631730123489), (2422, 0.008845568574953125), (4682, 0.008842199508019635), (3287, 0.008839048219038557), (2456, 0.008824757351007854), (4192, 0.008824210892715107), (932, 0.008823157022505851), (120, 0.008818022093256888), (3890, 0.00881602301806503), (2332, 0.008811038880153917), (4582, 0.00880402535715055), (1697, 0.008800970601950085), (1113, 0.008796909054611298), (559, 0.008793323058168979), (3696, 0.008787930906496967), (1557, 0.00878581326372754), (2856, 0.00878211031522295), (2466, 0.008780898421194784), (4329, 0.008779211427472663), (3495, 0.008776646815887289), (2871, 0.008776178248970534), (1668, 0.008773782725658324), (245, 0.008770247069226961), (4658, 0.008760645662058352), (2167, 0.008756485387906975), (310, 0.008755170764054934), (4146, 0.00875459122940699), (4168, 0.00874457551515988), (1936, 0.00873863998093111), (3912, 0.008735241417443829), (2030, 0.008725618183852079), (2290, 0.008725113736486646), (1182, 0.008723490174524307), (1085, 0.008716512904364955), (1166, 0.008715594407995618), (2708, 0.00871518417329057), (528, 0.00870597832689163), (3812, 0.008702560977305), (4380, 0.00870131718709302), (219, 0.008699414607447222), (1361, 0.008685220649076385), (1001, 0.008684960516380196), (2896, 0.008682653155067237), (1002, 0.008682398074473562), (1889, 0.008680529015858512), (1204, 0.008674991746780499), (1412, 0.008673476252358767), (2041, 0.008671230786164635), (780, 0.008669904910350683), (3160, 0.008669827224809445), (1915, 0.008666121960826244), (401, 0.008665720507160427), (221, 0.008664070015920542), (2887, 0.008663554229638389), (2765, 0.008661840836048113), (2549, 0.008659817966867154), (3619, 0.008659608791033137), (4374, 0.008649983711724322), (2224, 0.008646965803630082), (2652, 0.008643919147102943), (909, 0.008641710459564304), (962, 0.008640667057612522), (4532, 0.008639878715636633), (3335, 0.008638893004014827), (4501, 0.008638328763102705), (1818, 0.008635271371589844), (911, 0.008633080784684015), (1787, 0.00863080382082922), (1706, 0.008628042271563895), (2335, 0.00862571574532968), (2554, 0.008625477650566333), (1029, 0.008623248489623321), (4399, 0.008612017029964796), (2059, 0.008608081797794064), (3394, 0.008607721337415025), (2449, 0.008605542404524973), (1590, 0.008605504101861913), (3482, 0.008602517034574132), (4385, 0.008590730098815664), (1505, 0.008574918804957192), (2160, 0.008574795960120455), (2583, 0.008573580550867725), (665, 0.008569254911153405), (2831, 0.008559992568071672), (4488, 0.008557025980618938), (4195, 0.00854497349773572), (4427, 0.008540572841641194), (99, 0.008536144533382493), (2686, 0.00852908981798691), (3805, 0.00852530331851206), (4457, 0.008518653915969891), (4568, 0.008517410696722882), (4426, 0.008516358632637546), (1720, 0.008516005410042419), (3673, 0.00851554149512673), (4328, 0.008512845181697438), (946, 0.008508504489765978), (1838, 0.008505915141964344), (3807, 0.008505338451669871), (1746, 0.008504622026930834), (1196, 0.008494357986957786), (188, 0.008494354848195662), (2862, 0.008492416129998846), (3545, 0.00848661199270644), (423, 0.008486243687717937), (1753, 0.008484038036608575), (2071, 0.008477475812213756), (1604, 0.008477277883275595), (3058, 0.008473569625018338), (490, 0.008466640157060711), (2408, 0.008466558762587199), (1837, 0.008466250185865706), (1198, 0.008463526981285406), (3279, 0.008457575707728818), (568, 0.008451620280439517), (1650, 0.008449898440829662), (1745, 0.008448049679712877), (2435, 0.008443045785815676), (1598, 0.008440254560105371), (1627, 0.008437051725916807), (3350, 0.008435141879114762), (3476, 0.008432308416962433), (1823, 0.008431154147255945), (1358, 0.008426680714955661), (117, 0.008420590130349905), (4754, 0.008419094722343666), (1849, 0.008417232748900756), (540, 0.008410282246038223), (1354, 0.008406240889103583), (306, 0.008395908132922611), (3711, 0.008395862490186501), (122, 0.008394301707614118), (2152, 0.0083932733522395), (1066, 0.00839268661651958), (4020, 0.00838810415023576), (3685, 0.008388046406900104), (2980, 0.008385537926163915), (3379, 0.008382657066746754), (1084, 0.00837805110877792), (1202, 0.008372054303491208), (1842, 0.008365686514493074), (1987, 0.008364698594787114), (2087, 0.008362667269875055), (2791, 0.008357162816551106), (4297, 0.008350493415853682), (569, 0.00834953975116033), (1541, 0.008342945824472802), (2909, 0.008338832686806366), (4565, 0.008327902353513725), (1607, 0.008326438539495749), (2401, 0.00830962204151491), (934, 0.008304988692195274), (1235, 0.00830392932823003), (3286, 0.008301187282034102), (522, 0.008299649349745733), (3370, 0.008299380484379828), (2036, 0.008295221816777526), (662, 0.008289956469290916), (1039, 0.008284379813505471), (2150, 0.008279834337606196), (170, 0.008256505047109453), (546, 0.00824956402613032), (4314, 0.008244391780244338), (1342, 0.008242045873096949), (2338, 0.008233026656680385), (2373, 0.008231324371106923), (964, 0.008228180240170205), (3825, 0.008227507917485341), (428, 0.008227125168613658), (720, 0.008223311239995826), (2100, 0.008221704038996086), (4055, 0.008219152616013897), (4303, 0.008210433733064593), (981, 0.008203819075110542), (2117, 0.008201436385830827), (2285, 0.00819966557814441), (2065, 0.008186901853495557), (2752, 0.008177818788281967), (1552, 0.008174817754977533), (1810, 0.008174418529103519), (3327, 0.008173641393407762), (4513, 0.008164693723960607), (1854, 0.008163414459550017), (1744, 0.008156691860794364), (2050, 0.008152810391779293), (300, 0.008145767866023395), (594, 0.008144953155911122), (2473, 0.008142913592909619), (3940, 0.00813762365943228), (1327, 0.008130578354638054), (3201, 0.008122432708674278), (3533, 0.008122308026400467), (1878, 0.00811831135394612), (437, 0.008112935894139075), (2439, 0.008103499159833077), (53, 0.008102056684624092), (4037, 0.008099737256196688), (1664, 0.008097807391321626), (2724, 0.008097390284039479), (2145, 0.008093058915711486), (3480, 0.008093000247946475), (2573, 0.00809062965546478), (4110, 0.008087514709624481), (185, 0.008083329483654176), (859, 0.008082141687623536), (3991, 0.008063289787778545), (2972, 0.0080593720770595), (1783, 0.008044979147191766), (1608, 0.00804349465935335), (1553, 0.008042366951363877), (4569, 0.008026214499962181), (4679, 0.008011375713412117), (2975, 0.008005729211691147), (2237, 0.00799611848300675), (1898, 0.007994898414840917), (2099, 0.007991661846998628), (1136, 0.007988833878803732), (3403, 0.007983615738284551), (4626, 0.007979906549825132), (3914, 0.007976631182320996), (4270, 0.00797649638596951), (2052, 0.007973865238444486), (3971, 0.007959682419604309), (2590, 0.007959363860795451), (2201, 0.007953761872398142), (4356, 0.007951732877347111), (3989, 0.007951406066729862), (2450, 0.00794836014718513), (862, 0.007938669380929277), (745, 0.007905305116944816), (1764, 0.007898865977156779), (762, 0.007898566732149408), (2593, 0.007888554486701763), (165, 0.007877447826507959), (692, 0.00787593048756501), (1979, 0.007867218393278282), (3843, 0.007864722509135955), (357, 0.007863561745966), (1079, 0.007862680507478109), (3923, 0.007856258096160472), (920, 0.007849194500688798), (3471, 0.007847764592029596), (457, 0.007847431708251638), (183, 0.007841489888301193), (3129, 0.007829102844404225), (2125, 0.007819872081006082), (251, 0.0078103841316503565), (2135, 0.007797078536093203), (199, 0.007796175296454556), (4344, 0.007789544407940544), (4405, 0.007770661052793943), (2265, 0.007762017785415728), (1781, 0.007753542852551442), (4191, 0.007744826938204781), (3344, 0.00773894699666183), (403, 0.00772371179283955), (1310, 0.007716961498719378), (3726, 0.007712172293256954), (1690, 0.007703405598447206), (2741, 0.007698475444931196), (3716, 0.007684630694210128), (3138, 0.0076759809796468695), (2591, 0.00767081631288254), (1957, 0.007655586435521236), (1800, 0.0076508076458566875), (1214, 0.007641043280787945), (640, 0.007628611826267109), (2389, 0.007626734489062928), (383, 0.0076202236058098925), (2287, 0.007602506897172934), (2985, 0.007600883809018628), (3485, 0.007597799346936608), (703, 0.007594915474043773), (1601, 0.007589371198858776), (1423, 0.007588199863992715), (1830, 0.007575994826961454), (2221, 0.007575623183461032), (1251, 0.0075660041213858826), (3948, 0.007559696110267315), (3785, 0.007556943723879355), (712, 0.00755401796987918), (519, 0.007549346752467791), (453, 0.007547353255930679), (836, 0.007537626387778554), (1305, 0.007533452435072609), (469, 0.00753073463661915), (441, 0.007530290075942268), (2318, 0.007523972781846451), (912, 0.0075184614231199026), (538, 0.007516889049645071), (4066, 0.007508683402253975), (738, 0.0075069078367979835), (2665, 0.00750344488046875), (1684, 0.007489569142052257), (2509, 0.00748848200427762), (2433, 0.007487457176819764), (1341, 0.007479077134247008), (319, 0.007466532178867579), (257, 0.007465073963713384), (3317, 0.007463668014050589), (412, 0.007444716428461612), (1943, 0.0074421134986015535), (4541, 0.007442017590072078), (77, 0.007438824247911098), (2721, 0.007429368196254968), (414, 0.007411939785572996), (3875, 0.007406723460296881), (242, 0.0074027693608231075), (73, 0.007402338236077102), (1370, 0.007372353798805802), (789, 0.007353922850563377), (1453, 0.007331960947701331), (1008, 0.007326534012319693), (1088, 0.007309023908345247), (2352, 0.007307206617938442), (2758, 0.007261585602454338), (2013, 0.007260386403458237), (309, 0.0072478704223241375), (2022, 0.007226886959067053), (3091, 0.007156614905950388), (159, 0.0071319384742081675), (3152, 0.007110983616388125), (3212, 0.007088051991531409), (2770, 0.007070429501720658), (1418, 0.007004476952943033), (775, 0.006971417407337634), (4652, 0.006965204548487486), (1005, 0.0069651537263166205), (1153, 0.006920323449282262), (82, 0.006915088999058486), (228, 0.006901423616874513), (2364, 0.006874504177494732), (1268, 0.006844992711653461), (1676, 0.006826909380755235), (1471, 0.00675751046172727), (4598, 0.006707857449554044), (929, 0.00657347182686573), (3574, 0.006566745122818936), (0, 0.006548677358199156), (336, 0.006535403331792851), (351, 0.006523251471295677), (4635, 0.006480726005288009), (553, 0.0064804159997765036), (4007, 0.006478661079898375), (1581, 0.0064657168524618015), (243, 0.006415513053216996), (2818, 0.0063804304618989335), (330, 0.006296403294676794), (641, 0.006122760252700111), (2534, 0.006097525061945175), (2885, 0.006079116177184276), (2673, 0.0060610847477833235), (3328, 0.005989553512266767), (940, 0.005983892713030132), (202, 0.005979404576938793), (4444, 0.005968469497086093), (824, 0.005954058150647689), (3145, 0.005919421993307605), (2645, 0.005863709251652947), (1208, 0.005808839969635866), (1548, 0.0057673668297479), (3578, 0.005750882311056526), (948, 0.005736906059159795), (2581, 0.005693613879082495), (3638, 0.005680640496346885), (4612, 0.005672132027657289), (3577, 0.005630802023158073), (2363, 0.005630615914606894), (4660, 0.0056184423546180315), (1669, 0.005606130729362535), (2730, 0.00559815071922208), (787, 0.005573881696851301), (3448, 0.005527188270055594), (4062, 0.005518590335835574), (4524, 0.0054371509447576185), (512, 0.005415385882095704), (2738, 0.005376884550064364), (4594, 0.005366687681212888), (904, 0.0053634228764693394), (2720, 0.005340060927128297), (2032, 0.005339199209371945), (491, 0.0053265757717303516), (3951, 0.005316386531199938), (3312, 0.005292018349666621), (3450, 0.005291648870016655), (4002, 0.005291375460944238), (4203, 0.005281389240246863), (3230, 0.005260166707896007), (3364, 0.0052598100542421726), (448, 0.005259065829742582), (3866, 0.005251980921005984), (1321, 0.005243793650109214), (225, 0.005240040424413986), (2012, 0.005239814529417677), (380, 0.005234269388263356), (1381, 0.005228591312974679), (614, 0.00522766068910768), (847, 0.005224828743156087), (3651, 0.005212197678698931), (38, 0.005206945111108571), (2486, 0.005202060649609656), (2079, 0.005201261666117288), (3661, 0.00519641141595941), (4121, 0.005182158388744773), (2339, 0.005174898548200625), (424, 0.005173348072035754), (425, 0.005168859617198929), (3960, 0.00516540008507648), (4460, 0.005164670185073896), (1887, 0.005163342368495395), (3039, 0.005155849651768069), (1928, 0.005151042422093228), (4462, 0.005148929567210348), (2470, 0.005145961057118055), (683, 0.005143699812160495), (2518, 0.005143591532025574), (737, 0.00513899344141975), (1349, 0.0051337574491429686), (3587, 0.005132507775920249), (2740, 0.005130071675784174), (4368, 0.005127857667340542), (666, 0.005127093045309052), (1716, 0.005109825881565064), (701, 0.005086063378481373), (2840, 0.005081690602944267), (747, 0.005079790650702304), (3877, 0.005072924533273252), (2218, 0.005065347264930314), (3857, 0.005060632930858351), (2854, 0.005060181868477694), (3681, 0.005057985665235356), (687, 0.005055022293508434), (4064, 0.005054452467655106), (1725, 0.005037087730006009), (48, 0.005020332546201756), (1486, 0.005017766947620759), (371, 0.005013678465851925), (4091, 0.005006342050372056), (1681, 0.005002214061621965), (2233, 0.005000076441223068), (1733, 0.00499577033798076), (677, 0.004993310308927786), (1583, 0.004991713270999773), (123, 0.004984914722215001), (3730, 0.004980723851108213), (1043, 0.004979067404939478), (102, 0.004977790155234095), (4732, 0.004969560036520663), (675, 0.004968782122970322), (2458, 0.004965298784565556), (342, 0.004963425758186765), (4013, 0.004960561876398416), (192, 0.004927927429944468), (704, 0.004926601219230121), (3271, 0.00492305105792684), (4659, 0.004916757600428371), (1150, 0.004914343099358127), (4436, 0.004913102117990109), (4076, 0.004908512349715156), (1952, 0.004906328136323657), (232, 0.004905628530540128), (3586, 0.004903449389873212), (1390, 0.004901930662776227), (4269, 0.004887216252162873), (2725, 0.004872780140301135), (1282, 0.004871019055350083), (2964, 0.004868822261561154), (2712, 0.0048681517352543524), (12, 0.004865560505308294), (3780, 0.004864839490276581), (3438, 0.00486410129589231), (2609, 0.004859821846030952), (2817, 0.004858387391876201), (10, 0.004855516741463432), (3678, 0.004847152952252477), (792, 0.0048466356072630985), (603, 0.004846154682887301), (680, 0.004845520542830555), (1951, 0.004834100123620512), (1896, 0.004833547302318064), (913, 0.0048329846990141775), (3897, 0.004830776058691953), (2689, 0.004829901057502713), (2418, 0.00482962139410989), (3618, 0.0048295914445862275), (3464, 0.004828844710948546), (2792, 0.0048271274469631215), (4613, 0.004823323810927258), (1436, 0.0048208548282697656), (2330, 0.004817339000127403), (765, 0.004815351767964388), (2610, 0.004815159575600584), (3103, 0.004813945196962657), (1502, 0.004811489366757594), (483, 0.004810669385113956), (1893, 0.004805628817976596), (1380, 0.004805197952383613), (654, 0.004802167124055053), (1185, 0.004800252844979594), (891, 0.004799440814115087), (3277, 0.004797516215006574), (2809, 0.004795863798004702), (600, 0.004794297753638784), (599, 0.004793389113325436), (3654, 0.004791826806651077), (3969, 0.004786526364788752), (2633, 0.004783344558976408), (1402, 0.004777758564182808), (2675, 0.004776310978274603), (4363, 0.004772034453628689), (2640, 0.0047672790169494715), (3150, 0.004767093531266415), (3919, 0.004762954538302614), (211, 0.004762446709239023), (1006, 0.004760144117528316), (4448, 0.004758279558883542), (3018, 0.004758239729688328), (3599, 0.004757312048067406), (928, 0.00475471051127821), (3378, 0.004754448615215828), (201, 0.004753704086097176), (4629, 0.00475306353925824), (890, 0.004751896454380852), (1047, 0.004747114482943396), (1851, 0.004743467902114951), (2546, 0.004743155235688953), (2911, 0.004741935274112483), (2691, 0.004740272218688343), (2241, 0.004737949746640692), (1702, 0.0047356113743617905), (1048, 0.004734718689840704), (3778, 0.004732694065713998), (551, 0.004731889079526958), (1364, 0.004731041605714409), (4262, 0.004730296393541061), (2016, 0.004729985386018295), (216, 0.004723655538753332), (3507, 0.004723242470851155), (2511, 0.004722705655828053), (4486, 0.004722648851631257), (2072, 0.004721256152032106), (4379, 0.004720734355271177), (615, 0.004719769902770707), (3920, 0.0047194048330610975), (3959, 0.004719098944841602), (11, 0.0047182047499227464), (3930, 0.004717015271961277), (918, 0.0047151622925180915), (2816, 0.004714373383245954), (3648, 0.004714286782325871), (3689, 0.0047127681333792), (3549, 0.004712091161140875), (4467, 0.004706408757273959), (2222, 0.004706202790604148), (2053, 0.004703989328240587), (137, 0.004690932151292604), (472, 0.004690698752381948), (971, 0.004689811546926951), (2334, 0.004689648390455806), (2431, 0.004689326969186712), (3233, 0.004687309819969593), (4388, 0.0046854976680437204), (4376, 0.00467131709042257), (1564, 0.0046663887696083844), (3526, 0.004662847917927604), (2784, 0.004657035819055765), (110, 0.004656619509709284), (1077, 0.004654750533661792), (908, 0.004654645070654624), (1266, 0.0046483934719865234), (2444, 0.004647570873825813), (4283, 0.004644411976695432), (3283, 0.004640903225184238), (2788, 0.004638571621707488), (850, 0.004638451805341183), (1322, 0.004638156913931062), (1587, 0.004637898599711391), (3303, 0.004636637541075199), (832, 0.004632745386816462), (4068, 0.004628842753936139), (353, 0.004627472269247078), (28, 0.004626023709408879), (2277, 0.004618639260323916), (2487, 0.004617574336433513), (131, 0.0046161439383607655), (2647, 0.004614724579099358), (945, 0.004613511505388391), (1751, 0.004609822940029185), (3551, 0.004598572546966239), (4137, 0.0045980965625248525), (1574, 0.004597886199188802), (2193, 0.004597721817660595), (209, 0.004597548912164982), (1577, 0.004596049690730853), (4503, 0.004595135328318353), (2109, 0.004592851751827394), (897, 0.004590926277370014), (993, 0.0045897846243186085), (736, 0.004586825432687812), (2169, 0.004585726996989518), (104, 0.004585039093199425), (4686, 0.004584052751841594), (504, 0.004583810358752781), (1346, 0.0045823046444885196), (1908, 0.004580489353073713), (3125, 0.004578780252149802), (2501, 0.004578189074602578), (347, 0.0045717027580573924), (560, 0.004570054398692464), (938, 0.004567076235490304), (1170, 0.004561394194109457), (1297, 0.004560090698243263), (3612, 0.004558017132256112), (1179, 0.004555643148442719), (272, 0.004554912972296562), (305, 0.004551853125110881), (3343, 0.004551666545603555), (1501, 0.004550507247094537), (3955, 0.004546858911311549), (2250, 0.004546439984852815), (3665, 0.004545431993058184), (280, 0.004544362104232846), (2195, 0.004544261265429329), (3174, 0.0045441109606483695), (4592, 0.004542165954261534), (2900, 0.0045417860731923896), (3594, 0.004538274825090947), (1022, 0.004535435974113689), (525, 0.0045318813313618605), (4511, 0.004531721929797005), (689, 0.0045312849452765515), (610, 0.004530094696015179), (3299, 0.004527482175858806), (3963, 0.004522168970295261), (3374, 0.004521744303308243), (4394, 0.004521250193704486), (105, 0.004518758240915469), (65, 0.004518270028639439), (3477, 0.004517986581357995), (894, 0.00451347378540474), (3435, 0.004511989970678495), (348, 0.004510326840661853), (1692, 0.004508094321338885), (1411, 0.004502364563379636), (3237, 0.004500267495622307), (769, 0.004496628744891001), (1447, 0.0044940468509097895), (613, 0.0044910069628989165), (1314, 0.004482086721201991), (2128, 0.004480455897628471), (169, 0.0044765144018010326), (215, 0.004476203157924024), (1888, 0.004475770685419435), (4685, 0.004473243809425828), (4284, 0.004470553874750308), (3260, 0.004470321685689317), (1807, 0.004469148567675967), (3046, 0.004468780749836556), (84, 0.004461144747667202), (150, 0.0044601288426417765), (2910, 0.0044579416675543364), (4687, 0.004455112213110723), (3447, 0.00445220720896303), (2029, 0.004448266399332767), (618, 0.004448060024044562), (3412, 0.0044436675911009174), (1653, 0.0044431392041455395), (4387, 0.004442706323693932), (3709, 0.004440890566007639), (2698, 0.004439194086608865), (2103, 0.004436567523167495), (1422, 0.004436235887683933), (1035, 0.0044263082992159804), (152, 0.004424696490545622), (292, 0.004420568398960166), (72, 0.004418815549269877), (4550, 0.004417033931535434), (790, 0.004416088200837884), (643, 0.004415152574811195), (2808, 0.004414946310997977), (3127, 0.004413402423808647), (1267, 0.00440454891173319), (3028, 0.004402944680942233), (2571, 0.004402026693333879), (2003, 0.004401798677835415), (1645, 0.004401632065449534), (4217, 0.0044006861846636785), (2268, 0.0044003563442228605), (3641, 0.004400354892185439), (3011, 0.004399740991104293), (4504, 0.00439748984056709), (3149, 0.004394827061207943), (1421, 0.004392404726024769), (2642, 0.004389774693572953), (3998, 0.004389541824538116), (1597, 0.004389012880825275), (223, 0.004387463895020792), (4564, 0.004387059505881398), (521, 0.004386784116686947), (915, 0.004384300715998282), (4252, 0.004383739800844528), (585, 0.00438308394383902), (3917, 0.004382907719289368), (2131, 0.0043769390684047435), (486, 0.004375488586424066), (3053, 0.004372392854202765), (782, 0.004372118317474673), (3786, 0.004371708518405394), (427, 0.004370299749250417), (3568, 0.004369629518815563), (18, 0.004368957051960813), (3246, 0.0043679375637235675), (1446, 0.004366272947130092), (3567, 0.004365328579125373), (3504, 0.004364102393611446), (3868, 0.004359581702792019), (4279, 0.00435707272993122), (2143, 0.0043562255918716715), (4481, 0.00435327640593084), (883, 0.004352385171654891), (2897, 0.004352012294332327), (854, 0.004348296213503473), (4152, 0.004347055415642326), (356, 0.004346030616713211), (2409, 0.004339497463474333), (29, 0.0043388808889703685), (3784, 0.004336815113091933), (1273, 0.004336289421379846), (2706, 0.004331635825703868), (1375, 0.0043304900857281114), (644, 0.004328266269989229), (3465, 0.004327731921734068), (2631, 0.004326871573491823), (4428, 0.0043264186621744995), (1738, 0.0043253921669120865), (171, 0.004324975459901682), (4272, 0.0043224838515097735), (767, 0.004322099231995106), (260, 0.004321586090516785), (2859, 0.004319674208030724), (1988, 0.004317693312765437), (1710, 0.0043159721196205725), (3712, 0.004315916987494731), (3891, 0.004314757028365061), (3361, 0.004313068205538297), (3293, 0.004312493091780711), (4124, 0.004311250002792001), (1404, 0.004306892838062039), (1054, 0.004302333950422288), (3819, 0.004301981832799645), (966, 0.004301929160823621), (388, 0.004301212181882057), (2303, 0.004297179308589969), (387, 0.004297104368426281), (4257, 0.004292141493921145), (1895, 0.004292097505704536), (2023, 0.004290621095223333), (1973, 0.004286154960778833), (2311, 0.004286011287906129), (3193, 0.0042800512792361255), (507, 0.004278214749970949), (3407, 0.004277408983271519), (1682, 0.0042756791219552516), (3057, 0.004274253182772198), (548, 0.004272621153080512), (3071, 0.004267654136744046), (279, 0.0042653967061444704), (974, 0.004265254009511795), (1903, 0.004262165934567851), (426, 0.004261661369011981), (4059, 0.004260876236677732), (1620, 0.004260377486845371), (2552, 0.004259827614201622), (3399, 0.004256762753013466), (492, 0.004253917984455145), (4634, 0.004251507697917777), (3909, 0.004250971627468647), (3966, 0.004249352580119019), (1778, 0.004243878554485805), (690, 0.004239187481759928), (417, 0.004232189062876986), (2446, 0.004231848019952993), (1456, 0.004229081824809576), (2874, 0.004228730075024056), (454, 0.004228639494882319), (3718, 0.004224932946069329), (96, 0.004216945023736033), (1642, 0.0042168958817404584), (9, 0.0042163970858679215), (2777, 0.004215893361319253), (3321, 0.004215715645164394), (978, 0.004214331527317264), (3854, 0.004213403694770548), (805, 0.004213306069655658), (2491, 0.004200814424107465), (899, 0.00420004213696537), (2482, 0.0041997564845005966), (324, 0.004199443518250892), (669, 0.004192285966952915), (3226, 0.004190548488168491), (907, 0.00419000133187489), (4176, 0.004189556107871828), (1984, 0.004187712540249382), (829, 0.004185525202435001), (4649, 0.004184302556056277), (788, 0.0041834064862098655), (1157, 0.0041805287011275625), (3306, 0.004177108677904145), (416, 0.0041752478995552835), (3284, 0.004172936693140273), (821, 0.004172805221697734), (4600, 0.004169633891096055), (2920, 0.004168820574152227), (1782, 0.004167220046000306), (4339, 0.004161999719690657), (2954, 0.004160265880886033), (4689, 0.004157519885676072), (1360, 0.004146755646578126), (2749, 0.00414666074752812), (3295, 0.004146377133166305), (1288, 0.004145583315242717), (1935, 0.004135743156668488), (1626, 0.004128455068495058), (4647, 0.0041200578967610785), (1809, 0.004117725776401172), (1719, 0.0041120145405366204), (1816, 0.004107164791914493), (3336, 0.004101005289785341), (3986, 0.004099545582641038), (4143, 0.004095603011894821), (722, 0.004093998645432166), (2514, 0.004093440590901298), (3108, 0.004089360649400919), (885, 0.004086765668905428), (1808, 0.004086212776770053), (3231, 0.004080103924648568), (4590, 0.004079881296711322), (2156, 0.004057130383943809), (1994, 0.004053986831030193), (4057, 0.004049858861081986), (2587, 0.004043364805724967), (4450, 0.004038929150111199), (882, 0.004038841080246413), (1468, 0.00403862700337758), (3598, 0.004033324911724527), (33, 0.004026585066914307), (184, 0.004012180922923117), (545, 0.004002524002355421), (756, 0.004000929858730298), (1186, 0.004000686390964254), (4156, 0.003993930807652027), (3637, 0.00398454432165293), (2805, 0.003984258067828424), (1194, 0.003980826728945192), (1301, 0.003980585802348072), (924, 0.003968728788666688), (4473, 0.003968218012837639), (4353, 0.003956796679590447), (3684, 0.003954204211741823), (1772, 0.00395377081245376), (4748, 0.0039460404843283566), (2942, 0.003942646325916527), (3748, 0.003942186152429179), (2842, 0.0039392935058498455), (1828, 0.003931438263789882), (234, 0.003921353399300661), (2761, 0.003920861273688104), (1546, 0.003919661490141282), (3393, 0.003918643469392419), (86, 0.003918431850398035), (2447, 0.003907798774029997), (2291, 0.00390352338660076), (3776, 0.0039021743933127626), (1215, 0.00390000459575558), (60, 0.0038975615977434714), (2020, 0.0038864733454832576), (1120, 0.0038845282175341603), (1802, 0.0038807309155858695), (1743, 0.0038782544273141973), (1178, 0.0038705383578272723), (1352, 0.003870272844566852), (1046, 0.0038699289626711255), (2933, 0.0038693420065047403), (2622, 0.0038656031099784122), (2855, 0.00386382269126006), (2204, 0.003862383507087003), (1971, 0.0038618902667815276), (3668, 0.003856526333677534), (1010, 0.0038536543038357497), (1845, 0.003852996065473224), (1910, 0.0038491412083694883), (639, 0.0038474007640726627), (175, 0.003847338538440734), (3674, 0.003846068933100225), (2076, 0.003842758425463814), (547, 0.0038414381003391454), (2627, 0.003834355620157873), (195, 0.0038296963052363853), (3658, 0.0038286711849352434), (3821, 0.0038210971653181236), (64, 0.0038160627956413872), (186, 0.0038102543043939978), (3928, 0.003805916384989566), (1981, 0.0038049935964393003), (3713, 0.0037987820684862207), (2481, 0.003794310388383743), (3430, 0.0037924980368152904), (3927, 0.0037924098718397645), (1221, 0.0037879784946935227), (2969, 0.0037789224695212124), (2563, 0.0037682532543200356), (88, 0.0037579796938859156), (3957, 0.003755504427108168), (1530, 0.0037313316553094105), (1369, 0.003729175693753441), (2526, 0.0037279077010045026), (1950, 0.0037216408070164693), (381, 0.0037213598911980434), (156, 0.003701321679800415), (237, 0.00369640794854745), (1377, 0.0036754076015828472), (3410, 0.0036664729267466382), (510, 0.003642006253472185), (2774, 0.003640830144376077), (3538, 0.003633022464932955), (294, 0.003627806501216998), (2078, 0.0036236370154602597), (1886, 0.0036214260473437254), (2734, 0.003621344861050045), (2377, 0.00361685359890415), (3362, 0.00360790695886595), (168, 0.0035809060864720847), (2326, 0.0035777226783895288), (3199, 0.0035283467484474368), (853, 0.003522807127486454), (106, 0.003507351801342266), (3316, 0.0035048255673547947), (3626, 0.003495609308776523), (3667, 0.0034834603563689546), (3356, 0.003436489670908552), (4373, 0.003429910924534264), (2636, 0.0034206842303992984), (3983, 0.0034134070881633683), (1277, 0.0034072055020616266), (3546, 0.0033993304722963326), (293, 0.0032396343072152232), (3365, 0.003213102270142059), (1, 0.0), (4, 0.0), (5, 0.0), (6, 0.0), (8, 0.0), (15, 0.0), (16, 0.0), (17, 0.0), (19, 0.0), (21, 0.0), (22, 0.0), (23, 0.0), (26, 0.0), (27, 0.0), (30, 0.0), (40, 0.0), (42, 0.0), (46, 0.0), (47, 0.0), (49, 0.0), (50, 0.0), (51, 0.0), (52, 0.0), (55, 0.0), (59, 0.0), (61, 0.0), (62, 0.0), (63, 0.0), (66, 0.0), (68, 0.0), (69, 0.0), (70, 0.0), (71, 0.0), (76, 0.0), (85, 0.0), (87, 0.0), (89, 0.0), (90, 0.0), (93, 0.0), (95, 0.0), (98, 0.0), (103, 0.0), (107, 0.0), (109, 0.0), (111, 0.0), (113, 0.0), (114, 0.0), (115, 0.0), (118, 0.0), (121, 0.0), (125, 0.0), (126, 0.0), (127, 0.0), (128, 0.0), (132, 0.0), (133, 0.0), (134, 0.0), (136, 0.0), (139, 0.0), (140, 0.0), (141, 0.0), (142, 0.0), (143, 0.0), (144, 0.0), (145, 0.0), (147, 0.0), (149, 0.0), (154, 0.0), (155, 0.0), (157, 0.0), (158, 0.0), (161, 0.0), (164, 0.0), (167, 0.0), (172, 0.0), (173, 0.0), (174, 0.0), (176, 0.0), (178, 0.0), (181, 0.0), (187, 0.0), (190, 0.0), (193, 0.0), (194, 0.0), (197, 0.0), (198, 0.0), (203, 0.0), (204, 0.0), (205, 0.0), (206, 0.0), (208, 0.0), (210, 0.0), (213, 0.0), (217, 0.0), (226, 0.0), (227, 0.0), (229, 0.0), (230, 0.0), (233, 0.0), (235, 0.0), (236, 0.0), (241, 0.0), (244, 0.0), (247, 0.0), (252, 0.0), (253, 0.0), (254, 0.0), (255, 0.0), (256, 0.0), (262, 0.0), (268, 0.0), (270, 0.0), (274, 0.0), (276, 0.0), (278, 0.0), (281, 0.0), (282, 0.0), (285, 0.0), (286, 0.0), (289, 0.0), (290, 0.0), (295, 0.0), (296, 0.0), (302, 0.0), (304, 0.0), (314, 0.0), (315, 0.0), (317, 0.0), (318, 0.0), (321, 0.0), (322, 0.0), (323, 0.0), (325, 0.0), (326, 0.0), (332, 0.0), (333, 0.0), (349, 0.0), (350, 0.0), (355, 0.0), (358, 0.0), (360, 0.0), (364, 0.0), (366, 0.0), (370, 0.0), (373, 0.0), (374, 0.0), (375, 0.0), (377, 0.0), (378, 0.0), (379, 0.0), (382, 0.0), (384, 0.0), (385, 0.0), (386, 0.0), (389, 0.0), (390, 0.0), (393, 0.0), (396, 0.0), (397, 0.0), (398, 0.0), (402, 0.0), (406, 0.0), (419, 0.0), (422, 0.0), (429, 0.0), (431, 0.0), (432, 0.0), (434, 0.0), (435, 0.0), (436, 0.0), (438, 0.0), (440, 0.0), (443, 0.0), (445, 0.0), (446, 0.0), (447, 0.0), (449, 0.0), (455, 0.0), (458, 0.0), (463, 0.0), (464, 0.0), (465, 0.0), (466, 0.0), (467, 0.0), (468, 0.0), (473, 0.0), (474, 0.0), (478, 0.0), (479, 0.0), (480, 0.0), (482, 0.0), (485, 0.0), (487, 0.0), (488, 0.0), (489, 0.0), (493, 0.0), (494, 0.0), (499, 0.0), (501, 0.0), (502, 0.0), (503, 0.0), (505, 0.0), (513, 0.0), (514, 0.0), (515, 0.0), (518, 0.0), (520, 0.0), (526, 0.0), (531, 0.0), (532, 0.0), (533, 0.0), (534, 0.0), (535, 0.0), (536, 0.0), (539, 0.0), (541, 0.0), (542, 0.0), (543, 0.0), (544, 0.0), (550, 0.0), (564, 0.0), (565, 0.0), (567, 0.0), (570, 0.0), (571, 0.0), (572, 0.0), (573, 0.0), (574, 0.0), (578, 0.0), (581, 0.0), (582, 0.0), (586, 0.0), (587, 0.0), (589, 0.0), (591, 0.0), (592, 0.0), (593, 0.0), (595, 0.0), (596, 0.0), (598, 0.0), (602, 0.0), (604, 0.0), (605, 0.0), (606, 0.0), (608, 0.0), (611, 0.0), (612, 0.0), (622, 0.0), (623, 0.0), (624, 0.0), (625, 0.0), (626, 0.0), (627, 0.0), (629, 0.0), (632, 0.0), (636, 0.0), (637, 0.0), (638, 0.0), (642, 0.0), (645, 0.0), (646, 0.0), (647, 0.0), (648, 0.0), (649, 0.0), (650, 0.0), (651, 0.0), (655, 0.0), (658, 0.0), (659, 0.0), (660, 0.0), (663, 0.0), (667, 0.0), (670, 0.0), (671, 0.0), (672, 0.0), (673, 0.0), (674, 0.0), (676, 0.0), (678, 0.0), (679, 0.0), (682, 0.0), (688, 0.0), (693, 0.0), (694, 0.0), (696, 0.0), (697, 0.0), (698, 0.0), (702, 0.0), (705, 0.0), (708, 0.0), (709, 0.0), (711, 0.0), (714, 0.0), (716, 0.0), (718, 0.0), (721, 0.0), (728, 0.0), (729, 0.0), (732, 0.0), (734, 0.0), (735, 0.0), (741, 0.0), (743, 0.0), (751, 0.0), (753, 0.0), (754, 0.0), (755, 0.0), (759, 0.0), (760, 0.0), (761, 0.0), (764, 0.0), (766, 0.0), (771, 0.0), (772, 0.0), (774, 0.0), (777, 0.0), (783, 0.0), (784, 0.0), (786, 0.0), (791, 0.0), (793, 0.0), (795, 0.0), (796, 0.0), (797, 0.0), (800, 0.0), (802, 0.0), (804, 0.0), (806, 0.0), (808, 0.0), (809, 0.0), (815, 0.0), (816, 0.0), (817, 0.0), (819, 0.0), (822, 0.0), (823, 0.0), (825, 0.0), (826, 0.0), (827, 0.0), (828, 0.0), (830, 0.0), (837, 0.0), (838, 0.0), (841, 0.0), (842, 0.0), (843, 0.0), (845, 0.0), (846, 0.0), (848, 0.0), (849, 0.0), (851, 0.0), (856, 0.0), (857, 0.0), (858, 0.0), (860, 0.0), (863, 0.0), (865, 0.0), (867, 0.0), (868, 0.0), (869, 0.0), (873, 0.0), (876, 0.0), (877, 0.0), (879, 0.0), (880, 0.0), (884, 0.0), (886, 0.0), (888, 0.0), (889, 0.0), (892, 0.0), (896, 0.0), (900, 0.0), (901, 0.0), (903, 0.0), (905, 0.0), (906, 0.0), (910, 0.0), (914, 0.0), (917, 0.0), (921, 0.0), (922, 0.0), (926, 0.0), (927, 0.0), (933, 0.0), (936, 0.0), (937, 0.0), (939, 0.0), (941, 0.0), (942, 0.0), (943, 0.0), (947, 0.0), (949, 0.0), (951, 0.0), (954, 0.0), (955, 0.0), (956, 0.0), (958, 0.0), (959, 0.0), (967, 0.0), (972, 0.0), (975, 0.0), (976, 0.0), (980, 0.0), (983, 0.0), (984, 0.0), (985, 0.0), (986, 0.0), (987, 0.0), (989, 0.0), (990, 0.0), (996, 0.0), (998, 0.0), (999, 0.0), (1012, 0.0), (1017, 0.0), (1019, 0.0), (1020, 0.0), (1021, 0.0), (1023, 0.0), (1024, 0.0), (1026, 0.0), (1027, 0.0), (1028, 0.0), (1030, 0.0), (1032, 0.0), (1034, 0.0), (1036, 0.0), (1037, 0.0), (1038, 0.0), (1040, 0.0), (1042, 0.0), (1045, 0.0), (1049, 0.0), (1050, 0.0), (1051, 0.0), (1053, 0.0), (1055, 0.0), (1058, 0.0), (1061, 0.0), (1062, 0.0), (1063, 0.0), (1064, 0.0), (1065, 0.0), (1069, 0.0), (1070, 0.0), (1072, 0.0), (1073, 0.0), (1075, 0.0), (1076, 0.0), (1078, 0.0), (1083, 0.0), (1086, 0.0), (1089, 0.0), (1091, 0.0), (1094, 0.0), (1096, 0.0), (1099, 0.0), (1100, 0.0), (1101, 0.0), (1103, 0.0), (1107, 0.0), (1112, 0.0), (1115, 0.0), (1117, 0.0), (1121, 0.0), (1122, 0.0), (1124, 0.0), (1125, 0.0), (1126, 0.0), (1127, 0.0), (1128, 0.0), (1133, 0.0), (1137, 0.0), (1138, 0.0), (1145, 0.0), (1147, 0.0), (1148, 0.0), (1149, 0.0), (1151, 0.0), (1152, 0.0), (1154, 0.0), (1156, 0.0), (1159, 0.0), (1160, 0.0), (1161, 0.0), (1162, 0.0), (1164, 0.0), (1169, 0.0), (1174, 0.0), (1175, 0.0), (1176, 0.0), (1180, 0.0), (1181, 0.0), (1183, 0.0), (1184, 0.0), (1187, 0.0), (1188, 0.0), (1190, 0.0), (1193, 0.0), (1199, 0.0), (1200, 0.0), (1201, 0.0), (1203, 0.0), (1209, 0.0), (1212, 0.0), (1213, 0.0), (1219, 0.0), (1224, 0.0), (1225, 0.0), (1226, 0.0), (1227, 0.0), (1228, 0.0), (1230, 0.0), (1231, 0.0), (1232, 0.0), (1236, 0.0), (1237, 0.0), (1240, 0.0), (1242, 0.0), (1243, 0.0), (1244, 0.0), (1245, 0.0), (1248, 0.0), (1249, 0.0), (1252, 0.0), (1255, 0.0), (1256, 0.0), (1258, 0.0), (1260, 0.0), (1261, 0.0), (1264, 0.0), (1269, 0.0), (1275, 0.0), (1276, 0.0), (1280, 0.0), (1281, 0.0), (1283, 0.0), (1284, 0.0), (1285, 0.0), (1286, 0.0), (1290, 0.0), (1292, 0.0), (1293, 0.0), (1302, 0.0), (1303, 0.0), (1309, 0.0), (1311, 0.0), (1313, 0.0), (1316, 0.0), (1317, 0.0), (1320, 0.0), (1323, 0.0), (1325, 0.0), (1326, 0.0), (1330, 0.0), (1331, 0.0), (1332, 0.0), (1335, 0.0), (1337, 0.0), (1339, 0.0), (1340, 0.0), (1344, 0.0), (1348, 0.0), (1350, 0.0), (1353, 0.0), (1355, 0.0), (1357, 0.0), (1359, 0.0), (1362, 0.0), (1366, 0.0), (1371, 0.0), (1372, 0.0), (1376, 0.0), (1379, 0.0), (1382, 0.0), (1383, 0.0), (1385, 0.0), (1386, 0.0), (1387, 0.0), (1388, 0.0), (1393, 0.0), (1397, 0.0), (1398, 0.0), (1399, 0.0), (1403, 0.0), (1405, 0.0), (1408, 0.0), (1409, 0.0), (1410, 0.0), (1414, 0.0), (1415, 0.0), (1417, 0.0), (1419, 0.0), (1424, 0.0), (1427, 0.0), (1429, 0.0), (1433, 0.0), (1434, 0.0), (1435, 0.0), (1437, 0.0), (1440, 0.0), (1441, 0.0), (1444, 0.0), (1445, 0.0), (1448, 0.0), (1450, 0.0), (1455, 0.0), (1457, 0.0), (1462, 0.0), (1470, 0.0), (1473, 0.0), (1475, 0.0), (1476, 0.0), (1478, 0.0), (1479, 0.0), (1481, 0.0), (1483, 0.0), (1484, 0.0), (1485, 0.0), (1488, 0.0), (1489, 0.0), (1490, 0.0), (1492, 0.0), (1497, 0.0), (1499, 0.0), (1504, 0.0), (1507, 0.0), (1508, 0.0), (1514, 0.0), (1518, 0.0), (1519, 0.0), (1528, 0.0), (1538, 0.0), (1540, 0.0), (1542, 0.0), (1544, 0.0), (1545, 0.0), (1547, 0.0), (1549, 0.0), (1550, 0.0), (1554, 0.0), (1563, 0.0), (1566, 0.0), (1569, 0.0), (1570, 0.0), (1572, 0.0), (1575, 0.0), (1576, 0.0), (1580, 0.0), (1582, 0.0), (1585, 0.0), (1589, 0.0), (1591, 0.0), (1592, 0.0), (1596, 0.0), (1599, 0.0), (1603, 0.0), (1605, 0.0), (1609, 0.0), (1611, 0.0), (1612, 0.0), (1616, 0.0), (1618, 0.0), (1621, 0.0), (1624, 0.0), (1625, 0.0), (1628, 0.0), (1629, 0.0), (1637, 0.0), (1638, 0.0), (1639, 0.0), (1641, 0.0), (1644, 0.0), (1646, 0.0), (1651, 0.0), (1652, 0.0), (1654, 0.0), (1655, 0.0), (1656, 0.0), (1657, 0.0), (1658, 0.0), (1659, 0.0), (1665, 0.0), (1671, 0.0), (1672, 0.0), (1673, 0.0), (1674, 0.0), (1677, 0.0), (1680, 0.0), (1685, 0.0), (1686, 0.0), (1693, 0.0), (1694, 0.0), (1696, 0.0), (1703, 0.0), (1705, 0.0), (1708, 0.0), (1712, 0.0), (1715, 0.0), (1717, 0.0), (1721, 0.0), (1722, 0.0), (1728, 0.0), (1730, 0.0), (1732, 0.0), (1734, 0.0), (1735, 0.0), (1736, 0.0), (1737, 0.0), (1739, 0.0), (1740, 0.0), (1741, 0.0), (1748, 0.0), (1749, 0.0), (1752, 0.0), (1757, 0.0), (1759, 0.0), (1761, 0.0), (1763, 0.0), (1765, 0.0), (1767, 0.0), (1770, 0.0), (1774, 0.0), (1777, 0.0), (1779, 0.0), (1780, 0.0), (1785, 0.0), (1786, 0.0), (1789, 0.0), (1790, 0.0), (1791, 0.0), (1796, 0.0), (1797, 0.0), (1801, 0.0), (1803, 0.0), (1806, 0.0), (1811, 0.0), (1814, 0.0), (1815, 0.0), (1822, 0.0), (1826, 0.0), (1829, 0.0), (1832, 0.0), (1833, 0.0), (1834, 0.0), (1836, 0.0), (1846, 0.0), (1847, 0.0), (1848, 0.0), (1853, 0.0), (1855, 0.0), (1856, 0.0), (1862, 0.0), (1865, 0.0), (1866, 0.0), (1867, 0.0), (1868, 0.0), (1869, 0.0), (1870, 0.0), (1872, 0.0), (1874, 0.0), (1879, 0.0), (1880, 0.0), (1884, 0.0), (1885, 0.0), (1890, 0.0), (1892, 0.0), (1894, 0.0), (1897, 0.0), (1900, 0.0), (1902, 0.0), (1905, 0.0), (1906, 0.0), (1909, 0.0), (1912, 0.0), (1917, 0.0), (1922, 0.0), (1923, 0.0), (1924, 0.0), (1934, 0.0), (1937, 0.0), (1938, 0.0), (1939, 0.0), (1941, 0.0), (1942, 0.0), (1944, 0.0), (1945, 0.0), (1946, 0.0), (1947, 0.0), (1949, 0.0), (1956, 0.0), (1959, 0.0), (1960, 0.0), (1963, 0.0), (1965, 0.0), (1967, 0.0), (1972, 0.0), (1974, 0.0), (1976, 0.0), (1977, 0.0), (1978, 0.0), (1980, 0.0), (1983, 0.0), (1989, 0.0), (1995, 0.0), (2001, 0.0), (2002, 0.0), (2007, 0.0), (2009, 0.0), (2010, 0.0), (2011, 0.0), (2018, 0.0), (2024, 0.0), (2025, 0.0), (2026, 0.0), (2028, 0.0), (2033, 0.0), (2034, 0.0), (2035, 0.0), (2038, 0.0), (2039, 0.0), (2040, 0.0), (2042, 0.0), (2044, 0.0), (2048, 0.0), (2051, 0.0), (2054, 0.0), (2060, 0.0), (2063, 0.0), (2067, 0.0), (2068, 0.0), (2069, 0.0), (2075, 0.0), (2077, 0.0), (2080, 0.0), (2081, 0.0), (2083, 0.0), (2084, 0.0), (2085, 0.0), (2088, 0.0), (2089, 0.0), (2090, 0.0), (2091, 0.0), (2093, 0.0), (2096, 0.0), (2097, 0.0), (2098, 0.0), (2104, 0.0), (2105, 0.0), (2106, 0.0), (2108, 0.0), (2113, 0.0), (2116, 0.0), (2120, 0.0), (2121, 0.0), (2122, 0.0), (2129, 0.0), (2130, 0.0), (2132, 0.0), (2133, 0.0), (2134, 0.0), (2137, 0.0), (2138, 0.0), (2140, 0.0), (2141, 0.0), (2142, 0.0), (2144, 0.0), (2146, 0.0), (2148, 0.0), (2149, 0.0), (2151, 0.0), (2155, 0.0), (2157, 0.0), (2159, 0.0), (2162, 0.0), (2163, 0.0), (2164, 0.0), (2165, 0.0), (2166, 0.0), (2168, 0.0), (2170, 0.0), (2172, 0.0), (2173, 0.0), (2181, 0.0), (2185, 0.0), (2186, 0.0), (2187, 0.0), (2188, 0.0), (2189, 0.0), (2190, 0.0), (2191, 0.0), (2192, 0.0), (2197, 0.0), (2200, 0.0), (2202, 0.0), (2203, 0.0), (2206, 0.0), (2208, 0.0), (2209, 0.0), (2212, 0.0), (2213, 0.0), (2216, 0.0), (2217, 0.0), (2219, 0.0), (2220, 0.0), (2225, 0.0), (2226, 0.0), (2228, 0.0), (2230, 0.0), (2231, 0.0), (2238, 0.0), (2240, 0.0), (2242, 0.0), (2243, 0.0), (2244, 0.0), (2247, 0.0), (2248, 0.0), (2249, 0.0), (2251, 0.0), (2253, 0.0), (2254, 0.0), (2256, 0.0), (2258, 0.0), (2264, 0.0), (2266, 0.0), (2270, 0.0), (2271, 0.0), (2274, 0.0), (2275, 0.0), (2276, 0.0), (2279, 0.0), (2280, 0.0), (2282, 0.0), (2286, 0.0), (2288, 0.0), (2289, 0.0), (2292, 0.0), (2293, 0.0), (2297, 0.0), (2298, 0.0), (2299, 0.0), (2300, 0.0), (2302, 0.0), (2304, 0.0), (2305, 0.0), (2306, 0.0), (2307, 0.0), (2308, 0.0), (2309, 0.0), (2310, 0.0), (2312, 0.0), (2313, 0.0), (2315, 0.0), (2321, 0.0), (2323, 0.0), (2324, 0.0), (2325, 0.0), (2328, 0.0), (2333, 0.0), (2336, 0.0), (2341, 0.0), (2342, 0.0), (2343, 0.0), (2344, 0.0), (2345, 0.0), (2346, 0.0), (2347, 0.0), (2348, 0.0), (2349, 0.0), (2350, 0.0), (2354, 0.0), (2355, 0.0), (2356, 0.0), (2359, 0.0), (2361, 0.0), (2366, 0.0), (2368, 0.0), (2370, 0.0), (2374, 0.0), (2375, 0.0), (2378, 0.0), (2380, 0.0), (2383, 0.0), (2384, 0.0), (2385, 0.0), (2386, 0.0), (2388, 0.0), (2391, 0.0), (2392, 0.0), (2394, 0.0), (2395, 0.0), (2396, 0.0), (2397, 0.0), (2402, 0.0), (2403, 0.0), (2404, 0.0), (2405, 0.0), (2407, 0.0), (2410, 0.0), (2411, 0.0), (2415, 0.0), (2417, 0.0), (2420, 0.0), (2424, 0.0), (2425, 0.0), (2426, 0.0), (2428, 0.0), (2429, 0.0), (2434, 0.0), (2437, 0.0), (2438, 0.0), (2441, 0.0), (2445, 0.0), (2453, 0.0), (2454, 0.0), (2455, 0.0), (2459, 0.0), (2460, 0.0), (2464, 0.0), (2465, 0.0), (2468, 0.0), (2469, 0.0), (2471, 0.0), (2472, 0.0), (2475, 0.0), (2476, 0.0), (2477, 0.0), (2478, 0.0), (2479, 0.0), (2483, 0.0), (2488, 0.0), (2489, 0.0), (2490, 0.0), (2495, 0.0), (2499, 0.0), (2500, 0.0), (2502, 0.0), (2505, 0.0), (2506, 0.0), (2508, 0.0), (2512, 0.0), (2515, 0.0), (2519, 0.0), (2520, 0.0), (2523, 0.0), (2524, 0.0), (2529, 0.0), (2533, 0.0), (2535, 0.0), (2536, 0.0), (2537, 0.0), (2540, 0.0), (2542, 0.0), (2543, 0.0), (2544, 0.0), (2545, 0.0), (2548, 0.0), (2551, 0.0), (2556, 0.0), (2557, 0.0), (2558, 0.0), (2559, 0.0), (2561, 0.0), (2566, 0.0), (2567, 0.0), (2569, 0.0), (2570, 0.0), (2572, 0.0), (2575, 0.0), (2576, 0.0), (2578, 0.0), (2580, 0.0), (2585, 0.0), (2586, 0.0), (2588, 0.0), (2589, 0.0), (2594, 0.0), (2595, 0.0), (2597, 0.0), (2598, 0.0), (2600, 0.0), (2601, 0.0), (2602, 0.0), (2607, 0.0), (2613, 0.0), (2619, 0.0), (2620, 0.0), (2621, 0.0), (2623, 0.0), (2624, 0.0), (2628, 0.0), (2629, 0.0), (2634, 0.0), (2635, 0.0), (2639, 0.0), (2648, 0.0), (2649, 0.0), (2651, 0.0), (2653, 0.0), (2655, 0.0), (2657, 0.0), (2658, 0.0), (2659, 0.0), (2661, 0.0), (2662, 0.0), (2663, 0.0), (2664, 0.0), (2667, 0.0), (2669, 0.0), (2671, 0.0), (2674, 0.0), (2676, 0.0), (2677, 0.0), (2679, 0.0), (2681, 0.0), (2684, 0.0), (2687, 0.0), (2692, 0.0), (2694, 0.0), (2695, 0.0), (2696, 0.0), (2699, 0.0), (2700, 0.0), (2701, 0.0), (2702, 0.0), (2703, 0.0), (2705, 0.0), (2707, 0.0), (2709, 0.0), (2715, 0.0), (2716, 0.0), (2718, 0.0), (2722, 0.0), (2723, 0.0), (2726, 0.0), (2727, 0.0), (2728, 0.0), (2731, 0.0), (2735, 0.0), (2737, 0.0), (2742, 0.0), (2743, 0.0), (2744, 0.0), (2745, 0.0), (2747, 0.0), (2748, 0.0), (2750, 0.0), (2751, 0.0), (2753, 0.0), (2754, 0.0), (2757, 0.0), (2760, 0.0), (2762, 0.0), (2764, 0.0), (2767, 0.0), (2768, 0.0), (2771, 0.0), (2775, 0.0), (2776, 0.0), (2778, 0.0), (2780, 0.0), (2783, 0.0), (2786, 0.0), (2787, 0.0), (2794, 0.0), (2795, 0.0), (2796, 0.0), (2797, 0.0), (2800, 0.0), (2803, 0.0), (2804, 0.0), (2811, 0.0), (2815, 0.0), (2820, 0.0), (2821, 0.0), (2822, 0.0), (2823, 0.0), (2825, 0.0), (2826, 0.0), (2833, 0.0), (2836, 0.0), (2838, 0.0), (2843, 0.0), (2845, 0.0), (2846, 0.0), (2847, 0.0), (2848, 0.0), (2849, 0.0), (2850, 0.0), (2852, 0.0), (2853, 0.0), (2857, 0.0), (2858, 0.0), (2860, 0.0), (2861, 0.0), (2863, 0.0), (2864, 0.0), (2866, 0.0), (2868, 0.0), (2869, 0.0), (2870, 0.0), (2872, 0.0), (2875, 0.0), (2876, 0.0), (2877, 0.0), (2879, 0.0), (2880, 0.0), (2881, 0.0), (2882, 0.0), (2883, 0.0), (2884, 0.0), (2886, 0.0), (2888, 0.0), (2889, 0.0), (2890, 0.0), (2891, 0.0), (2893, 0.0), (2894, 0.0), (2895, 0.0), (2898, 0.0), (2902, 0.0), (2904, 0.0), (2905, 0.0), (2907, 0.0), (2908, 0.0), (2912, 0.0), (2913, 0.0), (2914, 0.0), (2915, 0.0), (2917, 0.0), (2918, 0.0), (2919, 0.0), (2922, 0.0), (2924, 0.0), (2925, 0.0), (2926, 0.0), (2928, 0.0), (2930, 0.0), (2932, 0.0), (2934, 0.0), (2935, 0.0), (2936, 0.0), (2937, 0.0), (2939, 0.0), (2941, 0.0), (2943, 0.0), (2945, 0.0), (2946, 0.0), (2947, 0.0), (2950, 0.0), (2953, 0.0), (2955, 0.0), (2956, 0.0), (2957, 0.0), (2958, 0.0), (2959, 0.0), (2960, 0.0), (2961, 0.0), (2965, 0.0), (2967, 0.0), (2968, 0.0), (2970, 0.0), (2971, 0.0), (2974, 0.0), (2978, 0.0), (2983, 0.0), (2986, 0.0), (2987, 0.0), (2988, 0.0), (2989, 0.0), (2990, 0.0), (2993, 0.0), (2994, 0.0), (2995, 0.0), (2997, 0.0), (2999, 0.0), (3000, 0.0), (3004, 0.0), (3006, 0.0), (3007, 0.0), (3008, 0.0), (3009, 0.0), (3012, 0.0), (3013, 0.0), (3014, 0.0), (3015, 0.0), (3016, 0.0), (3017, 0.0), (3019, 0.0), (3020, 0.0), (3025, 0.0), (3026, 0.0), (3029, 0.0), (3030, 0.0), (3031, 0.0), (3032, 0.0), (3034, 0.0), (3035, 0.0), (3036, 0.0), (3037, 0.0), (3038, 0.0), (3040, 0.0), (3041, 0.0), (3042, 0.0), (3043, 0.0), (3044, 0.0), (3045, 0.0), (3049, 0.0), (3050, 0.0), (3051, 0.0), (3052, 0.0), (3054, 0.0), (3055, 0.0), (3056, 0.0), (3059, 0.0), (3061, 0.0), (3062, 0.0), (3063, 0.0), (3064, 0.0), (3065, 0.0), (3070, 0.0), (3072, 0.0), (3074, 0.0), (3075, 0.0), (3076, 0.0), (3079, 0.0), (3082, 0.0), (3087, 0.0), (3088, 0.0), (3093, 0.0), (3094, 0.0), (3095, 0.0), (3098, 0.0), (3099, 0.0), (3100, 0.0), (3101, 0.0), (3102, 0.0), (3104, 0.0), (3106, 0.0), (3109, 0.0), (3110, 0.0), (3113, 0.0), (3115, 0.0), (3117, 0.0), (3119, 0.0), (3120, 0.0), (3123, 0.0), (3128, 0.0), (3132, 0.0), (3134, 0.0), (3135, 0.0), (3136, 0.0), (3139, 0.0), (3140, 0.0), (3143, 0.0), (3147, 0.0), (3148, 0.0), (3153, 0.0), (3154, 0.0), (3155, 0.0), (3156, 0.0), (3158, 0.0), (3159, 0.0), (3162, 0.0), (3163, 0.0), (3165, 0.0), (3166, 0.0), (3167, 0.0), (3168, 0.0), (3170, 0.0), (3171, 0.0), (3173, 0.0), (3175, 0.0), (3176, 0.0), (3177, 0.0), (3178, 0.0), (3180, 0.0), (3182, 0.0), (3184, 0.0), (3185, 0.0), (3186, 0.0), (3188, 0.0), (3190, 0.0), (3192, 0.0), (3194, 0.0), (3196, 0.0), (3198, 0.0), (3202, 0.0), (3203, 0.0), (3206, 0.0), (3207, 0.0), (3210, 0.0), (3213, 0.0), (3214, 0.0), (3215, 0.0), (3216, 0.0), (3217, 0.0), (3220, 0.0), (3223, 0.0), (3224, 0.0), (3225, 0.0), (3227, 0.0), (3232, 0.0), (3239, 0.0), (3241, 0.0), (3242, 0.0), (3243, 0.0), (3247, 0.0), (3248, 0.0), (3249, 0.0), (3251, 0.0), (3253, 0.0), (3254, 0.0), (3255, 0.0), (3257, 0.0), (3258, 0.0), (3261, 0.0), (3262, 0.0), (3263, 0.0), (3266, 0.0), (3267, 0.0), (3268, 0.0), (3269, 0.0), (3273, 0.0), (3274, 0.0), (3275, 0.0), (3276, 0.0), (3282, 0.0), (3289, 0.0), (3290, 0.0), (3291, 0.0), (3292, 0.0), (3296, 0.0), (3298, 0.0), (3300, 0.0), (3301, 0.0), (3302, 0.0), (3305, 0.0), (3307, 0.0), (3308, 0.0), (3309, 0.0), (3310, 0.0), (3314, 0.0), (3315, 0.0), (3318, 0.0), (3319, 0.0), (3322, 0.0), (3323, 0.0), (3324, 0.0), (3325, 0.0), (3326, 0.0), (3329, 0.0), (3331, 0.0), (3333, 0.0), (3337, 0.0), (3339, 0.0), (3340, 0.0), (3341, 0.0), (3346, 0.0), (3347, 0.0), (3348, 0.0), (3349, 0.0), (3351, 0.0), (3352, 0.0), (3353, 0.0), (3354, 0.0), (3355, 0.0), (3358, 0.0), (3359, 0.0), (3369, 0.0), (3371, 0.0), (3372, 0.0), (3373, 0.0), (3375, 0.0), (3377, 0.0), (3380, 0.0), (3382, 0.0), (3383, 0.0), (3387, 0.0), (3391, 0.0), (3396, 0.0), (3400, 0.0), (3402, 0.0), (3404, 0.0), (3405, 0.0), (3406, 0.0), (3413, 0.0), (3415, 0.0), (3416, 0.0), (3417, 0.0), (3418, 0.0), (3419, 0.0), (3421, 0.0), (3422, 0.0), (3423, 0.0), (3425, 0.0), (3426, 0.0), (3427, 0.0), (3428, 0.0), (3429, 0.0), (3431, 0.0), (3432, 0.0), (3434, 0.0), (3441, 0.0), (3442, 0.0), (3443, 0.0), (3449, 0.0), (3451, 0.0), (3452, 0.0), (3453, 0.0), (3455, 0.0), (3460, 0.0), (3462, 0.0), (3466, 0.0), (3467, 0.0), (3468, 0.0), (3475, 0.0), (3478, 0.0), (3479, 0.0), (3483, 0.0), (3486, 0.0), (3490, 0.0), (3493, 0.0), (3494, 0.0), (3496, 0.0), (3497, 0.0), (3498, 0.0), (3499, 0.0), (3500, 0.0), (3501, 0.0), (3506, 0.0), (3508, 0.0), (3509, 0.0), (3510, 0.0), (3511, 0.0), (3512, 0.0), (3513, 0.0), (3514, 0.0), (3517, 0.0), (3519, 0.0), (3521, 0.0), (3523, 0.0), (3525, 0.0), (3527, 0.0), (3529, 0.0), (3531, 0.0), (3534, 0.0), (3537, 0.0), (3541, 0.0), (3542, 0.0), (3543, 0.0), (3544, 0.0), (3552, 0.0), (3553, 0.0), (3555, 0.0), (3556, 0.0), (3558, 0.0), (3559, 0.0), (3560, 0.0), (3561, 0.0), (3565, 0.0), (3569, 0.0), (3570, 0.0), (3571, 0.0), (3572, 0.0), (3573, 0.0), (3575, 0.0), (3582, 0.0), (3585, 0.0), (3588, 0.0), (3589, 0.0), (3590, 0.0), (3591, 0.0), (3592, 0.0), (3595, 0.0), (3596, 0.0), (3597, 0.0), (3600, 0.0), (3601, 0.0), (3602, 0.0), (3603, 0.0), (3604, 0.0), (3605, 0.0), (3611, 0.0), (3614, 0.0), (3615, 0.0), (3617, 0.0), (3621, 0.0), (3622, 0.0), (3623, 0.0), (3624, 0.0), (3625, 0.0), (3627, 0.0), (3629, 0.0), (3630, 0.0), (3634, 0.0), (3635, 0.0), (3636, 0.0), (3640, 0.0), (3642, 0.0), (3647, 0.0), (3649, 0.0), (3652, 0.0), (3657, 0.0), (3659, 0.0), (3660, 0.0), (3662, 0.0), (3663, 0.0), (3669, 0.0), (3670, 0.0), (3672, 0.0), (3675, 0.0), (3676, 0.0), (3679, 0.0), (3680, 0.0), (3683, 0.0), (3686, 0.0), (3687, 0.0), (3693, 0.0), (3694, 0.0), (3697, 0.0), (3699, 0.0), (3700, 0.0), (3703, 0.0), (3705, 0.0), (3706, 0.0), (3707, 0.0), (3708, 0.0), (3710, 0.0), (3714, 0.0), (3715, 0.0), (3717, 0.0), (3719, 0.0), (3721, 0.0), (3723, 0.0), (3725, 0.0), (3727, 0.0), (3729, 0.0), (3732, 0.0), (3733, 0.0), (3737, 0.0), (3740, 0.0), (3742, 0.0), (3744, 0.0), (3745, 0.0), (3749, 0.0), (3750, 0.0), (3755, 0.0), (3756, 0.0), (3757, 0.0), (3759, 0.0), (3760, 0.0), (3761, 0.0), (3762, 0.0), (3764, 0.0), (3766, 0.0), (3767, 0.0), (3770, 0.0), (3771, 0.0), (3772, 0.0), (3773, 0.0), (3774, 0.0), (3775, 0.0), (3779, 0.0), (3781, 0.0), (3782, 0.0), (3787, 0.0), (3791, 0.0), (3792, 0.0), (3794, 0.0), (3795, 0.0), (3797, 0.0), (3798, 0.0), (3799, 0.0), (3800, 0.0), (3804, 0.0), (3806, 0.0), (3808, 0.0), (3814, 0.0), (3820, 0.0), (3827, 0.0), (3828, 0.0), (3829, 0.0), (3830, 0.0), (3832, 0.0), (3834, 0.0), (3835, 0.0), (3837, 0.0), (3838, 0.0), (3839, 0.0), (3840, 0.0), (3845, 0.0), (3848, 0.0), (3849, 0.0), (3850, 0.0), (3851, 0.0), (3856, 0.0), (3860, 0.0), (3861, 0.0), (3862, 0.0), (3863, 0.0), (3864, 0.0), (3867, 0.0), (3873, 0.0), (3874, 0.0), (3876, 0.0), (3879, 0.0), (3880, 0.0), (3882, 0.0), (3883, 0.0), (3884, 0.0), (3885, 0.0), (3887, 0.0), (3888, 0.0), (3889, 0.0), (3893, 0.0), (3895, 0.0), (3896, 0.0), (3898, 0.0), (3899, 0.0), (3900, 0.0), (3902, 0.0), (3904, 0.0), (3905, 0.0), (3906, 0.0), (3908, 0.0), (3911, 0.0), (3913, 0.0), (3915, 0.0), (3918, 0.0), (3922, 0.0), (3925, 0.0), (3929, 0.0), (3931, 0.0), (3933, 0.0), (3934, 0.0), (3935, 0.0), (3937, 0.0), (3939, 0.0), (3941, 0.0), (3945, 0.0), (3946, 0.0), (3947, 0.0), (3949, 0.0), (3950, 0.0), (3952, 0.0), (3953, 0.0), (3954, 0.0), (3956, 0.0), (3958, 0.0), (3961, 0.0), (3962, 0.0), (3964, 0.0), (3967, 0.0), (3972, 0.0), (3973, 0.0), (3974, 0.0), (3976, 0.0), (3978, 0.0), (3979, 0.0), (3981, 0.0), (3982, 0.0), (3984, 0.0), (3987, 0.0), (3988, 0.0), (3992, 0.0), (3993, 0.0), (3996, 0.0), (3997, 0.0), (3999, 0.0), (4000, 0.0), (4003, 0.0), (4004, 0.0), (4005, 0.0), (4014, 0.0), (4016, 0.0), (4017, 0.0), (4018, 0.0), (4019, 0.0), (4022, 0.0), (4023, 0.0), (4024, 0.0), (4026, 0.0), (4027, 0.0), (4030, 0.0), (4033, 0.0), (4035, 0.0), (4036, 0.0), (4042, 0.0), (4043, 0.0), (4045, 0.0), (4046, 0.0), (4047, 0.0), (4048, 0.0), (4049, 0.0), (4050, 0.0), (4051, 0.0), (4052, 0.0), (4053, 0.0), (4056, 0.0), (4058, 0.0), (4060, 0.0), (4065, 0.0), (4067, 0.0), (4069, 0.0), (4072, 0.0), (4073, 0.0), (4075, 0.0), (4079, 0.0), (4080, 0.0), (4081, 0.0), (4082, 0.0), (4083, 0.0), (4084, 0.0), (4087, 0.0), (4088, 0.0), (4089, 0.0), (4092, 0.0), (4093, 0.0), (4094, 0.0), (4095, 0.0), (4096, 0.0), (4097, 0.0), (4098, 0.0), (4100, 0.0), (4101, 0.0), (4102, 0.0), (4103, 0.0), (4104, 0.0), (4107, 0.0), (4111, 0.0), (4113, 0.0), (4115, 0.0), (4116, 0.0), (4117, 0.0), (4122, 0.0), (4125, 0.0), (4126, 0.0), (4127, 0.0), (4128, 0.0), (4129, 0.0), (4130, 0.0), (4131, 0.0), (4138, 0.0), (4139, 0.0), (4141, 0.0), (4142, 0.0), (4144, 0.0), (4145, 0.0), (4147, 0.0), (4148, 0.0), (4151, 0.0), (4153, 0.0), (4161, 0.0), (4162, 0.0), (4163, 0.0), (4164, 0.0), (4166, 0.0), (4169, 0.0), (4170, 0.0), (4175, 0.0), (4177, 0.0), (4178, 0.0), (4179, 0.0), (4181, 0.0), (4182, 0.0), (4183, 0.0), (4184, 0.0), (4185, 0.0), (4186, 0.0), (4187, 0.0), (4197, 0.0), (4198, 0.0), (4202, 0.0), (4204, 0.0), (4206, 0.0), (4208, 0.0), (4209, 0.0), (4211, 0.0), (4212, 0.0), (4213, 0.0), (4214, 0.0), (4216, 0.0), (4219, 0.0), (4220, 0.0), (4221, 0.0), (4222, 0.0), (4223, 0.0), (4224, 0.0), (4225, 0.0), (4228, 0.0), (4229, 0.0), (4230, 0.0), (4231, 0.0), (4232, 0.0), (4233, 0.0), (4234, 0.0), (4235, 0.0), (4238, 0.0), (4243, 0.0), (4244, 0.0), (4245, 0.0), (4246, 0.0), (4247, 0.0), (4248, 0.0), (4249, 0.0), (4250, 0.0), (4253, 0.0), (4254, 0.0), (4255, 0.0), (4256, 0.0), (4260, 0.0), (4261, 0.0), (4263, 0.0), (4264, 0.0), (4266, 0.0), (4268, 0.0), (4273, 0.0), (4274, 0.0), (4275, 0.0), (4276, 0.0), (4277, 0.0), (4280, 0.0), (4285, 0.0), (4286, 0.0), (4288, 0.0), (4289, 0.0), (4291, 0.0), (4294, 0.0), (4295, 0.0), (4296, 0.0), (4298, 0.0), (4299, 0.0), (4301, 0.0), (4304, 0.0), (4305, 0.0), (4306, 0.0), (4307, 0.0), (4308, 0.0), (4309, 0.0), (4310, 0.0), (4311, 0.0), (4313, 0.0), (4315, 0.0), (4317, 0.0), (4318, 0.0), (4319, 0.0), (4320, 0.0), (4321, 0.0), (4322, 0.0), (4323, 0.0), (4324, 0.0), (4325, 0.0), (4326, 0.0), (4327, 0.0), (4333, 0.0), (4335, 0.0), (4336, 0.0), (4343, 0.0), (4345, 0.0), (4349, 0.0), (4350, 0.0), (4354, 0.0), (4355, 0.0), (4357, 0.0), (4361, 0.0), (4365, 0.0), (4367, 0.0), (4369, 0.0), (4372, 0.0), (4375, 0.0), (4378, 0.0), (4381, 0.0), (4382, 0.0), (4383, 0.0), (4384, 0.0), (4386, 0.0), (4390, 0.0), (4391, 0.0), (4393, 0.0), (4398, 0.0), (4400, 0.0), (4403, 0.0), (4407, 0.0), (4408, 0.0), (4409, 0.0), (4410, 0.0), (4411, 0.0), (4413, 0.0), (4415, 0.0), (4416, 0.0), (4417, 0.0), (4418, 0.0), (4419, 0.0), (4420, 0.0), (4421, 0.0), (4422, 0.0), (4423, 0.0), (4424, 0.0), (4425, 0.0), (4429, 0.0), (4430, 0.0), (4432, 0.0), (4433, 0.0), (4435, 0.0), (4437, 0.0), (4439, 0.0), (4440, 0.0), (4443, 0.0), (4445, 0.0), (4446, 0.0), (4452, 0.0), (4453, 0.0), (4456, 0.0), (4458, 0.0), (4461, 0.0), (4463, 0.0), (4464, 0.0), (4465, 0.0), (4466, 0.0), (4468, 0.0), (4469, 0.0), (4470, 0.0), (4471, 0.0), (4474, 0.0), (4475, 0.0), (4476, 0.0), (4479, 0.0), (4480, 0.0), (4484, 0.0), (4485, 0.0), (4487, 0.0), (4489, 0.0), (4490, 0.0), (4491, 0.0), (4493, 0.0), (4494, 0.0), (4497, 0.0), (4498, 0.0), (4499, 0.0), (4502, 0.0), (4505, 0.0), (4507, 0.0), (4508, 0.0), (4509, 0.0), (4510, 0.0), (4512, 0.0), (4514, 0.0), (4519, 0.0), (4520, 0.0), (4521, 0.0), (4522, 0.0), (4528, 0.0), (4529, 0.0), (4530, 0.0), (4533, 0.0), (4535, 0.0), (4536, 0.0), (4540, 0.0), (4543, 0.0), (4544, 0.0), (4545, 0.0), (4547, 0.0), (4553, 0.0), (4554, 0.0), (4555, 0.0), (4556, 0.0), (4557, 0.0), (4558, 0.0), (4560, 0.0), (4561, 0.0), (4562, 0.0), (4563, 0.0), (4566, 0.0), (4567, 0.0), (4571, 0.0), (4572, 0.0), (4573, 0.0), (4575, 0.0), (4577, 0.0), (4578, 0.0), (4579, 0.0), (4580, 0.0), (4584, 0.0), (4586, 0.0), (4587, 0.0), (4588, 0.0), (4591, 0.0), (4597, 0.0), (4602, 0.0), (4603, 0.0), (4605, 0.0), (4606, 0.0), (4608, 0.0), (4610, 0.0), (4611, 0.0), (4616, 0.0), (4617, 0.0), (4620, 0.0), (4622, 0.0), (4625, 0.0), (4627, 0.0), (4628, 0.0), (4631, 0.0), (4632, 0.0), (4633, 0.0), (4636, 0.0), (4637, 0.0), (4638, 0.0), (4640, 0.0), (4642, 0.0), (4644, 0.0), (4648, 0.0), (4650, 0.0), (4651, 0.0), (4653, 0.0), (4655, 0.0), (4656, 0.0), (4657, 0.0), (4661, 0.0), (4663, 0.0), (4666, 0.0), (4669, 0.0), (4670, 0.0), (4671, 0.0), (4673, 0.0), (4676, 0.0), (4677, 0.0), (4678, 0.0), (4680, 0.0), (4681, 0.0), (4684, 0.0), (4688, 0.0), (4690, 0.0), (4691, 0.0), (4692, 0.0), (4693, 0.0), (4694, 0.0), (4696, 0.0), (4700, 0.0), (4702, 0.0), (4703, 0.0), (4704, 0.0), (4705, 0.0), (4706, 0.0), (4707, 0.0), (4709, 0.0), (4710, 0.0), (4712, 0.0), (4713, 0.0), (4714, 0.0), (4715, 0.0), (4717, 0.0), (4719, 0.0), (4721, 0.0), (4722, 0.0), (4723, 0.0), (4724, 0.0), (4725, 0.0), (4727, 0.0), (4728, 0.0), (4729, 0.0), (4731, 0.0), (4733, 0.0), (4734, 0.0), (4735, 0.0), (4736, 0.0), (4738, 0.0), (4739, 0.0), (4742, 0.0), (4743, 0.0), (4744, 0.0), (4745, 0.0), (4747, 0.0), (4749, 0.0), (4753, 0.0), (4757, 0.0), (4759, 0.0)]\n"
          ]
        }
      ]
    },
    {
      "cell_type": "code",
      "source": [
        "print(\"Top 30 Movies Suggested for you \\n\")\n",
        "\n",
        "i = 0\n",
        "for movie in Sorted_Similar_Movie:\n",
        "    index = movie[0]\n",
        "    title_from_index = dataframe[dataframe.index == index]['Movie_Title'].values[0]\n",
        "    if i <= 30:\n",
        "        print(i, '.', title_from_index);\n",
        "        i+=1\n"
      ],
      "metadata": {
        "colab": {
          "base_uri": "https://localhost:8080/"
        },
        "id": "tiIjzqecPce2",
        "outputId": "a938231e-78e1-4e7f-f70c-7e1c02d20706"
      },
      "execution_count": null,
      "outputs": [
        {
          "output_type": "stream",
          "name": "stdout",
          "text": [
            "Top 30 Movies Suggested for you \n",
            "\n",
            "0 . The Wicked Within\n",
            "1 . Y tu mamá también\n",
            "2 . Dark Shadows\n",
            "3 . The Time Machine\n",
            "4 . Eragon\n",
            "5 . Bled\n",
            "6 . Resident Evil: Apocalypse\n",
            "7 . The Fourth Kind\n",
            "8 . Inkheart\n",
            "9 . Resident Evil: Retribution\n",
            "10 . Star Wars: Episode I - The Phantom Menace\n",
            "11 . The Claim\n",
            "12 . Twin Falls Idaho\n",
            "13 . Paddington\n",
            "14 . Gunless\n",
            "15 . Running Forever\n",
            "16 . Teeth\n",
            "17 . Wah-Wah\n",
            "18 . The Order\n",
            "19 . Thir13en Ghosts\n",
            "20 . The Ninth Gate\n",
            "21 . History of the World: Part I\n",
            "22 . The Gallows\n",
            "23 . The Prince of Tides\n",
            "24 . The Lucky One\n",
            "25 . My Dog Skip\n",
            "26 . Dirty Pretty Things\n",
            "27 . Black Rock\n",
            "28 . Quarantine\n",
            "29 . Slam\n",
            "30 . Legends of Oz: Dorothy's Return\n"
          ]
        }
      ]
    },
    {
      "cell_type": "markdown",
      "source": [
        "## **Top 10 Movie Recommendation System**"
      ],
      "metadata": {
        "id": "p12qaXvc-3Nt"
      }
    },
    {
      "cell_type": "code",
      "source": [
        "Movie_Name = input(\"Enter your favourite movie name : \")\n",
        "\n",
        "list_of_all_titles = dataframe['Movie_Title'].to_list()\n",
        "\n",
        "Find_Close_Match = difflib.get_close_matches(Movie_Name, list_of_all_titles)\n",
        "\n",
        "Close_Match = Find_Close_Match[0]\n",
        "\n",
        "Index_Of_Movie = dataframe[dataframe.Movie_Title == Close_Match]['Movie_ID'].values[0]\n",
        "\n",
        "Recomendation_Score = list(enumerate(similarity_score[Index_Of_Movie]))\n",
        "\n",
        "Sorted_Similar_Movie = sorted(Recomendation_Score, key = lambda x:x[1], reverse = True)\n",
        "\n",
        "print(\"Top 10 Movies Suggested for you \\n\")\n",
        "\n",
        "i = 0\n",
        "for movie in Sorted_Similar_Movie:\n",
        "    index = movie[0]\n",
        "    title_from_index = dataframe[dataframe.index == index]['Movie_Title'].values[0]\n",
        "    if i <= 10:\n",
        "        print(i, '.', title_from_index);\n",
        "        i+=1\n"
      ],
      "metadata": {
        "colab": {
          "base_uri": "https://localhost:8080/"
        },
        "id": "GE0Pw_oU_AN-",
        "outputId": "b9011e7f-23ad-4ee8-dcec-a0cd2100bc93"
      },
      "execution_count": null,
      "outputs": [
        {
          "output_type": "stream",
          "name": "stdout",
          "text": [
            "Enter your favourite movie name : Top Gun\n",
            "Top 10 Movies Suggested for you \n",
            "\n",
            "0 . The Sixth Sense\n",
            "1 . The Gift\n",
            "2 . Mystic River\n",
            "3 . The Jungle Book 2\n",
            "4 . A.I. Artificial Intelligence\n",
            "5 . Secondhand Lions\n",
            "6 . Oliver Twist\n",
            "7 . Monster's Ball\n",
            "8 . The Last Samurai\n",
            "9 . Pay It Forward\n",
            "10 . Gone with the Wind\n"
          ]
        }
      ]
    }
  ]
}